{
  "nbformat": 4,
  "nbformat_minor": 0,
  "metadata": {
    "accelerator": "GPU",
    "colab": {
      "name": "Punctuation_Turkish_BERT_punc.ipynb",
      "provenance": [],
      "collapsed_sections": [],
      "toc_visible": true,
      "machine_shape": "hm"
    },
    "kernelspec": {
      "display_name": "Python 3",
      "language": "python",
      "name": "python3"
    },
    "language_info": {
      "codemirror_mode": {
        "name": "ipython",
        "version": 3
      },
      "file_extension": ".py",
      "mimetype": "text/x-python",
      "name": "python",
      "nbconvert_exporter": "python",
      "pygments_lexer": "ipython3",
      "version": "3.7.9"
    },
    "widgets": {
      "application/vnd.jupyter.widget-state+json": {
        "aedf48315a054a81af9691331bcc7f64": {
          "model_module": "@jupyter-widgets/controls",
          "model_name": "HBoxModel",
          "state": {
            "_view_name": "HBoxView",
            "_dom_classes": [],
            "_model_name": "HBoxModel",
            "_view_module": "@jupyter-widgets/controls",
            "_model_module_version": "1.5.0",
            "_view_count": null,
            "_view_module_version": "1.5.0",
            "box_style": "",
            "layout": "IPY_MODEL_fadca6f0e40642c4ab2cbe0b247541f3",
            "_model_module": "@jupyter-widgets/controls",
            "children": [
              "IPY_MODEL_434612025be44957a3d0d72fe949b45e",
              "IPY_MODEL_e79102c56eb4443c95980267021b2d0b"
            ]
          }
        },
        "fadca6f0e40642c4ab2cbe0b247541f3": {
          "model_module": "@jupyter-widgets/base",
          "model_name": "LayoutModel",
          "state": {
            "_view_name": "LayoutView",
            "grid_template_rows": null,
            "right": null,
            "justify_content": null,
            "_view_module": "@jupyter-widgets/base",
            "overflow": null,
            "_model_module_version": "1.2.0",
            "_view_count": null,
            "flex_flow": null,
            "width": null,
            "min_width": null,
            "border": null,
            "align_items": null,
            "bottom": null,
            "_model_module": "@jupyter-widgets/base",
            "top": null,
            "grid_column": null,
            "overflow_y": null,
            "overflow_x": null,
            "grid_auto_flow": null,
            "grid_area": null,
            "grid_template_columns": null,
            "flex": null,
            "_model_name": "LayoutModel",
            "justify_items": null,
            "grid_row": null,
            "max_height": null,
            "align_content": null,
            "visibility": null,
            "align_self": null,
            "height": null,
            "min_height": null,
            "padding": null,
            "grid_auto_rows": null,
            "grid_gap": null,
            "max_width": null,
            "order": null,
            "_view_module_version": "1.2.0",
            "grid_template_areas": null,
            "object_position": null,
            "object_fit": null,
            "grid_auto_columns": null,
            "margin": null,
            "display": null,
            "left": null
          }
        },
        "434612025be44957a3d0d72fe949b45e": {
          "model_module": "@jupyter-widgets/controls",
          "model_name": "FloatProgressModel",
          "state": {
            "_view_name": "ProgressView",
            "style": "IPY_MODEL_7279419427ad4a849a0d3009171a726c",
            "_dom_classes": [],
            "description": "Downloading: 100%",
            "_model_name": "FloatProgressModel",
            "bar_style": "success",
            "max": 871891,
            "_view_module": "@jupyter-widgets/controls",
            "_model_module_version": "1.5.0",
            "value": 871891,
            "_view_count": null,
            "_view_module_version": "1.5.0",
            "orientation": "horizontal",
            "min": 0,
            "description_tooltip": null,
            "_model_module": "@jupyter-widgets/controls",
            "layout": "IPY_MODEL_855ef3ce612a4f789476b7f7a0077ebd"
          }
        },
        "e79102c56eb4443c95980267021b2d0b": {
          "model_module": "@jupyter-widgets/controls",
          "model_name": "HTMLModel",
          "state": {
            "_view_name": "HTMLView",
            "style": "IPY_MODEL_7ae516f6c77b4201866e2eb7f0b5a1c6",
            "_dom_classes": [],
            "description": "",
            "_model_name": "HTMLModel",
            "placeholder": "​",
            "_view_module": "@jupyter-widgets/controls",
            "_model_module_version": "1.5.0",
            "value": " 872k/872k [00:00&lt;00:00, 1.48MB/s]",
            "_view_count": null,
            "_view_module_version": "1.5.0",
            "description_tooltip": null,
            "_model_module": "@jupyter-widgets/controls",
            "layout": "IPY_MODEL_b183a836e19840868eb6086432f3b2a3"
          }
        },
        "7279419427ad4a849a0d3009171a726c": {
          "model_module": "@jupyter-widgets/controls",
          "model_name": "ProgressStyleModel",
          "state": {
            "_view_name": "StyleView",
            "_model_name": "ProgressStyleModel",
            "description_width": "initial",
            "_view_module": "@jupyter-widgets/base",
            "_model_module_version": "1.5.0",
            "_view_count": null,
            "_view_module_version": "1.2.0",
            "bar_color": null,
            "_model_module": "@jupyter-widgets/controls"
          }
        },
        "855ef3ce612a4f789476b7f7a0077ebd": {
          "model_module": "@jupyter-widgets/base",
          "model_name": "LayoutModel",
          "state": {
            "_view_name": "LayoutView",
            "grid_template_rows": null,
            "right": null,
            "justify_content": null,
            "_view_module": "@jupyter-widgets/base",
            "overflow": null,
            "_model_module_version": "1.2.0",
            "_view_count": null,
            "flex_flow": null,
            "width": null,
            "min_width": null,
            "border": null,
            "align_items": null,
            "bottom": null,
            "_model_module": "@jupyter-widgets/base",
            "top": null,
            "grid_column": null,
            "overflow_y": null,
            "overflow_x": null,
            "grid_auto_flow": null,
            "grid_area": null,
            "grid_template_columns": null,
            "flex": null,
            "_model_name": "LayoutModel",
            "justify_items": null,
            "grid_row": null,
            "max_height": null,
            "align_content": null,
            "visibility": null,
            "align_self": null,
            "height": null,
            "min_height": null,
            "padding": null,
            "grid_auto_rows": null,
            "grid_gap": null,
            "max_width": null,
            "order": null,
            "_view_module_version": "1.2.0",
            "grid_template_areas": null,
            "object_position": null,
            "object_fit": null,
            "grid_auto_columns": null,
            "margin": null,
            "display": null,
            "left": null
          }
        },
        "7ae516f6c77b4201866e2eb7f0b5a1c6": {
          "model_module": "@jupyter-widgets/controls",
          "model_name": "DescriptionStyleModel",
          "state": {
            "_view_name": "StyleView",
            "_model_name": "DescriptionStyleModel",
            "description_width": "",
            "_view_module": "@jupyter-widgets/base",
            "_model_module_version": "1.5.0",
            "_view_count": null,
            "_view_module_version": "1.2.0",
            "_model_module": "@jupyter-widgets/controls"
          }
        },
        "b183a836e19840868eb6086432f3b2a3": {
          "model_module": "@jupyter-widgets/base",
          "model_name": "LayoutModel",
          "state": {
            "_view_name": "LayoutView",
            "grid_template_rows": null,
            "right": null,
            "justify_content": null,
            "_view_module": "@jupyter-widgets/base",
            "overflow": null,
            "_model_module_version": "1.2.0",
            "_view_count": null,
            "flex_flow": null,
            "width": null,
            "min_width": null,
            "border": null,
            "align_items": null,
            "bottom": null,
            "_model_module": "@jupyter-widgets/base",
            "top": null,
            "grid_column": null,
            "overflow_y": null,
            "overflow_x": null,
            "grid_auto_flow": null,
            "grid_area": null,
            "grid_template_columns": null,
            "flex": null,
            "_model_name": "LayoutModel",
            "justify_items": null,
            "grid_row": null,
            "max_height": null,
            "align_content": null,
            "visibility": null,
            "align_self": null,
            "height": null,
            "min_height": null,
            "padding": null,
            "grid_auto_rows": null,
            "grid_gap": null,
            "max_width": null,
            "order": null,
            "_view_module_version": "1.2.0",
            "grid_template_areas": null,
            "object_position": null,
            "object_fit": null,
            "grid_auto_columns": null,
            "margin": null,
            "display": null,
            "left": null
          }
        },
        "c657e982e9e244d3b895b4abfba6fa0a": {
          "model_module": "@jupyter-widgets/controls",
          "model_name": "HBoxModel",
          "state": {
            "_view_name": "HBoxView",
            "_dom_classes": [],
            "_model_name": "HBoxModel",
            "_view_module": "@jupyter-widgets/controls",
            "_model_module_version": "1.5.0",
            "_view_count": null,
            "_view_module_version": "1.5.0",
            "box_style": "",
            "layout": "IPY_MODEL_4efb97b60b3e425bab2098a1c8b66c17",
            "_model_module": "@jupyter-widgets/controls",
            "children": [
              "IPY_MODEL_3654bb107ec64f4c902eccdf3096c2ea",
              "IPY_MODEL_24bef445eefb44ef989611c97bc2c8ce"
            ]
          }
        },
        "4efb97b60b3e425bab2098a1c8b66c17": {
          "model_module": "@jupyter-widgets/base",
          "model_name": "LayoutModel",
          "state": {
            "_view_name": "LayoutView",
            "grid_template_rows": null,
            "right": null,
            "justify_content": null,
            "_view_module": "@jupyter-widgets/base",
            "overflow": null,
            "_model_module_version": "1.2.0",
            "_view_count": null,
            "flex_flow": null,
            "width": null,
            "min_width": null,
            "border": null,
            "align_items": null,
            "bottom": null,
            "_model_module": "@jupyter-widgets/base",
            "top": null,
            "grid_column": null,
            "overflow_y": null,
            "overflow_x": null,
            "grid_auto_flow": null,
            "grid_area": null,
            "grid_template_columns": null,
            "flex": null,
            "_model_name": "LayoutModel",
            "justify_items": null,
            "grid_row": null,
            "max_height": null,
            "align_content": null,
            "visibility": null,
            "align_self": null,
            "height": null,
            "min_height": null,
            "padding": null,
            "grid_auto_rows": null,
            "grid_gap": null,
            "max_width": null,
            "order": null,
            "_view_module_version": "1.2.0",
            "grid_template_areas": null,
            "object_position": null,
            "object_fit": null,
            "grid_auto_columns": null,
            "margin": null,
            "display": null,
            "left": null
          }
        },
        "3654bb107ec64f4c902eccdf3096c2ea": {
          "model_module": "@jupyter-widgets/controls",
          "model_name": "FloatProgressModel",
          "state": {
            "_view_name": "ProgressView",
            "style": "IPY_MODEL_e671800c5439418e8bddfb293cf6886c",
            "_dom_classes": [],
            "description": "Downloading: 100%",
            "_model_name": "FloatProgressModel",
            "bar_style": "success",
            "max": 625,
            "_view_module": "@jupyter-widgets/controls",
            "_model_module_version": "1.5.0",
            "value": 625,
            "_view_count": null,
            "_view_module_version": "1.5.0",
            "orientation": "horizontal",
            "min": 0,
            "description_tooltip": null,
            "_model_module": "@jupyter-widgets/controls",
            "layout": "IPY_MODEL_2517c5fdf0db41949851eb91fa3dcdde"
          }
        },
        "24bef445eefb44ef989611c97bc2c8ce": {
          "model_module": "@jupyter-widgets/controls",
          "model_name": "HTMLModel",
          "state": {
            "_view_name": "HTMLView",
            "style": "IPY_MODEL_ae0eecc1f050477ab7c44141c2aed60e",
            "_dom_classes": [],
            "description": "",
            "_model_name": "HTMLModel",
            "placeholder": "​",
            "_view_module": "@jupyter-widgets/controls",
            "_model_module_version": "1.5.0",
            "value": " 625/625 [00:00&lt;00:00, 2.08kB/s]",
            "_view_count": null,
            "_view_module_version": "1.5.0",
            "description_tooltip": null,
            "_model_module": "@jupyter-widgets/controls",
            "layout": "IPY_MODEL_ac2115d6cdcb4f38afbaebcae7f3ce06"
          }
        },
        "e671800c5439418e8bddfb293cf6886c": {
          "model_module": "@jupyter-widgets/controls",
          "model_name": "ProgressStyleModel",
          "state": {
            "_view_name": "StyleView",
            "_model_name": "ProgressStyleModel",
            "description_width": "initial",
            "_view_module": "@jupyter-widgets/base",
            "_model_module_version": "1.5.0",
            "_view_count": null,
            "_view_module_version": "1.2.0",
            "bar_color": null,
            "_model_module": "@jupyter-widgets/controls"
          }
        },
        "2517c5fdf0db41949851eb91fa3dcdde": {
          "model_module": "@jupyter-widgets/base",
          "model_name": "LayoutModel",
          "state": {
            "_view_name": "LayoutView",
            "grid_template_rows": null,
            "right": null,
            "justify_content": null,
            "_view_module": "@jupyter-widgets/base",
            "overflow": null,
            "_model_module_version": "1.2.0",
            "_view_count": null,
            "flex_flow": null,
            "width": null,
            "min_width": null,
            "border": null,
            "align_items": null,
            "bottom": null,
            "_model_module": "@jupyter-widgets/base",
            "top": null,
            "grid_column": null,
            "overflow_y": null,
            "overflow_x": null,
            "grid_auto_flow": null,
            "grid_area": null,
            "grid_template_columns": null,
            "flex": null,
            "_model_name": "LayoutModel",
            "justify_items": null,
            "grid_row": null,
            "max_height": null,
            "align_content": null,
            "visibility": null,
            "align_self": null,
            "height": null,
            "min_height": null,
            "padding": null,
            "grid_auto_rows": null,
            "grid_gap": null,
            "max_width": null,
            "order": null,
            "_view_module_version": "1.2.0",
            "grid_template_areas": null,
            "object_position": null,
            "object_fit": null,
            "grid_auto_columns": null,
            "margin": null,
            "display": null,
            "left": null
          }
        },
        "ae0eecc1f050477ab7c44141c2aed60e": {
          "model_module": "@jupyter-widgets/controls",
          "model_name": "DescriptionStyleModel",
          "state": {
            "_view_name": "StyleView",
            "_model_name": "DescriptionStyleModel",
            "description_width": "",
            "_view_module": "@jupyter-widgets/base",
            "_model_module_version": "1.5.0",
            "_view_count": null,
            "_view_module_version": "1.2.0",
            "_model_module": "@jupyter-widgets/controls"
          }
        },
        "ac2115d6cdcb4f38afbaebcae7f3ce06": {
          "model_module": "@jupyter-widgets/base",
          "model_name": "LayoutModel",
          "state": {
            "_view_name": "LayoutView",
            "grid_template_rows": null,
            "right": null,
            "justify_content": null,
            "_view_module": "@jupyter-widgets/base",
            "overflow": null,
            "_model_module_version": "1.2.0",
            "_view_count": null,
            "flex_flow": null,
            "width": null,
            "min_width": null,
            "border": null,
            "align_items": null,
            "bottom": null,
            "_model_module": "@jupyter-widgets/base",
            "top": null,
            "grid_column": null,
            "overflow_y": null,
            "overflow_x": null,
            "grid_auto_flow": null,
            "grid_area": null,
            "grid_template_columns": null,
            "flex": null,
            "_model_name": "LayoutModel",
            "justify_items": null,
            "grid_row": null,
            "max_height": null,
            "align_content": null,
            "visibility": null,
            "align_self": null,
            "height": null,
            "min_height": null,
            "padding": null,
            "grid_auto_rows": null,
            "grid_gap": null,
            "max_width": null,
            "order": null,
            "_view_module_version": "1.2.0",
            "grid_template_areas": null,
            "object_position": null,
            "object_fit": null,
            "grid_auto_columns": null,
            "margin": null,
            "display": null,
            "left": null
          }
        },
        "88404531830440aba4b177fcf7c8ab77": {
          "model_module": "@jupyter-widgets/controls",
          "model_name": "HBoxModel",
          "state": {
            "_view_name": "HBoxView",
            "_dom_classes": [],
            "_model_name": "HBoxModel",
            "_view_module": "@jupyter-widgets/controls",
            "_model_module_version": "1.5.0",
            "_view_count": null,
            "_view_module_version": "1.5.0",
            "box_style": "",
            "layout": "IPY_MODEL_39008ae1b78242af9137e60c8c9fb0c3",
            "_model_module": "@jupyter-widgets/controls",
            "children": [
              "IPY_MODEL_3ca2ade2f49d4f7faf859b1c185ae4dc",
              "IPY_MODEL_0f6c130286f347e1bbe249a6fccb1d0b"
            ]
          }
        },
        "39008ae1b78242af9137e60c8c9fb0c3": {
          "model_module": "@jupyter-widgets/base",
          "model_name": "LayoutModel",
          "state": {
            "_view_name": "LayoutView",
            "grid_template_rows": null,
            "right": null,
            "justify_content": null,
            "_view_module": "@jupyter-widgets/base",
            "overflow": null,
            "_model_module_version": "1.2.0",
            "_view_count": null,
            "flex_flow": null,
            "width": null,
            "min_width": null,
            "border": null,
            "align_items": null,
            "bottom": null,
            "_model_module": "@jupyter-widgets/base",
            "top": null,
            "grid_column": null,
            "overflow_y": null,
            "overflow_x": null,
            "grid_auto_flow": null,
            "grid_area": null,
            "grid_template_columns": null,
            "flex": null,
            "_model_name": "LayoutModel",
            "justify_items": null,
            "grid_row": null,
            "max_height": null,
            "align_content": null,
            "visibility": null,
            "align_self": null,
            "height": null,
            "min_height": null,
            "padding": null,
            "grid_auto_rows": null,
            "grid_gap": null,
            "max_width": null,
            "order": null,
            "_view_module_version": "1.2.0",
            "grid_template_areas": null,
            "object_position": null,
            "object_fit": null,
            "grid_auto_columns": null,
            "margin": null,
            "display": null,
            "left": null
          }
        },
        "3ca2ade2f49d4f7faf859b1c185ae4dc": {
          "model_module": "@jupyter-widgets/controls",
          "model_name": "FloatProgressModel",
          "state": {
            "_view_name": "ProgressView",
            "style": "IPY_MODEL_f296b726863342aabd14a949f259a3cd",
            "_dom_classes": [],
            "description": "Downloading: 100%",
            "_model_name": "FloatProgressModel",
            "bar_style": "success",
            "max": 672271273,
            "_view_module": "@jupyter-widgets/controls",
            "_model_module_version": "1.5.0",
            "value": 672271273,
            "_view_count": null,
            "_view_module_version": "1.5.0",
            "orientation": "horizontal",
            "min": 0,
            "description_tooltip": null,
            "_model_module": "@jupyter-widgets/controls",
            "layout": "IPY_MODEL_1fd5990488784ff19aac13f42943c7bd"
          }
        },
        "0f6c130286f347e1bbe249a6fccb1d0b": {
          "model_module": "@jupyter-widgets/controls",
          "model_name": "HTMLModel",
          "state": {
            "_view_name": "HTMLView",
            "style": "IPY_MODEL_799d6b8452584491b979d25af0416a3a",
            "_dom_classes": [],
            "description": "",
            "_model_name": "HTMLModel",
            "placeholder": "​",
            "_view_module": "@jupyter-widgets/controls",
            "_model_module_version": "1.5.0",
            "value": " 672M/672M [00:12&lt;00:00, 53.5MB/s]",
            "_view_count": null,
            "_view_module_version": "1.5.0",
            "description_tooltip": null,
            "_model_module": "@jupyter-widgets/controls",
            "layout": "IPY_MODEL_280b0ebe20534f86a6080b7d95080426"
          }
        },
        "f296b726863342aabd14a949f259a3cd": {
          "model_module": "@jupyter-widgets/controls",
          "model_name": "ProgressStyleModel",
          "state": {
            "_view_name": "StyleView",
            "_model_name": "ProgressStyleModel",
            "description_width": "initial",
            "_view_module": "@jupyter-widgets/base",
            "_model_module_version": "1.5.0",
            "_view_count": null,
            "_view_module_version": "1.2.0",
            "bar_color": null,
            "_model_module": "@jupyter-widgets/controls"
          }
        },
        "1fd5990488784ff19aac13f42943c7bd": {
          "model_module": "@jupyter-widgets/base",
          "model_name": "LayoutModel",
          "state": {
            "_view_name": "LayoutView",
            "grid_template_rows": null,
            "right": null,
            "justify_content": null,
            "_view_module": "@jupyter-widgets/base",
            "overflow": null,
            "_model_module_version": "1.2.0",
            "_view_count": null,
            "flex_flow": null,
            "width": null,
            "min_width": null,
            "border": null,
            "align_items": null,
            "bottom": null,
            "_model_module": "@jupyter-widgets/base",
            "top": null,
            "grid_column": null,
            "overflow_y": null,
            "overflow_x": null,
            "grid_auto_flow": null,
            "grid_area": null,
            "grid_template_columns": null,
            "flex": null,
            "_model_name": "LayoutModel",
            "justify_items": null,
            "grid_row": null,
            "max_height": null,
            "align_content": null,
            "visibility": null,
            "align_self": null,
            "height": null,
            "min_height": null,
            "padding": null,
            "grid_auto_rows": null,
            "grid_gap": null,
            "max_width": null,
            "order": null,
            "_view_module_version": "1.2.0",
            "grid_template_areas": null,
            "object_position": null,
            "object_fit": null,
            "grid_auto_columns": null,
            "margin": null,
            "display": null,
            "left": null
          }
        },
        "799d6b8452584491b979d25af0416a3a": {
          "model_module": "@jupyter-widgets/controls",
          "model_name": "DescriptionStyleModel",
          "state": {
            "_view_name": "StyleView",
            "_model_name": "DescriptionStyleModel",
            "description_width": "",
            "_view_module": "@jupyter-widgets/base",
            "_model_module_version": "1.5.0",
            "_view_count": null,
            "_view_module_version": "1.2.0",
            "_model_module": "@jupyter-widgets/controls"
          }
        },
        "280b0ebe20534f86a6080b7d95080426": {
          "model_module": "@jupyter-widgets/base",
          "model_name": "LayoutModel",
          "state": {
            "_view_name": "LayoutView",
            "grid_template_rows": null,
            "right": null,
            "justify_content": null,
            "_view_module": "@jupyter-widgets/base",
            "overflow": null,
            "_model_module_version": "1.2.0",
            "_view_count": null,
            "flex_flow": null,
            "width": null,
            "min_width": null,
            "border": null,
            "align_items": null,
            "bottom": null,
            "_model_module": "@jupyter-widgets/base",
            "top": null,
            "grid_column": null,
            "overflow_y": null,
            "overflow_x": null,
            "grid_auto_flow": null,
            "grid_area": null,
            "grid_template_columns": null,
            "flex": null,
            "_model_name": "LayoutModel",
            "justify_items": null,
            "grid_row": null,
            "max_height": null,
            "align_content": null,
            "visibility": null,
            "align_self": null,
            "height": null,
            "min_height": null,
            "padding": null,
            "grid_auto_rows": null,
            "grid_gap": null,
            "max_width": null,
            "order": null,
            "_view_module_version": "1.2.0",
            "grid_template_areas": null,
            "object_position": null,
            "object_fit": null,
            "grid_auto_columns": null,
            "margin": null,
            "display": null,
            "left": null
          }
        },
        "98a873121afc48d5b8107da0a3b8ea6e": {
          "model_module": "@jupyter-widgets/controls",
          "model_name": "HBoxModel",
          "state": {
            "_view_name": "HBoxView",
            "_dom_classes": [],
            "_model_name": "HBoxModel",
            "_view_module": "@jupyter-widgets/controls",
            "_model_module_version": "1.5.0",
            "_view_count": null,
            "_view_module_version": "1.5.0",
            "box_style": "",
            "layout": "IPY_MODEL_39de3e1b5824427ebfb7c6fb3f0dce29",
            "_model_module": "@jupyter-widgets/controls",
            "children": [
              "IPY_MODEL_0b0724da6dfa4d83a6300a9f78f35189",
              "IPY_MODEL_3102a330c9494b628d4794e857aca606"
            ]
          }
        },
        "39de3e1b5824427ebfb7c6fb3f0dce29": {
          "model_module": "@jupyter-widgets/base",
          "model_name": "LayoutModel",
          "state": {
            "_view_name": "LayoutView",
            "grid_template_rows": null,
            "right": null,
            "justify_content": null,
            "_view_module": "@jupyter-widgets/base",
            "overflow": null,
            "_model_module_version": "1.2.0",
            "_view_count": null,
            "flex_flow": null,
            "width": null,
            "min_width": null,
            "border": null,
            "align_items": null,
            "bottom": null,
            "_model_module": "@jupyter-widgets/base",
            "top": null,
            "grid_column": null,
            "overflow_y": null,
            "overflow_x": null,
            "grid_auto_flow": null,
            "grid_area": null,
            "grid_template_columns": null,
            "flex": null,
            "_model_name": "LayoutModel",
            "justify_items": null,
            "grid_row": null,
            "max_height": null,
            "align_content": null,
            "visibility": null,
            "align_self": null,
            "height": null,
            "min_height": null,
            "padding": null,
            "grid_auto_rows": null,
            "grid_gap": null,
            "max_width": null,
            "order": null,
            "_view_module_version": "1.2.0",
            "grid_template_areas": null,
            "object_position": null,
            "object_fit": null,
            "grid_auto_columns": null,
            "margin": null,
            "display": null,
            "left": null
          }
        },
        "0b0724da6dfa4d83a6300a9f78f35189": {
          "model_module": "@jupyter-widgets/controls",
          "model_name": "FloatProgressModel",
          "state": {
            "_view_name": "ProgressView",
            "style": "IPY_MODEL_33678d8c670e4c1cbd72e67a18a8627f",
            "_dom_classes": [],
            "description": "Downloading: 100%",
            "_model_name": "FloatProgressModel",
            "bar_style": "success",
            "max": 442,
            "_view_module": "@jupyter-widgets/controls",
            "_model_module_version": "1.5.0",
            "value": 442,
            "_view_count": null,
            "_view_module_version": "1.5.0",
            "orientation": "horizontal",
            "min": 0,
            "description_tooltip": null,
            "_model_module": "@jupyter-widgets/controls",
            "layout": "IPY_MODEL_8efe0db9fab849d4915db1f67a2750f7"
          }
        },
        "3102a330c9494b628d4794e857aca606": {
          "model_module": "@jupyter-widgets/controls",
          "model_name": "HTMLModel",
          "state": {
            "_view_name": "HTMLView",
            "style": "IPY_MODEL_f2e1a927586040499bf663e526373d9e",
            "_dom_classes": [],
            "description": "",
            "_model_name": "HTMLModel",
            "placeholder": "​",
            "_view_module": "@jupyter-widgets/controls",
            "_model_module_version": "1.5.0",
            "value": " 442/442 [00:00&lt;00:00, 754B/s]",
            "_view_count": null,
            "_view_module_version": "1.5.0",
            "description_tooltip": null,
            "_model_module": "@jupyter-widgets/controls",
            "layout": "IPY_MODEL_34a56b0387574fea89b4e5d2517e8569"
          }
        },
        "33678d8c670e4c1cbd72e67a18a8627f": {
          "model_module": "@jupyter-widgets/controls",
          "model_name": "ProgressStyleModel",
          "state": {
            "_view_name": "StyleView",
            "_model_name": "ProgressStyleModel",
            "description_width": "initial",
            "_view_module": "@jupyter-widgets/base",
            "_model_module_version": "1.5.0",
            "_view_count": null,
            "_view_module_version": "1.2.0",
            "bar_color": null,
            "_model_module": "@jupyter-widgets/controls"
          }
        },
        "8efe0db9fab849d4915db1f67a2750f7": {
          "model_module": "@jupyter-widgets/base",
          "model_name": "LayoutModel",
          "state": {
            "_view_name": "LayoutView",
            "grid_template_rows": null,
            "right": null,
            "justify_content": null,
            "_view_module": "@jupyter-widgets/base",
            "overflow": null,
            "_model_module_version": "1.2.0",
            "_view_count": null,
            "flex_flow": null,
            "width": null,
            "min_width": null,
            "border": null,
            "align_items": null,
            "bottom": null,
            "_model_module": "@jupyter-widgets/base",
            "top": null,
            "grid_column": null,
            "overflow_y": null,
            "overflow_x": null,
            "grid_auto_flow": null,
            "grid_area": null,
            "grid_template_columns": null,
            "flex": null,
            "_model_name": "LayoutModel",
            "justify_items": null,
            "grid_row": null,
            "max_height": null,
            "align_content": null,
            "visibility": null,
            "align_self": null,
            "height": null,
            "min_height": null,
            "padding": null,
            "grid_auto_rows": null,
            "grid_gap": null,
            "max_width": null,
            "order": null,
            "_view_module_version": "1.2.0",
            "grid_template_areas": null,
            "object_position": null,
            "object_fit": null,
            "grid_auto_columns": null,
            "margin": null,
            "display": null,
            "left": null
          }
        },
        "f2e1a927586040499bf663e526373d9e": {
          "model_module": "@jupyter-widgets/controls",
          "model_name": "DescriptionStyleModel",
          "state": {
            "_view_name": "StyleView",
            "_model_name": "DescriptionStyleModel",
            "description_width": "",
            "_view_module": "@jupyter-widgets/base",
            "_model_module_version": "1.5.0",
            "_view_count": null,
            "_view_module_version": "1.2.0",
            "_model_module": "@jupyter-widgets/controls"
          }
        },
        "34a56b0387574fea89b4e5d2517e8569": {
          "model_module": "@jupyter-widgets/base",
          "model_name": "LayoutModel",
          "state": {
            "_view_name": "LayoutView",
            "grid_template_rows": null,
            "right": null,
            "justify_content": null,
            "_view_module": "@jupyter-widgets/base",
            "overflow": null,
            "_model_module_version": "1.2.0",
            "_view_count": null,
            "flex_flow": null,
            "width": null,
            "min_width": null,
            "border": null,
            "align_items": null,
            "bottom": null,
            "_model_module": "@jupyter-widgets/base",
            "top": null,
            "grid_column": null,
            "overflow_y": null,
            "overflow_x": null,
            "grid_auto_flow": null,
            "grid_area": null,
            "grid_template_columns": null,
            "flex": null,
            "_model_name": "LayoutModel",
            "justify_items": null,
            "grid_row": null,
            "max_height": null,
            "align_content": null,
            "visibility": null,
            "align_self": null,
            "height": null,
            "min_height": null,
            "padding": null,
            "grid_auto_rows": null,
            "grid_gap": null,
            "max_width": null,
            "order": null,
            "_view_module_version": "1.2.0",
            "grid_template_areas": null,
            "object_position": null,
            "object_fit": null,
            "grid_auto_columns": null,
            "margin": null,
            "display": null,
            "left": null
          }
        },
        "651da0da93254bcb918e51d871852cf8": {
          "model_module": "@jupyter-widgets/controls",
          "model_name": "HBoxModel",
          "state": {
            "_view_name": "HBoxView",
            "_dom_classes": [],
            "_model_name": "HBoxModel",
            "_view_module": "@jupyter-widgets/controls",
            "_model_module_version": "1.5.0",
            "_view_count": null,
            "_view_module_version": "1.5.0",
            "box_style": "",
            "layout": "IPY_MODEL_59cf6d121ae4431a995bc2a70060d599",
            "_model_module": "@jupyter-widgets/controls",
            "children": [
              "IPY_MODEL_99d349dd57634888b9c5358cf1011af2",
              "IPY_MODEL_0b0d7873a7cd42ea86c234735dba4a53"
            ]
          }
        },
        "59cf6d121ae4431a995bc2a70060d599": {
          "model_module": "@jupyter-widgets/base",
          "model_name": "LayoutModel",
          "state": {
            "_view_name": "LayoutView",
            "grid_template_rows": null,
            "right": null,
            "justify_content": null,
            "_view_module": "@jupyter-widgets/base",
            "overflow": null,
            "_model_module_version": "1.2.0",
            "_view_count": null,
            "flex_flow": null,
            "width": null,
            "min_width": null,
            "border": null,
            "align_items": null,
            "bottom": null,
            "_model_module": "@jupyter-widgets/base",
            "top": null,
            "grid_column": null,
            "overflow_y": null,
            "overflow_x": null,
            "grid_auto_flow": null,
            "grid_area": null,
            "grid_template_columns": null,
            "flex": null,
            "_model_name": "LayoutModel",
            "justify_items": null,
            "grid_row": null,
            "max_height": null,
            "align_content": null,
            "visibility": null,
            "align_self": null,
            "height": null,
            "min_height": null,
            "padding": null,
            "grid_auto_rows": null,
            "grid_gap": null,
            "max_width": null,
            "order": null,
            "_view_module_version": "1.2.0",
            "grid_template_areas": null,
            "object_position": null,
            "object_fit": null,
            "grid_auto_columns": null,
            "margin": null,
            "display": null,
            "left": null
          }
        },
        "99d349dd57634888b9c5358cf1011af2": {
          "model_module": "@jupyter-widgets/controls",
          "model_name": "FloatProgressModel",
          "state": {
            "_view_name": "ProgressView",
            "style": "IPY_MODEL_c25e56ab2e2c477bbb221c2cafea3c58",
            "_dom_classes": [],
            "description": "Downloading: 100%",
            "_model_name": "FloatProgressModel",
            "bar_style": "success",
            "max": 231508,
            "_view_module": "@jupyter-widgets/controls",
            "_model_module_version": "1.5.0",
            "value": 231508,
            "_view_count": null,
            "_view_module_version": "1.5.0",
            "orientation": "horizontal",
            "min": 0,
            "description_tooltip": null,
            "_model_module": "@jupyter-widgets/controls",
            "layout": "IPY_MODEL_aa0e0979d45f4999b9e84721eaa32a0b"
          }
        },
        "0b0d7873a7cd42ea86c234735dba4a53": {
          "model_module": "@jupyter-widgets/controls",
          "model_name": "HTMLModel",
          "state": {
            "_view_name": "HTMLView",
            "style": "IPY_MODEL_24c51385baa44716af150735233c5069",
            "_dom_classes": [],
            "description": "",
            "_model_name": "HTMLModel",
            "placeholder": "​",
            "_view_module": "@jupyter-widgets/controls",
            "_model_module_version": "1.5.0",
            "value": " 232k/232k [00:08&lt;00:00, 26.6kB/s]",
            "_view_count": null,
            "_view_module_version": "1.5.0",
            "description_tooltip": null,
            "_model_module": "@jupyter-widgets/controls",
            "layout": "IPY_MODEL_e597ffecdd60494db0d0fa361a5b6da8"
          }
        },
        "c25e56ab2e2c477bbb221c2cafea3c58": {
          "model_module": "@jupyter-widgets/controls",
          "model_name": "ProgressStyleModel",
          "state": {
            "_view_name": "StyleView",
            "_model_name": "ProgressStyleModel",
            "description_width": "initial",
            "_view_module": "@jupyter-widgets/base",
            "_model_module_version": "1.5.0",
            "_view_count": null,
            "_view_module_version": "1.2.0",
            "bar_color": null,
            "_model_module": "@jupyter-widgets/controls"
          }
        },
        "aa0e0979d45f4999b9e84721eaa32a0b": {
          "model_module": "@jupyter-widgets/base",
          "model_name": "LayoutModel",
          "state": {
            "_view_name": "LayoutView",
            "grid_template_rows": null,
            "right": null,
            "justify_content": null,
            "_view_module": "@jupyter-widgets/base",
            "overflow": null,
            "_model_module_version": "1.2.0",
            "_view_count": null,
            "flex_flow": null,
            "width": null,
            "min_width": null,
            "border": null,
            "align_items": null,
            "bottom": null,
            "_model_module": "@jupyter-widgets/base",
            "top": null,
            "grid_column": null,
            "overflow_y": null,
            "overflow_x": null,
            "grid_auto_flow": null,
            "grid_area": null,
            "grid_template_columns": null,
            "flex": null,
            "_model_name": "LayoutModel",
            "justify_items": null,
            "grid_row": null,
            "max_height": null,
            "align_content": null,
            "visibility": null,
            "align_self": null,
            "height": null,
            "min_height": null,
            "padding": null,
            "grid_auto_rows": null,
            "grid_gap": null,
            "max_width": null,
            "order": null,
            "_view_module_version": "1.2.0",
            "grid_template_areas": null,
            "object_position": null,
            "object_fit": null,
            "grid_auto_columns": null,
            "margin": null,
            "display": null,
            "left": null
          }
        },
        "24c51385baa44716af150735233c5069": {
          "model_module": "@jupyter-widgets/controls",
          "model_name": "DescriptionStyleModel",
          "state": {
            "_view_name": "StyleView",
            "_model_name": "DescriptionStyleModel",
            "description_width": "",
            "_view_module": "@jupyter-widgets/base",
            "_model_module_version": "1.5.0",
            "_view_count": null,
            "_view_module_version": "1.2.0",
            "_model_module": "@jupyter-widgets/controls"
          }
        },
        "e597ffecdd60494db0d0fa361a5b6da8": {
          "model_module": "@jupyter-widgets/base",
          "model_name": "LayoutModel",
          "state": {
            "_view_name": "LayoutView",
            "grid_template_rows": null,
            "right": null,
            "justify_content": null,
            "_view_module": "@jupyter-widgets/base",
            "overflow": null,
            "_model_module_version": "1.2.0",
            "_view_count": null,
            "flex_flow": null,
            "width": null,
            "min_width": null,
            "border": null,
            "align_items": null,
            "bottom": null,
            "_model_module": "@jupyter-widgets/base",
            "top": null,
            "grid_column": null,
            "overflow_y": null,
            "overflow_x": null,
            "grid_auto_flow": null,
            "grid_area": null,
            "grid_template_columns": null,
            "flex": null,
            "_model_name": "LayoutModel",
            "justify_items": null,
            "grid_row": null,
            "max_height": null,
            "align_content": null,
            "visibility": null,
            "align_self": null,
            "height": null,
            "min_height": null,
            "padding": null,
            "grid_auto_rows": null,
            "grid_gap": null,
            "max_width": null,
            "order": null,
            "_view_module_version": "1.2.0",
            "grid_template_areas": null,
            "object_position": null,
            "object_fit": null,
            "grid_auto_columns": null,
            "margin": null,
            "display": null,
            "left": null
          }
        },
        "0b8a9e7d1b2144f5a9cc06024f4df6ca": {
          "model_module": "@jupyter-widgets/controls",
          "model_name": "HBoxModel",
          "state": {
            "_view_name": "HBoxView",
            "_dom_classes": [],
            "_model_name": "HBoxModel",
            "_view_module": "@jupyter-widgets/controls",
            "_model_module_version": "1.5.0",
            "_view_count": null,
            "_view_module_version": "1.5.0",
            "box_style": "",
            "layout": "IPY_MODEL_253d84e85c3e49db972ad32bdb98d376",
            "_model_module": "@jupyter-widgets/controls",
            "children": [
              "IPY_MODEL_71bb1d2a725a4d3a9c2f87c4f141d1a0",
              "IPY_MODEL_9061b2918c2444e8a03eb03213b5ec8d"
            ]
          }
        },
        "253d84e85c3e49db972ad32bdb98d376": {
          "model_module": "@jupyter-widgets/base",
          "model_name": "LayoutModel",
          "state": {
            "_view_name": "LayoutView",
            "grid_template_rows": null,
            "right": null,
            "justify_content": null,
            "_view_module": "@jupyter-widgets/base",
            "overflow": null,
            "_model_module_version": "1.2.0",
            "_view_count": null,
            "flex_flow": null,
            "width": null,
            "min_width": null,
            "border": null,
            "align_items": null,
            "bottom": null,
            "_model_module": "@jupyter-widgets/base",
            "top": null,
            "grid_column": null,
            "overflow_y": null,
            "overflow_x": null,
            "grid_auto_flow": null,
            "grid_area": null,
            "grid_template_columns": null,
            "flex": null,
            "_model_name": "LayoutModel",
            "justify_items": null,
            "grid_row": null,
            "max_height": null,
            "align_content": null,
            "visibility": null,
            "align_self": null,
            "height": null,
            "min_height": null,
            "padding": null,
            "grid_auto_rows": null,
            "grid_gap": null,
            "max_width": null,
            "order": null,
            "_view_module_version": "1.2.0",
            "grid_template_areas": null,
            "object_position": null,
            "object_fit": null,
            "grid_auto_columns": null,
            "margin": null,
            "display": null,
            "left": null
          }
        },
        "71bb1d2a725a4d3a9c2f87c4f141d1a0": {
          "model_module": "@jupyter-widgets/controls",
          "model_name": "FloatProgressModel",
          "state": {
            "_view_name": "ProgressView",
            "style": "IPY_MODEL_499a002a45414b1eac5f834a510ff014",
            "_dom_classes": [],
            "description": "Downloading: 100%",
            "_model_name": "FloatProgressModel",
            "bar_style": "success",
            "max": 466062,
            "_view_module": "@jupyter-widgets/controls",
            "_model_module_version": "1.5.0",
            "value": 466062,
            "_view_count": null,
            "_view_module_version": "1.5.0",
            "orientation": "horizontal",
            "min": 0,
            "description_tooltip": null,
            "_model_module": "@jupyter-widgets/controls",
            "layout": "IPY_MODEL_e5bf4246fbbd45ee842d975210f43600"
          }
        },
        "9061b2918c2444e8a03eb03213b5ec8d": {
          "model_module": "@jupyter-widgets/controls",
          "model_name": "HTMLModel",
          "state": {
            "_view_name": "HTMLView",
            "style": "IPY_MODEL_37accadfd51a4ce4b5e73686c83d3d9b",
            "_dom_classes": [],
            "description": "",
            "_model_name": "HTMLModel",
            "placeholder": "​",
            "_view_module": "@jupyter-widgets/controls",
            "_model_module_version": "1.5.0",
            "value": " 466k/466k [00:07&lt;00:00, 59.8kB/s]",
            "_view_count": null,
            "_view_module_version": "1.5.0",
            "description_tooltip": null,
            "_model_module": "@jupyter-widgets/controls",
            "layout": "IPY_MODEL_3582cd7309474ff48f81251f6072bdb6"
          }
        },
        "499a002a45414b1eac5f834a510ff014": {
          "model_module": "@jupyter-widgets/controls",
          "model_name": "ProgressStyleModel",
          "state": {
            "_view_name": "StyleView",
            "_model_name": "ProgressStyleModel",
            "description_width": "initial",
            "_view_module": "@jupyter-widgets/base",
            "_model_module_version": "1.5.0",
            "_view_count": null,
            "_view_module_version": "1.2.0",
            "bar_color": null,
            "_model_module": "@jupyter-widgets/controls"
          }
        },
        "e5bf4246fbbd45ee842d975210f43600": {
          "model_module": "@jupyter-widgets/base",
          "model_name": "LayoutModel",
          "state": {
            "_view_name": "LayoutView",
            "grid_template_rows": null,
            "right": null,
            "justify_content": null,
            "_view_module": "@jupyter-widgets/base",
            "overflow": null,
            "_model_module_version": "1.2.0",
            "_view_count": null,
            "flex_flow": null,
            "width": null,
            "min_width": null,
            "border": null,
            "align_items": null,
            "bottom": null,
            "_model_module": "@jupyter-widgets/base",
            "top": null,
            "grid_column": null,
            "overflow_y": null,
            "overflow_x": null,
            "grid_auto_flow": null,
            "grid_area": null,
            "grid_template_columns": null,
            "flex": null,
            "_model_name": "LayoutModel",
            "justify_items": null,
            "grid_row": null,
            "max_height": null,
            "align_content": null,
            "visibility": null,
            "align_self": null,
            "height": null,
            "min_height": null,
            "padding": null,
            "grid_auto_rows": null,
            "grid_gap": null,
            "max_width": null,
            "order": null,
            "_view_module_version": "1.2.0",
            "grid_template_areas": null,
            "object_position": null,
            "object_fit": null,
            "grid_auto_columns": null,
            "margin": null,
            "display": null,
            "left": null
          }
        },
        "37accadfd51a4ce4b5e73686c83d3d9b": {
          "model_module": "@jupyter-widgets/controls",
          "model_name": "DescriptionStyleModel",
          "state": {
            "_view_name": "StyleView",
            "_model_name": "DescriptionStyleModel",
            "description_width": "",
            "_view_module": "@jupyter-widgets/base",
            "_model_module_version": "1.5.0",
            "_view_count": null,
            "_view_module_version": "1.2.0",
            "_model_module": "@jupyter-widgets/controls"
          }
        },
        "3582cd7309474ff48f81251f6072bdb6": {
          "model_module": "@jupyter-widgets/base",
          "model_name": "LayoutModel",
          "state": {
            "_view_name": "LayoutView",
            "grid_template_rows": null,
            "right": null,
            "justify_content": null,
            "_view_module": "@jupyter-widgets/base",
            "overflow": null,
            "_model_module_version": "1.2.0",
            "_view_count": null,
            "flex_flow": null,
            "width": null,
            "min_width": null,
            "border": null,
            "align_items": null,
            "bottom": null,
            "_model_module": "@jupyter-widgets/base",
            "top": null,
            "grid_column": null,
            "overflow_y": null,
            "overflow_x": null,
            "grid_auto_flow": null,
            "grid_area": null,
            "grid_template_columns": null,
            "flex": null,
            "_model_name": "LayoutModel",
            "justify_items": null,
            "grid_row": null,
            "max_height": null,
            "align_content": null,
            "visibility": null,
            "align_self": null,
            "height": null,
            "min_height": null,
            "padding": null,
            "grid_auto_rows": null,
            "grid_gap": null,
            "max_width": null,
            "order": null,
            "_view_module_version": "1.2.0",
            "grid_template_areas": null,
            "object_position": null,
            "object_fit": null,
            "grid_auto_columns": null,
            "margin": null,
            "display": null,
            "left": null
          }
        }
      }
    }
  },
  "cells": [
    {
      "cell_type": "code",
      "metadata": {
        "colab": {
          "base_uri": "https://localhost:8080/"
        },
        "id": "kFf-ez800ThG",
        "outputId": "2753c04c-77c0-4550-ab88-17e2547c1152"
      },
      "source": [
        "from google.colab import drive\n",
        "drive.mount('/content/drive')"
      ],
      "execution_count": 1,
      "outputs": [
        {
          "output_type": "stream",
          "text": [
            "Mounted at /content/drive\n"
          ],
          "name": "stdout"
        }
      ]
    },
    {
      "cell_type": "code",
      "metadata": {
        "colab": {
          "base_uri": "https://localhost:8080/",
          "height": 936,
          "referenced_widgets": [
            "aedf48315a054a81af9691331bcc7f64",
            "fadca6f0e40642c4ab2cbe0b247541f3",
            "434612025be44957a3d0d72fe949b45e",
            "e79102c56eb4443c95980267021b2d0b",
            "7279419427ad4a849a0d3009171a726c",
            "855ef3ce612a4f789476b7f7a0077ebd",
            "7ae516f6c77b4201866e2eb7f0b5a1c6",
            "b183a836e19840868eb6086432f3b2a3"
          ]
        },
        "id": "zVvslsfMIrIh",
        "outputId": "90246a18-e1e3-4e49-916a-30031de3f146"
      },
      "source": [
        "!pip install transformers==4.0 contractions torch==1.3.1\n",
        "from transformers import BertTokenizer, BertModel\n",
        "tokenizer = BertTokenizer.from_pretrained('bert-base-multilingual-uncased')\n",
        "from transformers import AutoModelForTokenClassification, TrainingArguments, Trainer\n",
        "from tqdm import tqdm\n",
        "from sklearn.model_selection import train_test_split\n",
        "from torch import nn, cuda\n",
        "import pandas as pd\n",
        "import numpy as np\n",
        "from sklearn import metrics\n",
        "import matplotlib.gridspec as gridspec\n",
        "import seaborn\n",
        "import transformers\n",
        "import torch\n",
        "import nltk\n",
        "import re\n",
        "from sklearn.metrics import f1_score, precision_score, recall_score, accuracy_score\n",
        "import matplotlib.pyplot as plt\n",
        "from nltk.tokenize import word_tokenize\n",
        "from nltk.corpus import stopwords\n",
        "nltk.download(\"stopwords\")\n",
        "from nltk.stem import PorterStemmer\n",
        "from torch.utils.data import Dataset, DataLoader, RandomSampler, SequentialSampler\n",
        "from transformers import BertTokenizer, BertModel, BertConfig\n",
        "from torch import cuda, nn\n",
        "import torch\n",
        "device = 'cuda' if cuda.is_available() else 'cpu'"
      ],
      "execution_count": 2,
      "outputs": [
        {
          "output_type": "stream",
          "text": [
            "Collecting transformers==4.0\n",
            "\u001b[?25l  Downloading https://files.pythonhosted.org/packages/99/84/7bc03215279f603125d844bf81c3fb3f2d50fe8e511546eb4897e4be2067/transformers-4.0.0-py3-none-any.whl (1.4MB)\n",
            "\u001b[K     |████████████████████████████████| 1.4MB 13.9MB/s \n",
            "\u001b[?25hCollecting contractions\n",
            "  Downloading https://files.pythonhosted.org/packages/0a/04/d5e0bb9f2cef5d15616ebf68087a725c5dbdd71bd422bcfb35d709f98ce7/contractions-0.0.48-py2.py3-none-any.whl\n",
            "Collecting torch==1.3.1\n",
            "\u001b[?25l  Downloading https://files.pythonhosted.org/packages/f9/34/2107f342d4493b7107a600ee16005b2870b5a0a5a165bdf5c5e7168a16a6/torch-1.3.1-cp37-cp37m-manylinux1_x86_64.whl (734.6MB)\n",
            "\u001b[K     |████████████████████████████████| 734.6MB 21kB/s \n",
            "\u001b[?25hRequirement already satisfied: requests in /usr/local/lib/python3.7/dist-packages (from transformers==4.0) (2.23.0)\n",
            "Collecting tokenizers==0.9.4\n",
            "\u001b[?25l  Downloading https://files.pythonhosted.org/packages/fb/36/59e4a62254c5fcb43894c6b0e9403ec6f4238cc2422a003ed2e6279a1784/tokenizers-0.9.4-cp37-cp37m-manylinux2010_x86_64.whl (2.9MB)\n",
            "\u001b[K     |████████████████████████████████| 2.9MB 53.2MB/s \n",
            "\u001b[?25hRequirement already satisfied: filelock in /usr/local/lib/python3.7/dist-packages (from transformers==4.0) (3.0.12)\n",
            "Collecting sacremoses\n",
            "\u001b[?25l  Downloading https://files.pythonhosted.org/packages/75/ee/67241dc87f266093c533a2d4d3d69438e57d7a90abb216fa076e7d475d4a/sacremoses-0.0.45-py3-none-any.whl (895kB)\n",
            "\u001b[K     |████████████████████████████████| 901kB 47.4MB/s \n",
            "\u001b[?25hRequirement already satisfied: tqdm>=4.27 in /usr/local/lib/python3.7/dist-packages (from transformers==4.0) (4.41.1)\n",
            "Requirement already satisfied: packaging in /usr/local/lib/python3.7/dist-packages (from transformers==4.0) (20.9)\n",
            "Requirement already satisfied: regex!=2019.12.17 in /usr/local/lib/python3.7/dist-packages (from transformers==4.0) (2019.12.20)\n",
            "Requirement already satisfied: numpy in /usr/local/lib/python3.7/dist-packages (from transformers==4.0) (1.19.5)\n",
            "Collecting textsearch>=0.0.21\n",
            "  Downloading https://files.pythonhosted.org/packages/d3/fe/021d7d76961b5ceb9f8d022c4138461d83beff36c3938dc424586085e559/textsearch-0.0.21-py2.py3-none-any.whl\n",
            "Requirement already satisfied: idna<3,>=2.5 in /usr/local/lib/python3.7/dist-packages (from requests->transformers==4.0) (2.10)\n",
            "Requirement already satisfied: certifi>=2017.4.17 in /usr/local/lib/python3.7/dist-packages (from requests->transformers==4.0) (2020.12.5)\n",
            "Requirement already satisfied: chardet<4,>=3.0.2 in /usr/local/lib/python3.7/dist-packages (from requests->transformers==4.0) (3.0.4)\n",
            "Requirement already satisfied: urllib3!=1.25.0,!=1.25.1,<1.26,>=1.21.1 in /usr/local/lib/python3.7/dist-packages (from requests->transformers==4.0) (1.24.3)\n",
            "Requirement already satisfied: six in /usr/local/lib/python3.7/dist-packages (from sacremoses->transformers==4.0) (1.15.0)\n",
            "Requirement already satisfied: joblib in /usr/local/lib/python3.7/dist-packages (from sacremoses->transformers==4.0) (1.0.1)\n",
            "Requirement already satisfied: click in /usr/local/lib/python3.7/dist-packages (from sacremoses->transformers==4.0) (7.1.2)\n",
            "Requirement already satisfied: pyparsing>=2.0.2 in /usr/local/lib/python3.7/dist-packages (from packaging->transformers==4.0) (2.4.7)\n",
            "Collecting pyahocorasick\n",
            "\u001b[?25l  Downloading https://files.pythonhosted.org/packages/7f/c2/eae730037ae1cbbfaa229d27030d1d5e34a1e41114b21447d1202ae9c220/pyahocorasick-1.4.2.tar.gz (321kB)\n",
            "\u001b[K     |████████████████████████████████| 327kB 68.5MB/s \n",
            "\u001b[?25hCollecting anyascii\n",
            "\u001b[?25l  Downloading https://files.pythonhosted.org/packages/a3/14/666cd44bf53f36a961544af592cb5c5c800013f9c51a4745af8d7c17362a/anyascii-0.2.0-py3-none-any.whl (283kB)\n",
            "\u001b[K     |████████████████████████████████| 286kB 60.7MB/s \n",
            "\u001b[?25hBuilding wheels for collected packages: pyahocorasick\n",
            "  Building wheel for pyahocorasick (setup.py) ... \u001b[?25l\u001b[?25hdone\n",
            "  Created wheel for pyahocorasick: filename=pyahocorasick-1.4.2-cp37-cp37m-linux_x86_64.whl size=85396 sha256=26eaf2c96e1ae39105a8edadaea2f7958600303149e672710e15e065f589d2bd\n",
            "  Stored in directory: /root/.cache/pip/wheels/3a/03/34/77e3ece0bba8b86bfac88a79f923b36d805cad63caeba38842\n",
            "Successfully built pyahocorasick\n",
            "\u001b[31mERROR: torchvision 0.9.1+cu101 has requirement torch==1.8.1, but you'll have torch 1.3.1 which is incompatible.\u001b[0m\n",
            "\u001b[31mERROR: torchtext 0.9.1 has requirement torch==1.8.1, but you'll have torch 1.3.1 which is incompatible.\u001b[0m\n",
            "Installing collected packages: tokenizers, sacremoses, transformers, pyahocorasick, anyascii, textsearch, contractions, torch\n",
            "  Found existing installation: torch 1.8.1+cu101\n",
            "    Uninstalling torch-1.8.1+cu101:\n",
            "      Successfully uninstalled torch-1.8.1+cu101\n",
            "Successfully installed anyascii-0.2.0 contractions-0.0.48 pyahocorasick-1.4.2 sacremoses-0.0.45 textsearch-0.0.21 tokenizers-0.9.4 torch-1.3.1 transformers-4.0.0\n"
          ],
          "name": "stdout"
        },
        {
          "output_type": "display_data",
          "data": {
            "application/vnd.jupyter.widget-view+json": {
              "model_id": "aedf48315a054a81af9691331bcc7f64",
              "version_minor": 0,
              "version_major": 2
            },
            "text/plain": [
              "HBox(children=(FloatProgress(value=0.0, description='Downloading', max=871891.0, style=ProgressStyle(descripti…"
            ]
          },
          "metadata": {
            "tags": []
          }
        },
        {
          "output_type": "stream",
          "text": [
            "\n",
            "[nltk_data] Downloading package stopwords to /root/nltk_data...\n",
            "[nltk_data]   Unzipping corpora/stopwords.zip.\n"
          ],
          "name": "stdout"
        }
      ]
    },
    {
      "cell_type": "code",
      "metadata": {
        "colab": {
          "base_uri": "https://localhost:8080/",
          "height": 204
        },
        "id": "1StPKg4wQXLK",
        "outputId": "08d65615-ef07-47b3-f3ec-628f7739ba01"
      },
      "source": [
        "df = pd.read_csv(\"/content/drive/MyDrive/punctuation data/tr_ds_ds.csv\")\n",
        "df.drop(columns=[\"text\", \"Unnamed: 0\"], axis=1, inplace=True)\n",
        "df.head()"
      ],
      "execution_count": 3,
      "outputs": [
        {
          "output_type": "execute_result",
          "data": {
            "text/html": [
              "<div>\n",
              "<style scoped>\n",
              "    .dataframe tbody tr th:only-of-type {\n",
              "        vertical-align: middle;\n",
              "    }\n",
              "\n",
              "    .dataframe tbody tr th {\n",
              "        vertical-align: top;\n",
              "    }\n",
              "\n",
              "    .dataframe thead th {\n",
              "        text-align: right;\n",
              "    }\n",
              "</style>\n",
              "<table border=\"1\" class=\"dataframe\">\n",
              "  <thead>\n",
              "    <tr style=\"text-align: right;\">\n",
              "      <th></th>\n",
              "      <th>clean_txt</th>\n",
              "    </tr>\n",
              "  </thead>\n",
              "  <tbody>\n",
              "    <tr>\n",
              "      <th>0</th>\n",
              "      <td>zemfira musakızı aliyeva azerbaycanlı dilcibil...</td>\n",
              "    </tr>\n",
              "    <tr>\n",
              "      <th>1</th>\n",
              "      <td>hayatı. \\n</td>\n",
              "    </tr>\n",
              "    <tr>\n",
              "      <th>2</th>\n",
              "      <td>aliyeva zemfira musakızı, 1950 yılının 24 hazi...</td>\n",
              "    </tr>\n",
              "    <tr>\n",
              "      <th>3</th>\n",
              "      <td>ailelidir, 3 evladı vardır.  \\n</td>\n",
              "    </tr>\n",
              "    <tr>\n",
              "      <th>4</th>\n",
              "      <td>belarus, türkiyenin i̇stanbul şehrinde düzenle...</td>\n",
              "    </tr>\n",
              "  </tbody>\n",
              "</table>\n",
              "</div>"
            ],
            "text/plain": [
              "                                           clean_txt\n",
              "0  zemfira musakızı aliyeva azerbaycanlı dilcibil...\n",
              "1                                         hayatı. \\n\n",
              "2  aliyeva zemfira musakızı, 1950 yılının 24 hazi...\n",
              "3                    ailelidir, 3 evladı vardır.  \\n\n",
              "4  belarus, türkiyenin i̇stanbul şehrinde düzenle..."
            ]
          },
          "metadata": {
            "tags": []
          },
          "execution_count": 3
        }
      ]
    },
    {
      "cell_type": "code",
      "metadata": {
        "id": "Yt19PXpa0mVR"
      },
      "source": [
        "def plotCurves(stats, path, f1=False):\n",
        "    fig = plt.figure(constrained_layout=True)\n",
        "    spec2 = gridspec.GridSpec(ncols=2, nrows=2, figure=fig)\n",
        "    ax1 = fig.add_subplot(spec2[0, 0])\n",
        "    ax2 = fig.add_subplot(spec2[0, 1])\n",
        "    ax3 = fig.add_subplot(spec2[1, 0])\n",
        "    for i in ['train_loss', 'valid_loss']: \n",
        "      ax1.plot(stats[i], label=i)\n",
        "    ax1.legend()\n",
        "    ax1.set_xlabel('Epochs')\n",
        "    ax1.set_ylabel('Loss')\n",
        "\n",
        "    for j in ['train_acc', 'valid_acc']: \n",
        "      ax2.plot(100 * stats[j], label=j)\n",
        "    ax2.legend()\n",
        "    ax2.set_xlabel('Epochs')\n",
        "    ax2.set_ylabel('Accuracy')\n",
        "    \n",
        "    if f1:\n",
        "        for c in ['train_f1', 'valid_f1']: \n",
        "          ax3.plot(stats[c], label=c)\n",
        "        ax3.legend()\n",
        "        ax3.set_xlabel('Epochs')\n",
        "        ax3.set_ylabel('F1 Score')\n",
        "    fig.savefig(path+'/Metrics.png')"
      ],
      "execution_count": 4,
      "outputs": []
    },
    {
      "cell_type": "code",
      "metadata": {
        "id": "iZUM49LJThPk"
      },
      "source": [
        "def removeDigits(string):\n",
        "  string = string.lower().replace(\"\\n\", \"\")\n",
        "  return ''.join(i for i in string if not i.isdigit())\n",
        "\n",
        "def getLength(string):\n",
        "  return len(string.split(\" \"))"
      ],
      "execution_count": 5,
      "outputs": []
    },
    {
      "cell_type": "code",
      "metadata": {
        "id": "XBQbcV8KwVq7"
      },
      "source": [
        "# Remove empty string from list\n",
        "def removeEmpty(li):\n",
        "  while(\"\" in li) :\n",
        "      li.remove(\"\")\n",
        "  while(\" \" in li) :\n",
        "      li.remove(\" \")\n",
        "  return li\n",
        "\n",
        "# Remove other punctuations\n",
        "def removePunct(sent):\n",
        "  updt = sent.replace(':','').replace(';','').replace(\"'\",'').replace('\"','').replace('(','').replace(')','').replace('_','').replace('/','').replace('__','')\n",
        "  return updt"
      ],
      "execution_count": 6,
      "outputs": []
    },
    {
      "cell_type": "code",
      "metadata": {
        "id": "wdgdNE6CrH_F"
      },
      "source": [
        "def labels(samples):\n",
        "  li = []\n",
        "  for each in samples:\n",
        "    each = each.strip()\n",
        "    if \",\" in each:\n",
        "      li.append(1)\n",
        "    elif \"?\" in each:\n",
        "      li.append(2)\n",
        "    elif \".\" in each:\n",
        "      li.append(3)\n",
        "    elif \"!\" in each:\n",
        "      li.append(4)  \n",
        "    else: li.append(0)\n",
        "  return li"
      ],
      "execution_count": 7,
      "outputs": []
    },
    {
      "cell_type": "code",
      "metadata": {
        "colab": {
          "base_uri": "https://localhost:8080/",
          "height": 204
        },
        "id": "8AHpKDi9ThK_",
        "outputId": "c6f24032-dcb9-4ad9-f6c4-ec125c03350d"
      },
      "source": [
        "# Remove Digits\n",
        "df[\"clean_txt\"] = df[\"clean_txt\"].apply(lambda x: removeDigits(x))\n",
        "# Remove punctuations\n",
        "df[\"clean_txt\"] = df[\"clean_txt\"].apply(lambda x: removePunct(x))\n",
        "# Splitting into tokens\n",
        "df[\"tokens\"] = df['clean_txt'].apply(lambda x: x.split(\" \"))\n",
        "df.head()"
      ],
      "execution_count": 8,
      "outputs": [
        {
          "output_type": "execute_result",
          "data": {
            "text/html": [
              "<div>\n",
              "<style scoped>\n",
              "    .dataframe tbody tr th:only-of-type {\n",
              "        vertical-align: middle;\n",
              "    }\n",
              "\n",
              "    .dataframe tbody tr th {\n",
              "        vertical-align: top;\n",
              "    }\n",
              "\n",
              "    .dataframe thead th {\n",
              "        text-align: right;\n",
              "    }\n",
              "</style>\n",
              "<table border=\"1\" class=\"dataframe\">\n",
              "  <thead>\n",
              "    <tr style=\"text-align: right;\">\n",
              "      <th></th>\n",
              "      <th>clean_txt</th>\n",
              "      <th>tokens</th>\n",
              "    </tr>\n",
              "  </thead>\n",
              "  <tbody>\n",
              "    <tr>\n",
              "      <th>0</th>\n",
              "      <td>zemfira musakızı aliyeva azerbaycanlı dilcibil...</td>\n",
              "      <td>[zemfira, musakızı, aliyeva, azerbaycanlı, dil...</td>\n",
              "    </tr>\n",
              "    <tr>\n",
              "      <th>1</th>\n",
              "      <td>hayatı.</td>\n",
              "      <td>[hayatı., ]</td>\n",
              "    </tr>\n",
              "    <tr>\n",
              "      <th>2</th>\n",
              "      <td>aliyeva zemfira musakızı,  yılının  haziranınd...</td>\n",
              "      <td>[aliyeva, zemfira, musakızı,, , yılının, , haz...</td>\n",
              "    </tr>\n",
              "    <tr>\n",
              "      <th>3</th>\n",
              "      <td>ailelidir,  evladı vardır.</td>\n",
              "      <td>[ailelidir,, , evladı, vardır., , ]</td>\n",
              "    </tr>\n",
              "    <tr>\n",
              "      <th>4</th>\n",
              "      <td>belarus, türkiyenin i̇stanbul şehrinde düzenle...</td>\n",
              "      <td>[belarus,, türkiyenin, i̇stanbul, şehrinde, dü...</td>\n",
              "    </tr>\n",
              "  </tbody>\n",
              "</table>\n",
              "</div>"
            ],
            "text/plain": [
              "                                           clean_txt                                             tokens\n",
              "0  zemfira musakızı aliyeva azerbaycanlı dilcibil...  [zemfira, musakızı, aliyeva, azerbaycanlı, dil...\n",
              "1                                           hayatı.                                         [hayatı., ]\n",
              "2  aliyeva zemfira musakızı,  yılının  haziranınd...  [aliyeva, zemfira, musakızı,, , yılının, , haz...\n",
              "3                       ailelidir,  evladı vardır.                  [ailelidir,, , evladı, vardır., , ]\n",
              "4  belarus, türkiyenin i̇stanbul şehrinde düzenle...  [belarus,, türkiyenin, i̇stanbul, şehrinde, dü..."
            ]
          },
          "metadata": {
            "tags": []
          },
          "execution_count": 8
        }
      ]
    },
    {
      "cell_type": "code",
      "metadata": {
        "id": "N0TtfSe_ruwJ"
      },
      "source": [
        "# Remove EMPTY\n",
        "df['new_tokens'] = df['tokens'].apply(lambda x: removeEmpty(x))\n",
        "# Getting length\n",
        "df['length'] = df['tokens'].apply(lambda x: len(x))\n",
        "# Create Labels\n",
        "df['labels'] = df['tokens'].apply(lambda x: labels(x))"
      ],
      "execution_count": 9,
      "outputs": []
    },
    {
      "cell_type": "code",
      "metadata": {
        "colab": {
          "base_uri": "https://localhost:8080/",
          "height": 204
        },
        "id": "eN83FnDAbEmJ",
        "outputId": "0a2c3dd1-9c19-479b-c59b-c856d61d0c08"
      },
      "source": [
        "df.drop(['clean_txt', 'tokens'], axis=1, inplace=True) \n",
        "df.head()"
      ],
      "execution_count": 10,
      "outputs": [
        {
          "output_type": "execute_result",
          "data": {
            "text/html": [
              "<div>\n",
              "<style scoped>\n",
              "    .dataframe tbody tr th:only-of-type {\n",
              "        vertical-align: middle;\n",
              "    }\n",
              "\n",
              "    .dataframe tbody tr th {\n",
              "        vertical-align: top;\n",
              "    }\n",
              "\n",
              "    .dataframe thead th {\n",
              "        text-align: right;\n",
              "    }\n",
              "</style>\n",
              "<table border=\"1\" class=\"dataframe\">\n",
              "  <thead>\n",
              "    <tr style=\"text-align: right;\">\n",
              "      <th></th>\n",
              "      <th>new_tokens</th>\n",
              "      <th>length</th>\n",
              "      <th>labels</th>\n",
              "    </tr>\n",
              "  </thead>\n",
              "  <tbody>\n",
              "    <tr>\n",
              "      <th>0</th>\n",
              "      <td>[zemfira, musakızı, aliyeva, azerbaycanlı, dil...</td>\n",
              "      <td>9</td>\n",
              "      <td>[0, 0, 0, 0, 1, 1, 0, 0, 3]</td>\n",
              "    </tr>\n",
              "    <tr>\n",
              "      <th>1</th>\n",
              "      <td>[hayatı.]</td>\n",
              "      <td>1</td>\n",
              "      <td>[3]</td>\n",
              "    </tr>\n",
              "    <tr>\n",
              "      <th>2</th>\n",
              "      <td>[aliyeva, zemfira, musakızı,, yılının, haziran...</td>\n",
              "      <td>136</td>\n",
              "      <td>[0, 0, 1, 0, 0, 0, 0, 0, 3, 0, 0, 0, 0, 0, 0, ...</td>\n",
              "    </tr>\n",
              "    <tr>\n",
              "      <th>3</th>\n",
              "      <td>[ailelidir,, evladı, vardır.]</td>\n",
              "      <td>3</td>\n",
              "      <td>[1, 0, 3]</td>\n",
              "    </tr>\n",
              "    <tr>\n",
              "      <th>4</th>\n",
              "      <td>[belarus,, türkiyenin, i̇stanbul, şehrinde, dü...</td>\n",
              "      <td>9</td>\n",
              "      <td>[1, 0, 0, 0, 0, 0, 0, 0, 3]</td>\n",
              "    </tr>\n",
              "  </tbody>\n",
              "</table>\n",
              "</div>"
            ],
            "text/plain": [
              "                                          new_tokens  ...                                             labels\n",
              "0  [zemfira, musakızı, aliyeva, azerbaycanlı, dil...  ...                        [0, 0, 0, 0, 1, 1, 0, 0, 3]\n",
              "1                                          [hayatı.]  ...                                                [3]\n",
              "2  [aliyeva, zemfira, musakızı,, yılının, haziran...  ...  [0, 0, 1, 0, 0, 0, 0, 0, 3, 0, 0, 0, 0, 0, 0, ...\n",
              "3                      [ailelidir,, evladı, vardır.]  ...                                          [1, 0, 3]\n",
              "4  [belarus,, türkiyenin, i̇stanbul, şehrinde, dü...  ...                        [1, 0, 0, 0, 0, 0, 0, 0, 3]\n",
              "\n",
              "[5 rows x 3 columns]"
            ]
          },
          "metadata": {
            "tags": []
          },
          "execution_count": 10
        }
      ]
    },
    {
      "cell_type": "code",
      "metadata": {
        "colab": {
          "base_uri": "https://localhost:8080/"
        },
        "id": "Z19C88fxtEpc",
        "outputId": "04267466-28c5-464c-e0e2-538e84677f6a"
      },
      "source": [
        "# Using data with length more than 50\n",
        "df=df[df['length'] > 52]\n",
        "len(df)"
      ],
      "execution_count": 11,
      "outputs": [
        {
          "output_type": "execute_result",
          "data": {
            "text/plain": [
              "20838"
            ]
          },
          "metadata": {
            "tags": []
          },
          "execution_count": 11
        }
      ]
    },
    {
      "cell_type": "markdown",
      "metadata": {
        "id": "oxMAnMs-asMS"
      },
      "source": [
        "## Model Class"
      ]
    },
    {
      "cell_type": "code",
      "metadata": {
        "id": "EWlNjb2S2FgG"
      },
      "source": [
        "# # Create a yaml file by name of model.yanl and put this in that \n",
        "# debug:\n",
        "#   summary_writer: true\n",
        "#   break_train_loop: false\n",
        "\n",
        "# experiment:\n",
        "#   name: bert-base-multilingual-uncased-unfreezed\n",
        "\n",
        "# data:\n",
        "#   data_path: /userhome/student/bial/neural-punctuator/data/bert-base-multilingual-uncased/\n",
        "#   output_labels: [empty, period, question, comma]\n",
        "\n",
        "# preprocessor:\n",
        "#   preproc_arg: TODO\n",
        "\n",
        "# model:\n",
        "#   name: szeged\n",
        "#   load_model_repo: bert-base-multilingual-uncased\n",
        "#   bert_output_dim: 768\n",
        "#   linear_hidden_dim: 2048\n",
        "#   num_classes: 5\n",
        "#   seq_len: 512\n",
        "#   dropout: 0.2\n",
        "\n",
        "#   save_model_path: /userhome/student/bial/neural-punctuator/models/\n",
        "\n",
        "# trainer:\n",
        "#   use_gpu: cuda:0\n",
        "#   batch_size: 4\n",
        "#   num_epochs: 12\n",
        "#   shuffle: true\n",
        "#   optimizer: adamw\n",
        "#   loss: NLLLoss\n",
        "#   base_learning_rate: 0.00003 #3e-5\n",
        "#   classifier_learning_rate: 0.0001 #1e-4\n",
        "#   metrics: [precision, recall, f-score, auc]\n",
        "#   warmup_steps: 300\n",
        "#   clip_seq: 32\n",
        "#   grad_clip: 1.5\n",
        "#   train_bert: true\n",
        "#   #load_model:\n",
        "#   seq_shift: 32   # Shift each training sample +-seq_shift to get more different samples\n",
        "#   show_confusion_matrix: false"
      ],
      "execution_count": 12,
      "outputs": []
    },
    {
      "cell_type": "code",
      "metadata": {
        "colab": {
          "base_uri": "https://localhost:8080/"
        },
        "id": "oR76NYDa0gZB",
        "outputId": "384629b1-39d3-40ff-c60a-38ad1f93880e"
      },
      "source": [
        "!pip install dotmap\n",
        "import logging\n",
        "import sys\n",
        "import numpy as np\n",
        "from abc import abstractmethod\n",
        "import torch\n",
        "import torch.nn as nn\n",
        "\n",
        "\n",
        "handler = logging.StreamHandler(sys.stdout)\n",
        "handler.setFormatter(logging.Formatter('%(asctime)s %(levelname)-9s %(message)s'))\n",
        "\n",
        "log = logging.getLogger(__name__)\n",
        "log.setLevel(logging.INFO)\n",
        "log.addHandler(handler)\n",
        "\n",
        "\n",
        "class BaseModel(nn.Module):\n",
        "    \"\"\"\n",
        "    Base class for all torch models\n",
        "    \"\"\"\n",
        "    def __init__(self, config):\n",
        "        super().__init__()\n",
        "        self._config = config\n",
        "\n",
        "    @abstractmethod\n",
        "    def forward(self, *inputs):\n",
        "        \"\"\"\n",
        "        Forward pass logic\n",
        "        :return: Model output\n",
        "        \"\"\"\n",
        "        raise NotImplementedError\n",
        "\n",
        "    def __str__(self):\n",
        "        \"\"\"\n",
        "        Model prints with number of trainable parameters\n",
        "        \"\"\"\n",
        "        model_parameters = filter(lambda p: p.requires_grad, self.parameters())\n",
        "        params = sum([np.prod(p.size()) for p in model_parameters])\n",
        "        return super().__str__() + '\\nTrainable parameters: {}'.format(params)\n",
        "\n",
        "    def save_model(self, optimizer, epoch):\n",
        "        log.info(\"Saving model...\")\n",
        "        torch.save(self.state_dict(), f'saved/models/{self._config.model.name}_{str(epoch)}.pth')\n",
        "        torch.save(optimizer.state_dict(), f'saved/models/{self._config.model.name}_{str(epoch)}_optimizer_state.pth')\n",
        "\n",
        "    def load_model(self, optimizer, epoch, model_name):\n",
        "        log.info(\"Loading model...\")\n",
        "        self.load_state_dict(torch.load(f'saved/models/{model_name}_{str(epoch)}.pth'))\n",
        "        optimizer.load_state_dict(torch.load(f'saved/models/{model_name}_{str(epoch)}_optimizer_state.pth'))\n",
        "\n",
        "from typing import Any\n",
        "\n",
        "import torch\n",
        "from torch import nn\n",
        "import torch.nn.functional as F\n",
        "\n",
        "\n",
        "from transformers import AutoTokenizer, AutoModel\n",
        "\n",
        "\n",
        "class BertPunctuator(BaseModel):\n",
        "    def __init__(self, config):\n",
        "        super().__init__(config)\n",
        "        # self.base = torch.hub.load(self._config.model.bert_github_repo, 'model', self._config.model.bert_variant_to_load)\n",
        "        self.base = AutoModel.from_pretrained(self._config.model.load_model_repo)\n",
        "\n",
        "        if not self._config.trainer.train_bert:\n",
        "            for param in self.base.parameters():\n",
        "                param.requires_grad = False\n",
        "\n",
        "        self.classifier = Classifier(self._config)\n",
        "\n",
        "    def forward(self, x, y):\n",
        "        if self._config.trainer.train_bert:\n",
        "            embedding, _ = self.base(input_ids=x, attention_mask=y, return_dict=False)\n",
        "        else:\n",
        "            with torch.no_grad():\n",
        "                embedding, _ = self.base(input_ids=x, attention_mask=y, return_dict=False)\n",
        "\n",
        "        output = self.classifier(embedding)\n",
        "        output = F.log_softmax(output, dim=-1)\n",
        "        return output\n",
        "\n",
        "    def train(self, mode=True):\n",
        "        if mode:\n",
        "            if self._config.trainer.train_bert:\n",
        "                self.base.train()\n",
        "            else:\n",
        "                self.base.eval()\n",
        "            self.classifier.train()\n",
        "        else:\n",
        "            self.base.eval()\n",
        "            self.classifier.eval()\n",
        "        return self\n",
        "\n",
        "    def eval(self):\n",
        "        self.train(False)\n",
        "        return self\n",
        "\n",
        "\n",
        "class Classifier(BaseModel):\n",
        "    def __init__(self, config):\n",
        "        super().__init__(None)\n",
        "        self.dropout1 = nn.Dropout(0.1)\n",
        "        self.linear1 = nn.Linear(config.model.bert_output_dim, config.model.linear_hidden_dim)\n",
        "        self.activation = nn.ReLU()\n",
        "        self.dropout2 = nn.Dropout(0.1)\n",
        "        self.linear2 = nn.Linear(config.model.linear_hidden_dim, config.model.num_classes)\n",
        "\n",
        "    def forward(self, x):\n",
        "        x = self.dropout1(x)\n",
        "        x = self.activation(self.linear1(x))\n",
        "        x = self.dropout2(x)\n",
        "        x = self.linear2(x)\n",
        "        return x\n",
        "\n",
        "\n",
        "import yaml\n",
        "from dotmap import DotMap\n",
        "def get_config_from_yaml(yaml_file):\n",
        "    with open(yaml_file, 'r') as config_file:\n",
        "        config_yaml = yaml.load(config_file)\n",
        "    # Using DotMap we will be able to reference nested parameters via attribute such as x.y instead of x['y']\n",
        "    config = DotMap(config_yaml)\n",
        "    return config\n",
        "\n",
        "  "
      ],
      "execution_count": 13,
      "outputs": [
        {
          "output_type": "stream",
          "text": [
            "Collecting dotmap\n",
            "  Downloading https://files.pythonhosted.org/packages/17/6f/c94adbb0e6d418ededbf1082a3067f178fb012573b960d446e5655e6fbe1/dotmap-1.3.23-py3-none-any.whl\n",
            "Installing collected packages: dotmap\n",
            "Successfully installed dotmap-1.3.23\n"
          ],
          "name": "stdout"
        }
      ]
    },
    {
      "cell_type": "code",
      "metadata": {
        "colab": {
          "base_uri": "https://localhost:8080/",
          "height": 1000,
          "referenced_widgets": [
            "c657e982e9e244d3b895b4abfba6fa0a",
            "4efb97b60b3e425bab2098a1c8b66c17",
            "3654bb107ec64f4c902eccdf3096c2ea",
            "24bef445eefb44ef989611c97bc2c8ce",
            "e671800c5439418e8bddfb293cf6886c",
            "2517c5fdf0db41949851eb91fa3dcdde",
            "ae0eecc1f050477ab7c44141c2aed60e",
            "ac2115d6cdcb4f38afbaebcae7f3ce06",
            "88404531830440aba4b177fcf7c8ab77",
            "39008ae1b78242af9137e60c8c9fb0c3",
            "3ca2ade2f49d4f7faf859b1c185ae4dc",
            "0f6c130286f347e1bbe249a6fccb1d0b",
            "f296b726863342aabd14a949f259a3cd",
            "1fd5990488784ff19aac13f42943c7bd",
            "799d6b8452584491b979d25af0416a3a",
            "280b0ebe20534f86a6080b7d95080426"
          ]
        },
        "id": "n0DhWY200tt3",
        "outputId": "a7c0d3cc-0930-4e9f-92c9-2d80b4643068"
      },
      "source": [
        "config = get_config_from_yaml('/content/drive/MyDrive/punctuation data/model.yaml')\n",
        "model = BertPunctuator(config)\n",
        "model.to(device)"
      ],
      "execution_count": 14,
      "outputs": [
        {
          "output_type": "display_data",
          "data": {
            "application/vnd.jupyter.widget-view+json": {
              "model_id": "c657e982e9e244d3b895b4abfba6fa0a",
              "version_minor": 0,
              "version_major": 2
            },
            "text/plain": [
              "HBox(children=(FloatProgress(value=0.0, description='Downloading', max=625.0, style=ProgressStyle(description_…"
            ]
          },
          "metadata": {
            "tags": []
          }
        },
        {
          "output_type": "stream",
          "text": [
            "\n"
          ],
          "name": "stdout"
        },
        {
          "output_type": "display_data",
          "data": {
            "application/vnd.jupyter.widget-view+json": {
              "model_id": "88404531830440aba4b177fcf7c8ab77",
              "version_minor": 0,
              "version_major": 2
            },
            "text/plain": [
              "HBox(children=(FloatProgress(value=0.0, description='Downloading', max=672271273.0, style=ProgressStyle(descri…"
            ]
          },
          "metadata": {
            "tags": []
          }
        },
        {
          "output_type": "stream",
          "text": [
            "\n"
          ],
          "name": "stdout"
        },
        {
          "output_type": "execute_result",
          "data": {
            "text/plain": [
              "BertPunctuator(\n",
              "  (base): BertModel(\n",
              "    (embeddings): BertEmbeddings(\n",
              "      (word_embeddings): Embedding(105879, 768, padding_idx=0)\n",
              "      (position_embeddings): Embedding(512, 768)\n",
              "      (token_type_embeddings): Embedding(2, 768)\n",
              "      (LayerNorm): LayerNorm((768,), eps=1e-12, elementwise_affine=True)\n",
              "      (dropout): Dropout(p=0.1, inplace=False)\n",
              "    )\n",
              "    (encoder): BertEncoder(\n",
              "      (layer): ModuleList(\n",
              "        (0): BertLayer(\n",
              "          (attention): BertAttention(\n",
              "            (self): BertSelfAttention(\n",
              "              (query): Linear(in_features=768, out_features=768, bias=True)\n",
              "              (key): Linear(in_features=768, out_features=768, bias=True)\n",
              "              (value): Linear(in_features=768, out_features=768, bias=True)\n",
              "              (dropout): Dropout(p=0.1, inplace=False)\n",
              "            )\n",
              "            (output): BertSelfOutput(\n",
              "              (dense): Linear(in_features=768, out_features=768, bias=True)\n",
              "              (LayerNorm): LayerNorm((768,), eps=1e-12, elementwise_affine=True)\n",
              "              (dropout): Dropout(p=0.1, inplace=False)\n",
              "            )\n",
              "          )\n",
              "          (intermediate): BertIntermediate(\n",
              "            (dense): Linear(in_features=768, out_features=3072, bias=True)\n",
              "          )\n",
              "          (output): BertOutput(\n",
              "            (dense): Linear(in_features=3072, out_features=768, bias=True)\n",
              "            (LayerNorm): LayerNorm((768,), eps=1e-12, elementwise_affine=True)\n",
              "            (dropout): Dropout(p=0.1, inplace=False)\n",
              "          )\n",
              "        )\n",
              "        (1): BertLayer(\n",
              "          (attention): BertAttention(\n",
              "            (self): BertSelfAttention(\n",
              "              (query): Linear(in_features=768, out_features=768, bias=True)\n",
              "              (key): Linear(in_features=768, out_features=768, bias=True)\n",
              "              (value): Linear(in_features=768, out_features=768, bias=True)\n",
              "              (dropout): Dropout(p=0.1, inplace=False)\n",
              "            )\n",
              "            (output): BertSelfOutput(\n",
              "              (dense): Linear(in_features=768, out_features=768, bias=True)\n",
              "              (LayerNorm): LayerNorm((768,), eps=1e-12, elementwise_affine=True)\n",
              "              (dropout): Dropout(p=0.1, inplace=False)\n",
              "            )\n",
              "          )\n",
              "          (intermediate): BertIntermediate(\n",
              "            (dense): Linear(in_features=768, out_features=3072, bias=True)\n",
              "          )\n",
              "          (output): BertOutput(\n",
              "            (dense): Linear(in_features=3072, out_features=768, bias=True)\n",
              "            (LayerNorm): LayerNorm((768,), eps=1e-12, elementwise_affine=True)\n",
              "            (dropout): Dropout(p=0.1, inplace=False)\n",
              "          )\n",
              "        )\n",
              "        (2): BertLayer(\n",
              "          (attention): BertAttention(\n",
              "            (self): BertSelfAttention(\n",
              "              (query): Linear(in_features=768, out_features=768, bias=True)\n",
              "              (key): Linear(in_features=768, out_features=768, bias=True)\n",
              "              (value): Linear(in_features=768, out_features=768, bias=True)\n",
              "              (dropout): Dropout(p=0.1, inplace=False)\n",
              "            )\n",
              "            (output): BertSelfOutput(\n",
              "              (dense): Linear(in_features=768, out_features=768, bias=True)\n",
              "              (LayerNorm): LayerNorm((768,), eps=1e-12, elementwise_affine=True)\n",
              "              (dropout): Dropout(p=0.1, inplace=False)\n",
              "            )\n",
              "          )\n",
              "          (intermediate): BertIntermediate(\n",
              "            (dense): Linear(in_features=768, out_features=3072, bias=True)\n",
              "          )\n",
              "          (output): BertOutput(\n",
              "            (dense): Linear(in_features=3072, out_features=768, bias=True)\n",
              "            (LayerNorm): LayerNorm((768,), eps=1e-12, elementwise_affine=True)\n",
              "            (dropout): Dropout(p=0.1, inplace=False)\n",
              "          )\n",
              "        )\n",
              "        (3): BertLayer(\n",
              "          (attention): BertAttention(\n",
              "            (self): BertSelfAttention(\n",
              "              (query): Linear(in_features=768, out_features=768, bias=True)\n",
              "              (key): Linear(in_features=768, out_features=768, bias=True)\n",
              "              (value): Linear(in_features=768, out_features=768, bias=True)\n",
              "              (dropout): Dropout(p=0.1, inplace=False)\n",
              "            )\n",
              "            (output): BertSelfOutput(\n",
              "              (dense): Linear(in_features=768, out_features=768, bias=True)\n",
              "              (LayerNorm): LayerNorm((768,), eps=1e-12, elementwise_affine=True)\n",
              "              (dropout): Dropout(p=0.1, inplace=False)\n",
              "            )\n",
              "          )\n",
              "          (intermediate): BertIntermediate(\n",
              "            (dense): Linear(in_features=768, out_features=3072, bias=True)\n",
              "          )\n",
              "          (output): BertOutput(\n",
              "            (dense): Linear(in_features=3072, out_features=768, bias=True)\n",
              "            (LayerNorm): LayerNorm((768,), eps=1e-12, elementwise_affine=True)\n",
              "            (dropout): Dropout(p=0.1, inplace=False)\n",
              "          )\n",
              "        )\n",
              "        (4): BertLayer(\n",
              "          (attention): BertAttention(\n",
              "            (self): BertSelfAttention(\n",
              "              (query): Linear(in_features=768, out_features=768, bias=True)\n",
              "              (key): Linear(in_features=768, out_features=768, bias=True)\n",
              "              (value): Linear(in_features=768, out_features=768, bias=True)\n",
              "              (dropout): Dropout(p=0.1, inplace=False)\n",
              "            )\n",
              "            (output): BertSelfOutput(\n",
              "              (dense): Linear(in_features=768, out_features=768, bias=True)\n",
              "              (LayerNorm): LayerNorm((768,), eps=1e-12, elementwise_affine=True)\n",
              "              (dropout): Dropout(p=0.1, inplace=False)\n",
              "            )\n",
              "          )\n",
              "          (intermediate): BertIntermediate(\n",
              "            (dense): Linear(in_features=768, out_features=3072, bias=True)\n",
              "          )\n",
              "          (output): BertOutput(\n",
              "            (dense): Linear(in_features=3072, out_features=768, bias=True)\n",
              "            (LayerNorm): LayerNorm((768,), eps=1e-12, elementwise_affine=True)\n",
              "            (dropout): Dropout(p=0.1, inplace=False)\n",
              "          )\n",
              "        )\n",
              "        (5): BertLayer(\n",
              "          (attention): BertAttention(\n",
              "            (self): BertSelfAttention(\n",
              "              (query): Linear(in_features=768, out_features=768, bias=True)\n",
              "              (key): Linear(in_features=768, out_features=768, bias=True)\n",
              "              (value): Linear(in_features=768, out_features=768, bias=True)\n",
              "              (dropout): Dropout(p=0.1, inplace=False)\n",
              "            )\n",
              "            (output): BertSelfOutput(\n",
              "              (dense): Linear(in_features=768, out_features=768, bias=True)\n",
              "              (LayerNorm): LayerNorm((768,), eps=1e-12, elementwise_affine=True)\n",
              "              (dropout): Dropout(p=0.1, inplace=False)\n",
              "            )\n",
              "          )\n",
              "          (intermediate): BertIntermediate(\n",
              "            (dense): Linear(in_features=768, out_features=3072, bias=True)\n",
              "          )\n",
              "          (output): BertOutput(\n",
              "            (dense): Linear(in_features=3072, out_features=768, bias=True)\n",
              "            (LayerNorm): LayerNorm((768,), eps=1e-12, elementwise_affine=True)\n",
              "            (dropout): Dropout(p=0.1, inplace=False)\n",
              "          )\n",
              "        )\n",
              "        (6): BertLayer(\n",
              "          (attention): BertAttention(\n",
              "            (self): BertSelfAttention(\n",
              "              (query): Linear(in_features=768, out_features=768, bias=True)\n",
              "              (key): Linear(in_features=768, out_features=768, bias=True)\n",
              "              (value): Linear(in_features=768, out_features=768, bias=True)\n",
              "              (dropout): Dropout(p=0.1, inplace=False)\n",
              "            )\n",
              "            (output): BertSelfOutput(\n",
              "              (dense): Linear(in_features=768, out_features=768, bias=True)\n",
              "              (LayerNorm): LayerNorm((768,), eps=1e-12, elementwise_affine=True)\n",
              "              (dropout): Dropout(p=0.1, inplace=False)\n",
              "            )\n",
              "          )\n",
              "          (intermediate): BertIntermediate(\n",
              "            (dense): Linear(in_features=768, out_features=3072, bias=True)\n",
              "          )\n",
              "          (output): BertOutput(\n",
              "            (dense): Linear(in_features=3072, out_features=768, bias=True)\n",
              "            (LayerNorm): LayerNorm((768,), eps=1e-12, elementwise_affine=True)\n",
              "            (dropout): Dropout(p=0.1, inplace=False)\n",
              "          )\n",
              "        )\n",
              "        (7): BertLayer(\n",
              "          (attention): BertAttention(\n",
              "            (self): BertSelfAttention(\n",
              "              (query): Linear(in_features=768, out_features=768, bias=True)\n",
              "              (key): Linear(in_features=768, out_features=768, bias=True)\n",
              "              (value): Linear(in_features=768, out_features=768, bias=True)\n",
              "              (dropout): Dropout(p=0.1, inplace=False)\n",
              "            )\n",
              "            (output): BertSelfOutput(\n",
              "              (dense): Linear(in_features=768, out_features=768, bias=True)\n",
              "              (LayerNorm): LayerNorm((768,), eps=1e-12, elementwise_affine=True)\n",
              "              (dropout): Dropout(p=0.1, inplace=False)\n",
              "            )\n",
              "          )\n",
              "          (intermediate): BertIntermediate(\n",
              "            (dense): Linear(in_features=768, out_features=3072, bias=True)\n",
              "          )\n",
              "          (output): BertOutput(\n",
              "            (dense): Linear(in_features=3072, out_features=768, bias=True)\n",
              "            (LayerNorm): LayerNorm((768,), eps=1e-12, elementwise_affine=True)\n",
              "            (dropout): Dropout(p=0.1, inplace=False)\n",
              "          )\n",
              "        )\n",
              "        (8): BertLayer(\n",
              "          (attention): BertAttention(\n",
              "            (self): BertSelfAttention(\n",
              "              (query): Linear(in_features=768, out_features=768, bias=True)\n",
              "              (key): Linear(in_features=768, out_features=768, bias=True)\n",
              "              (value): Linear(in_features=768, out_features=768, bias=True)\n",
              "              (dropout): Dropout(p=0.1, inplace=False)\n",
              "            )\n",
              "            (output): BertSelfOutput(\n",
              "              (dense): Linear(in_features=768, out_features=768, bias=True)\n",
              "              (LayerNorm): LayerNorm((768,), eps=1e-12, elementwise_affine=True)\n",
              "              (dropout): Dropout(p=0.1, inplace=False)\n",
              "            )\n",
              "          )\n",
              "          (intermediate): BertIntermediate(\n",
              "            (dense): Linear(in_features=768, out_features=3072, bias=True)\n",
              "          )\n",
              "          (output): BertOutput(\n",
              "            (dense): Linear(in_features=3072, out_features=768, bias=True)\n",
              "            (LayerNorm): LayerNorm((768,), eps=1e-12, elementwise_affine=True)\n",
              "            (dropout): Dropout(p=0.1, inplace=False)\n",
              "          )\n",
              "        )\n",
              "        (9): BertLayer(\n",
              "          (attention): BertAttention(\n",
              "            (self): BertSelfAttention(\n",
              "              (query): Linear(in_features=768, out_features=768, bias=True)\n",
              "              (key): Linear(in_features=768, out_features=768, bias=True)\n",
              "              (value): Linear(in_features=768, out_features=768, bias=True)\n",
              "              (dropout): Dropout(p=0.1, inplace=False)\n",
              "            )\n",
              "            (output): BertSelfOutput(\n",
              "              (dense): Linear(in_features=768, out_features=768, bias=True)\n",
              "              (LayerNorm): LayerNorm((768,), eps=1e-12, elementwise_affine=True)\n",
              "              (dropout): Dropout(p=0.1, inplace=False)\n",
              "            )\n",
              "          )\n",
              "          (intermediate): BertIntermediate(\n",
              "            (dense): Linear(in_features=768, out_features=3072, bias=True)\n",
              "          )\n",
              "          (output): BertOutput(\n",
              "            (dense): Linear(in_features=3072, out_features=768, bias=True)\n",
              "            (LayerNorm): LayerNorm((768,), eps=1e-12, elementwise_affine=True)\n",
              "            (dropout): Dropout(p=0.1, inplace=False)\n",
              "          )\n",
              "        )\n",
              "        (10): BertLayer(\n",
              "          (attention): BertAttention(\n",
              "            (self): BertSelfAttention(\n",
              "              (query): Linear(in_features=768, out_features=768, bias=True)\n",
              "              (key): Linear(in_features=768, out_features=768, bias=True)\n",
              "              (value): Linear(in_features=768, out_features=768, bias=True)\n",
              "              (dropout): Dropout(p=0.1, inplace=False)\n",
              "            )\n",
              "            (output): BertSelfOutput(\n",
              "              (dense): Linear(in_features=768, out_features=768, bias=True)\n",
              "              (LayerNorm): LayerNorm((768,), eps=1e-12, elementwise_affine=True)\n",
              "              (dropout): Dropout(p=0.1, inplace=False)\n",
              "            )\n",
              "          )\n",
              "          (intermediate): BertIntermediate(\n",
              "            (dense): Linear(in_features=768, out_features=3072, bias=True)\n",
              "          )\n",
              "          (output): BertOutput(\n",
              "            (dense): Linear(in_features=3072, out_features=768, bias=True)\n",
              "            (LayerNorm): LayerNorm((768,), eps=1e-12, elementwise_affine=True)\n",
              "            (dropout): Dropout(p=0.1, inplace=False)\n",
              "          )\n",
              "        )\n",
              "        (11): BertLayer(\n",
              "          (attention): BertAttention(\n",
              "            (self): BertSelfAttention(\n",
              "              (query): Linear(in_features=768, out_features=768, bias=True)\n",
              "              (key): Linear(in_features=768, out_features=768, bias=True)\n",
              "              (value): Linear(in_features=768, out_features=768, bias=True)\n",
              "              (dropout): Dropout(p=0.1, inplace=False)\n",
              "            )\n",
              "            (output): BertSelfOutput(\n",
              "              (dense): Linear(in_features=768, out_features=768, bias=True)\n",
              "              (LayerNorm): LayerNorm((768,), eps=1e-12, elementwise_affine=True)\n",
              "              (dropout): Dropout(p=0.1, inplace=False)\n",
              "            )\n",
              "          )\n",
              "          (intermediate): BertIntermediate(\n",
              "            (dense): Linear(in_features=768, out_features=3072, bias=True)\n",
              "          )\n",
              "          (output): BertOutput(\n",
              "            (dense): Linear(in_features=3072, out_features=768, bias=True)\n",
              "            (LayerNorm): LayerNorm((768,), eps=1e-12, elementwise_affine=True)\n",
              "            (dropout): Dropout(p=0.1, inplace=False)\n",
              "          )\n",
              "        )\n",
              "      )\n",
              "    )\n",
              "    (pooler): BertPooler(\n",
              "      (dense): Linear(in_features=768, out_features=768, bias=True)\n",
              "      (activation): Tanh()\n",
              "    )\n",
              "  )\n",
              "  (classifier): Classifier(\n",
              "    (dropout1): Dropout(p=0.1, inplace=False)\n",
              "    (linear1): Linear(in_features=768, out_features=2048, bias=True)\n",
              "    (activation): ReLU()\n",
              "    (dropout2): Dropout(p=0.1, inplace=False)\n",
              "    (linear2): Linear(in_features=2048, out_features=5, bias=True)\n",
              "  )\n",
              ")"
            ]
          },
          "metadata": {
            "tags": []
          },
          "execution_count": 14
        }
      ]
    },
    {
      "cell_type": "markdown",
      "metadata": {
        "id": "3NICx3EDPw-z"
      },
      "source": [
        "## Our Dataset"
      ]
    },
    {
      "cell_type": "code",
      "metadata": {
        "id": "mTe-ANPqz1RO"
      },
      "source": [
        "class CustomDataset(Dataset):\n",
        "    def __init__(self, dataframe, label, device):\n",
        "        # super(CustomDataset, self).__init__(dataframe, label)\n",
        "        self.dataframe = dataframe\n",
        "        self.ids = self.dataframe['input_ids'].values.tolist()\n",
        "        self.mask = self.dataframe['attention_mask'].values.tolist()\n",
        "        self.targets = label.values.tolist()\n",
        "       \n",
        "    def __len__(self):\n",
        "        return len(self.dataframe)\n",
        "\n",
        "    def __getitem__(self, index):\n",
        "\n",
        "        ids = self.ids[index]\n",
        "        mask = self.mask[index]\n",
        "        t_value = self.targets[index]       #index by iteration\n",
        "        return {\n",
        "            'ids': torch.tensor(ids, dtype=torch.long).to(device, dtype = torch.long),\n",
        "            'mask': torch.tensor(mask, dtype=torch.long).to(device, dtype = torch.long),\n",
        "            'targets': torch.tensor(t_value, dtype=torch.long).to(device)\n",
        "        }\n",
        "        "
      ],
      "execution_count": 15,
      "outputs": []
    },
    {
      "cell_type": "markdown",
      "metadata": {
        "id": "_FEBAnN9hzdl"
      },
      "source": [
        "## initializing tokenizers"
      ]
    },
    {
      "cell_type": "code",
      "metadata": {
        "colab": {
          "base_uri": "https://localhost:8080/",
          "height": 164,
          "referenced_widgets": [
            "98a873121afc48d5b8107da0a3b8ea6e",
            "39de3e1b5824427ebfb7c6fb3f0dce29",
            "0b0724da6dfa4d83a6300a9f78f35189",
            "3102a330c9494b628d4794e857aca606",
            "33678d8c670e4c1cbd72e67a18a8627f",
            "8efe0db9fab849d4915db1f67a2750f7",
            "f2e1a927586040499bf663e526373d9e",
            "34a56b0387574fea89b4e5d2517e8569",
            "651da0da93254bcb918e51d871852cf8",
            "59cf6d121ae4431a995bc2a70060d599",
            "99d349dd57634888b9c5358cf1011af2",
            "0b0d7873a7cd42ea86c234735dba4a53",
            "c25e56ab2e2c477bbb221c2cafea3c58",
            "aa0e0979d45f4999b9e84721eaa32a0b",
            "24c51385baa44716af150735233c5069",
            "e597ffecdd60494db0d0fa361a5b6da8",
            "0b8a9e7d1b2144f5a9cc06024f4df6ca",
            "253d84e85c3e49db972ad32bdb98d376",
            "71bb1d2a725a4d3a9c2f87c4f141d1a0",
            "9061b2918c2444e8a03eb03213b5ec8d",
            "499a002a45414b1eac5f834a510ff014",
            "e5bf4246fbbd45ee842d975210f43600",
            "37accadfd51a4ce4b5e73686c83d3d9b",
            "3582cd7309474ff48f81251f6072bdb6"
          ]
        },
        "id": "eXNLu_-nIrJI",
        "outputId": "4d87ac36-800b-48bb-f285-736539301f94"
      },
      "source": [
        "from transformers import AutoTokenizer\n",
        "model_checkpoint = \"distilbert-base-uncased\"\n",
        "tokenizer = AutoTokenizer.from_pretrained(model_checkpoint)\n",
        "import transformers\n",
        "assert isinstance(tokenizer, transformers.PreTrainedTokenizerFast)"
      ],
      "execution_count": 16,
      "outputs": [
        {
          "output_type": "display_data",
          "data": {
            "application/vnd.jupyter.widget-view+json": {
              "model_id": "98a873121afc48d5b8107da0a3b8ea6e",
              "version_minor": 0,
              "version_major": 2
            },
            "text/plain": [
              "HBox(children=(FloatProgress(value=0.0, description='Downloading', max=442.0, style=ProgressStyle(description_…"
            ]
          },
          "metadata": {
            "tags": []
          }
        },
        {
          "output_type": "stream",
          "text": [
            "\n"
          ],
          "name": "stdout"
        },
        {
          "output_type": "display_data",
          "data": {
            "application/vnd.jupyter.widget-view+json": {
              "model_id": "651da0da93254bcb918e51d871852cf8",
              "version_minor": 0,
              "version_major": 2
            },
            "text/plain": [
              "HBox(children=(FloatProgress(value=0.0, description='Downloading', max=231508.0, style=ProgressStyle(descripti…"
            ]
          },
          "metadata": {
            "tags": []
          }
        },
        {
          "output_type": "stream",
          "text": [
            "\n"
          ],
          "name": "stdout"
        },
        {
          "output_type": "display_data",
          "data": {
            "application/vnd.jupyter.widget-view+json": {
              "model_id": "0b8a9e7d1b2144f5a9cc06024f4df6ca",
              "version_minor": 0,
              "version_major": 2
            },
            "text/plain": [
              "HBox(children=(FloatProgress(value=0.0, description='Downloading', max=466062.0, style=ProgressStyle(descripti…"
            ]
          },
          "metadata": {
            "tags": []
          }
        },
        {
          "output_type": "stream",
          "text": [
            "\n"
          ],
          "name": "stdout"
        }
      ]
    },
    {
      "cell_type": "code",
      "metadata": {
        "id": "M-LDZuCNphJL"
      },
      "source": [
        "label_all_tokens = True\n",
        "def tokenize_and_align_labels(examples):\n",
        "    tokenized_inputs = tokenizer(list(examples['new_tokens']), truncation=True, is_split_into_words=True, max_length=512, pad_to_max_length=True)\n",
        "    labels = []\n",
        "    for i, label in enumerate(examples[\"labels\"]):\n",
        "        word_ids = tokenized_inputs.word_ids(batch_index=i)\n",
        "        previous_word_idx = None\n",
        "        label_ids = []\n",
        "        for word_idx in word_ids:\n",
        "            # Special tokens have a word id that is None. We set the label to -100 so they are automatically\n",
        "            # ignored in the loss function.\n",
        "            if word_idx is None:\n",
        "                label_ids.append(0)\n",
        "            # We set the label for the first token of each word.\n",
        "            elif word_idx != previous_word_idx:\n",
        "                label_ids.append(label[word_idx])\n",
        "            # For the other tokens in a word, we set the label to either the current label or -100, depending on\n",
        "            # the label_all_tokens flag.\n",
        "            else:\n",
        "                label_ids.append(label[word_idx] if label_all_tokens else 0)\n",
        "            previous_word_idx = word_idx\n",
        "\n",
        "        labels.append(label_ids)\n",
        "\n",
        "    tokenized_inputs[\"labels\"] = labels\n",
        "    return tokenized_inputs"
      ],
      "execution_count": 17,
      "outputs": []
    },
    {
      "cell_type": "code",
      "metadata": {
        "colab": {
          "base_uri": "https://localhost:8080/",
          "height": 204
        },
        "id": "38C8N-8C4NVz",
        "outputId": "c97a1994-4dc1-4d59-e010-08305722b8c6"
      },
      "source": [
        "df.head()"
      ],
      "execution_count": 18,
      "outputs": [
        {
          "output_type": "execute_result",
          "data": {
            "text/html": [
              "<div>\n",
              "<style scoped>\n",
              "    .dataframe tbody tr th:only-of-type {\n",
              "        vertical-align: middle;\n",
              "    }\n",
              "\n",
              "    .dataframe tbody tr th {\n",
              "        vertical-align: top;\n",
              "    }\n",
              "\n",
              "    .dataframe thead th {\n",
              "        text-align: right;\n",
              "    }\n",
              "</style>\n",
              "<table border=\"1\" class=\"dataframe\">\n",
              "  <thead>\n",
              "    <tr style=\"text-align: right;\">\n",
              "      <th></th>\n",
              "      <th>new_tokens</th>\n",
              "      <th>length</th>\n",
              "      <th>labels</th>\n",
              "    </tr>\n",
              "  </thead>\n",
              "  <tbody>\n",
              "    <tr>\n",
              "      <th>2</th>\n",
              "      <td>[aliyeva, zemfira, musakızı,, yılının, haziran...</td>\n",
              "      <td>136</td>\n",
              "      <td>[0, 0, 1, 0, 0, 0, 0, 0, 3, 0, 0, 0, 0, 0, 0, ...</td>\n",
              "    </tr>\n",
              "    <tr>\n",
              "      <th>433</th>\n",
              "      <td>[filinta, bi, küçük, eylül, meselesi, adlı, ya...</td>\n",
              "      <td>61</td>\n",
              "      <td>[0, 0, 0, 0, 0, 0, 0, 0, 0, 0, 0, 0, 0, 0, 0, ...</td>\n",
              "    </tr>\n",
              "    <tr>\n",
              "      <th>435</th>\n",
              "      <td>[i̇stanbula, geldiğinde, mota, ümit, çırakla,,...</td>\n",
              "      <td>70</td>\n",
              "      <td>[0, 0, 0, 0, 1, 0, 0, 0, 0, 0, 0, 1, 0, 0, 0, ...</td>\n",
              "    </tr>\n",
              "    <tr>\n",
              "      <th>737</th>\n",
              "      <td>[i̇slam, dinine, geçişle, beraber, kürt, halkı...</td>\n",
              "      <td>53</td>\n",
              "      <td>[0, 0, 0, 0, 0, 0, 0, 0, 0, 0, 0, 0, 0, 0, 0, ...</td>\n",
              "    </tr>\n",
              "    <tr>\n",
              "      <th>869</th>\n",
              "      <td>[buzul, cilaları, buzul, cilaları,, buzulun, y...</td>\n",
              "      <td>54</td>\n",
              "      <td>[0, 0, 0, 1, 0, 0, 0, 0, 0, 0, 0, 0, 3, 0, 0, ...</td>\n",
              "    </tr>\n",
              "  </tbody>\n",
              "</table>\n",
              "</div>"
            ],
            "text/plain": [
              "                                            new_tokens  ...                                             labels\n",
              "2    [aliyeva, zemfira, musakızı,, yılının, haziran...  ...  [0, 0, 1, 0, 0, 0, 0, 0, 3, 0, 0, 0, 0, 0, 0, ...\n",
              "433  [filinta, bi, küçük, eylül, meselesi, adlı, ya...  ...  [0, 0, 0, 0, 0, 0, 0, 0, 0, 0, 0, 0, 0, 0, 0, ...\n",
              "435  [i̇stanbula, geldiğinde, mota, ümit, çırakla,,...  ...  [0, 0, 0, 0, 1, 0, 0, 0, 0, 0, 0, 1, 0, 0, 0, ...\n",
              "737  [i̇slam, dinine, geçişle, beraber, kürt, halkı...  ...  [0, 0, 0, 0, 0, 0, 0, 0, 0, 0, 0, 0, 0, 0, 0, ...\n",
              "869  [buzul, cilaları, buzul, cilaları,, buzulun, y...  ...  [0, 0, 0, 1, 0, 0, 0, 0, 0, 0, 0, 0, 3, 0, 0, ...\n",
              "\n",
              "[5 rows x 3 columns]"
            ]
          },
          "metadata": {
            "tags": []
          },
          "execution_count": 18
        }
      ]
    },
    {
      "cell_type": "code",
      "metadata": {
        "colab": {
          "base_uri": "https://localhost:8080/"
        },
        "id": "TgHGRUPV1xr6",
        "outputId": "c69a9437-390f-43b5-ed49-c8ee0dcf8907"
      },
      "source": [
        "inputs = tokenize_and_align_labels(df)"
      ],
      "execution_count": 19,
      "outputs": [
        {
          "output_type": "stream",
          "text": [
            "/usr/local/lib/python3.7/dist-packages/transformers/tokenization_utils_base.py:2142: FutureWarning: The `pad_to_max_length` argument is deprecated and will be removed in a future version, use `padding=True` or `padding='longest'` to pad to the longest sequence in the batch, or use `padding='max_length'` to pad to a max length. In this case, you can give a specific length with `max_length` (e.g. `max_length=45`) or leave max_length to None to pad to the maximal input size of the model (e.g. 512 for Bert).\n",
            "  FutureWarning,\n"
          ],
          "name": "stderr"
        }
      ]
    },
    {
      "cell_type": "code",
      "metadata": {
        "colab": {
          "base_uri": "https://localhost:8080/"
        },
        "id": "94Ge0F9djT_D",
        "outputId": "2fae7de6-a367-4db9-ad91-2f1912d96031"
      },
      "source": [
        "inputs.keys()"
      ],
      "execution_count": 20,
      "outputs": [
        {
          "output_type": "execute_result",
          "data": {
            "text/plain": [
              "dict_keys(['input_ids', 'attention_mask', 'labels'])"
            ]
          },
          "metadata": {
            "tags": []
          },
          "execution_count": 20
        }
      ]
    },
    {
      "cell_type": "code",
      "metadata": {
        "colab": {
          "base_uri": "https://localhost:8080/",
          "height": 204
        },
        "id": "C0vtaKcg813m",
        "outputId": "c2452082-73ef-4173-fc3c-a6c73b0242ae"
      },
      "source": [
        "df_train = pd.DataFrame.from_dict(inputs, orient='index')\n",
        "df_train = df_train.T\n",
        "df_train.head()"
      ],
      "execution_count": 21,
      "outputs": [
        {
          "output_type": "execute_result",
          "data": {
            "text/html": [
              "<div>\n",
              "<style scoped>\n",
              "    .dataframe tbody tr th:only-of-type {\n",
              "        vertical-align: middle;\n",
              "    }\n",
              "\n",
              "    .dataframe tbody tr th {\n",
              "        vertical-align: top;\n",
              "    }\n",
              "\n",
              "    .dataframe thead th {\n",
              "        text-align: right;\n",
              "    }\n",
              "</style>\n",
              "<table border=\"1\" class=\"dataframe\">\n",
              "  <thead>\n",
              "    <tr style=\"text-align: right;\">\n",
              "      <th></th>\n",
              "      <th>input_ids</th>\n",
              "      <th>attention_mask</th>\n",
              "      <th>labels</th>\n",
              "    </tr>\n",
              "  </thead>\n",
              "  <tbody>\n",
              "    <tr>\n",
              "      <th>0</th>\n",
              "      <td>[101, 4862, 17240, 2050, 27838, 2213, 8873, 25...</td>\n",
              "      <td>[1, 1, 1, 1, 1, 1, 1, 1, 1, 1, 1, 1, 1, 1, 1, ...</td>\n",
              "      <td>[0, 0, 0, 0, 0, 0, 0, 0, 1, 1, 1, 1, 1, 1, 0, ...</td>\n",
              "    </tr>\n",
              "    <tr>\n",
              "      <th>1</th>\n",
              "      <td>[101, 10882, 4115, 2696, 12170, 13970, 10841, ...</td>\n",
              "      <td>[1, 1, 1, 1, 1, 1, 1, 1, 1, 1, 1, 1, 1, 1, 1, ...</td>\n",
              "      <td>[0, 0, 0, 0, 0, 0, 0, 0, 0, 0, 0, 0, 0, 0, 0, ...</td>\n",
              "    </tr>\n",
              "    <tr>\n",
              "      <th>2</th>\n",
              "      <td>[101, 9960, 2050, 21500, 4305, 11528, 3207, 95...</td>\n",
              "      <td>[1, 1, 1, 1, 1, 1, 1, 1, 1, 1, 1, 1, 1, 1, 1, ...</td>\n",
              "      <td>[0, 0, 0, 0, 0, 0, 0, 0, 0, 0, 0, 1, 1, 1, 1, ...</td>\n",
              "    </tr>\n",
              "    <tr>\n",
              "      <th>3</th>\n",
              "      <td>[101, 7025, 11586, 3170, 16216, 22987, 2571, 2...</td>\n",
              "      <td>[1, 1, 1, 1, 1, 1, 1, 1, 1, 1, 1, 1, 1, 1, 1, ...</td>\n",
              "      <td>[0, 0, 0, 0, 0, 0, 0, 0, 0, 0, 0, 0, 0, 0, 0, ...</td>\n",
              "    </tr>\n",
              "    <tr>\n",
              "      <th>4</th>\n",
              "      <td>[101, 20934, 9759, 2140, 25022, 13837, 2906, 1...</td>\n",
              "      <td>[1, 1, 1, 1, 1, 1, 1, 1, 1, 1, 1, 1, 1, 1, 1, ...</td>\n",
              "      <td>[0, 0, 0, 0, 0, 0, 0, 0, 0, 0, 0, 1, 1, 1, 1, ...</td>\n",
              "    </tr>\n",
              "  </tbody>\n",
              "</table>\n",
              "</div>"
            ],
            "text/plain": [
              "                                           input_ids  ...                                             labels\n",
              "0  [101, 4862, 17240, 2050, 27838, 2213, 8873, 25...  ...  [0, 0, 0, 0, 0, 0, 0, 0, 1, 1, 1, 1, 1, 1, 0, ...\n",
              "1  [101, 10882, 4115, 2696, 12170, 13970, 10841, ...  ...  [0, 0, 0, 0, 0, 0, 0, 0, 0, 0, 0, 0, 0, 0, 0, ...\n",
              "2  [101, 9960, 2050, 21500, 4305, 11528, 3207, 95...  ...  [0, 0, 0, 0, 0, 0, 0, 0, 0, 0, 0, 1, 1, 1, 1, ...\n",
              "3  [101, 7025, 11586, 3170, 16216, 22987, 2571, 2...  ...  [0, 0, 0, 0, 0, 0, 0, 0, 0, 0, 0, 0, 0, 0, 0, ...\n",
              "4  [101, 20934, 9759, 2140, 25022, 13837, 2906, 1...  ...  [0, 0, 0, 0, 0, 0, 0, 0, 0, 0, 0, 1, 1, 1, 1, ...\n",
              "\n",
              "[5 rows x 3 columns]"
            ]
          },
          "metadata": {
            "tags": []
          },
          "execution_count": 21
        }
      ]
    },
    {
      "cell_type": "code",
      "metadata": {
        "id": "f-wSDMCSr1nM"
      },
      "source": [
        "L = ['input_ids','attention_mask','labels']\n",
        "for z in L:\n",
        "  for i in df_train[z]:\n",
        "    if len(i) != 512:\n",
        "      print('error')"
      ],
      "execution_count": 22,
      "outputs": []
    },
    {
      "cell_type": "markdown",
      "metadata": {
        "id": "lguRH01R3Exi"
      },
      "source": [
        "## Data splitting"
      ]
    },
    {
      "cell_type": "code",
      "metadata": {
        "id": "6DtZOOgi3Dt2"
      },
      "source": [
        "X_train, X_test, y_train, y_test = train_test_split(df_train.drop(columns = 'labels', axis=1), df_train['labels'], test_size=0.40, random_state=42)"
      ],
      "execution_count": 23,
      "outputs": []
    },
    {
      "cell_type": "markdown",
      "metadata": {
        "id": "oOyUASs5hyme"
      },
      "source": [
        "## now creating custom classes."
      ]
    },
    {
      "cell_type": "code",
      "metadata": {
        "id": "Eo4huDc-uErg"
      },
      "source": [
        "TRAIN_BATCH_SIZE = 6\n",
        "VALID_BATCH_SIZE = 6\n",
        "training_set = CustomDataset(X_train, y_train, device)\n",
        "testing_set = CustomDataset(X_test, y_test, device)\n",
        "training_loader = DataLoader(training_set, batch_size = TRAIN_BATCH_SIZE, num_workers=0, shuffle = True)\n",
        "testing_loader = DataLoader(testing_set, batch_size = VALID_BATCH_SIZE, num_workers=0, shuffle = True)"
      ],
      "execution_count": 24,
      "outputs": []
    },
    {
      "cell_type": "code",
      "metadata": {
        "id": "8SZpIkrtJUVk"
      },
      "source": [
        "# model = AutoModelForTokenClassification.from_pretrained(model_checkpoint, num_labels=2)\n",
        "# model.to(device)"
      ],
      "execution_count": 25,
      "outputs": []
    },
    {
      "cell_type": "code",
      "metadata": {
        "id": "jRE-P3xcpJJi"
      },
      "source": [
        "LEARNING_RATE = 0.00003\n",
        "criterion = nn.BCEWithLogitsLoss()     # we can use it for cross entropy loss. in case of focal loss we don't need this\n",
        "optimizer = torch.optim.SGD(params =  model.parameters(), lr=LEARNING_RATE, momentum=0.8)"
      ],
      "execution_count": 26,
      "outputs": []
    },
    {
      "cell_type": "code",
      "metadata": {
        "id": "MaxSLjk3jlMl"
      },
      "source": [
        "# inp = next(iter(training_loader))\n",
        "# ids = inp[\"ids\"].to(device, dtype = torch.long)\n",
        "# mask = inp[\"mask\"].to(device, dtype = torch.long)\n",
        "# lbl = inp[\"targets\"].to(device, dtype = torch.long)\n",
        "# outputs = model(ids, mask)\n",
        "# softm = torch.nn.Softmax(dim=1)\n",
        "# pred = torch.argmax(softm(outputs.logits), dim=2).detach().cpu().numpy()\n",
        "# label = lbl.detach().cpu().numpy()"
      ],
      "execution_count": 27,
      "outputs": []
    },
    {
      "cell_type": "code",
      "metadata": {
        "id": "ThhcqojlORhU"
      },
      "source": [
        "# f1_score(label.flatten(), pred.flatten(), average='weighted')"
      ],
      "execution_count": 28,
      "outputs": []
    },
    {
      "cell_type": "code",
      "metadata": {
        "id": "-eO_-PaONVQ0"
      },
      "source": [
        "# f1=[]\n",
        "# for i, _ in enumerate(range(label.shape[0])):\n",
        "#   f1.append(f1_score(label[i], pred[i], average='weighted'))\n",
        "# np.mean(f1)"
      ],
      "execution_count": 29,
      "outputs": []
    },
    {
      "cell_type": "code",
      "metadata": {
        "id": "RG2nKj5Zjplp"
      },
      "source": [
        "# print(lbl.shape)\n",
        "# print(outputs.logits.shape)\n",
        "# targets = torch.nn.functional.one_hot(lbl, 5)\n",
        "# print(targets.shape)\n",
        "# # loss = criterion(outputs, targets)"
      ],
      "execution_count": 30,
      "outputs": []
    },
    {
      "cell_type": "markdown",
      "metadata": {
        "id": "FuhKTizkjA8Z"
      },
      "source": [
        ""
      ]
    },
    {
      "cell_type": "code",
      "metadata": {
        "id": "BmGUnZHnpN9u"
      },
      "source": [
        "def CallsTrain(Model, trainloader, testloader, Epochs, name):  \n",
        "    stats = []\n",
        "    for epoch in range(1, Epochs):  # loop over the dataset multiple times\n",
        "        train_loss, running_loss = 0.0, 0.0\n",
        "        valid_loss, val_loss = 0.0, 0.0\n",
        "        t_accuracy, v_accuracy = [], []\n",
        "        t_f1, v_f1 = [], []\n",
        "        Model.train()\n",
        "        cls_preds, cls_tars = [], [] \n",
        "        tr_pbar = tqdm(enumerate(trainloader, 0)) \n",
        "        for tr_batch, data in tr_pbar:    # Getting the batches every iteration\n",
        "            tr_pbar.set_description(f'Epoch no: {epoch}/{Epochs} Training batch no {tr_batch}')\n",
        "            ids = data['ids']\n",
        "            masks = data['mask']\n",
        "            target = torch.nn.functional.one_hot(data['targets'], 5)\n",
        "            one_hot = target.to(device, dtype = torch.float)\n",
        "            optimizer.zero_grad()\n",
        "            outputs = Model(ids, masks)\n",
        "            # loss = criterion(outputs.logits, one_hot)   #----> compute loss\n",
        "            loss = criterion(outputs, one_hot)   #----> compute loss\n",
        "\n",
        "            loss.backward()                     #----> backward pass\n",
        "            optimizer.step()                   #----> weights update\n",
        "\n",
        "            softm = torch.nn.Softmax(dim=1)\n",
        "            # preds = torch.argmax(softm(outputs.logits),dim=2).cpu().detach().numpy()\n",
        "            preds = torch.argmax(softm(outputs),dim=2).cpu().detach().numpy()\n",
        "\n",
        "            acc = accuracy_score(data['targets'].flatten().cpu().numpy(), preds.flatten())\n",
        "            t_accuracy.append(acc)\n",
        "            f1 = f1_score(data['targets'].flatten().cpu().numpy(), preds.flatten(), average='weighted')\n",
        "            t_f1.append(f1)\n",
        "            running_loss += loss.item()        # Adding loss for every batch size\n",
        "        epoch_acc = np.mean(t_accuracy)\n",
        "        epoch_f1 = np.mean(t_f1)\n",
        "        train_loss = running_loss / len(trainloader)\n",
        "\n",
        "        # with torch.no_grad():\n",
        "        Model.eval()\n",
        "        val_pbar = tqdm(enumerate(testloader, 0)) \n",
        "        for val_batch, v_data in val_pbar:\n",
        "            val_pbar.set_description(f'Epoch no: {epoch}/{Epochs} Validation batch no {val_batch}')\n",
        "            id = v_data['ids']\n",
        "            mask = v_data['mask']\n",
        "            targets = torch.nn.functional.one_hot(v_data['targets'], 5)\n",
        "            one_hot = targets.to(device, dtype = torch.float)\n",
        "            optimizer.zero_grad()\n",
        "            out = Model(id, mask)\n",
        "            # loss = criterion(out.logits, one_hot)   #----> compute loss\n",
        "            loss = criterion(out, one_hot)\n",
        "            \n",
        "            # v_preds = torch.argmax(softm(out.logits),dim=2).cpu().detach().numpy()\n",
        "            v_preds = torch.argmax(softm(out),dim=2).cpu().detach().numpy()\n",
        "            acc = accuracy_score(v_data['targets'].flatten().cpu().numpy(), v_preds.flatten())\n",
        "            v_accuracy.append(acc)\n",
        "            vf1 = f1_score(v_data['targets'].flatten().cpu().numpy(), v_preds.flatten(), average='weighted')\n",
        "            v_f1.append(vf1)\n",
        "            val_loss += loss.item()\n",
        "            cls_tars.extend(v_data['targets'].cpu().numpy())\n",
        "            cls_preds.extend(v_preds)\n",
        "\n",
        "        epoch_vacc = np.mean(v_accuracy)\n",
        "        epoch_vf1 = np.mean(v_f1)        \n",
        "        valid_loss = val_loss / len(testloader)\n",
        "\n",
        "        print(f'\\nTraining loss: {train_loss}, Training Accuracy: {100*epoch_acc}, Training F1 Score: {epoch_f1}')\n",
        "        print(f'Validation loss: {valid_loss}, Validation Accuracy: {100*epoch_vacc}, Validation F1 Score: {epoch_vf1}')\n",
        "        print(f'Precision: {precision_score(np.array(cls_tars).flatten(), np.array(cls_preds).flatten(), zero_division=1, average=\"weighted\")}')\n",
        "        print(f'\\nRecall: {recall_score(np.array(cls_tars).flatten(), np.array(cls_preds).flatten(), zero_division=1, average=\"weighted\")}\\n')\n",
        "\n",
        "        stats.append([train_loss, valid_loss, epoch_acc, epoch_vacc, epoch_f1, epoch_vf1])\n",
        "        history = pd.DataFrame(stats, columns=['train_loss', 'valid_loss', 'train_acc', 'valid_acc', 'train_f1', 'valid_f1'])\n",
        "        torch.save(model.state_dict(), name)\n",
        "        history.to_csv(\"/content/drive/MyDrive/punctuation data/Turkish/history.csv\")\n",
        "        if epoch % 5 == 0: plotCurves(history, '/content/drive/MyDrive/punctuation data/Turkish/', True)\n",
        "    return model, history"
      ],
      "execution_count": 31,
      "outputs": []
    },
    {
      "cell_type": "code",
      "metadata": {
        "colab": {
          "base_uri": "https://localhost:8080/",
          "height": 1000
        },
        "id": "v8dr2JNnpsUv",
        "outputId": "43df6167-2348-4dc9-cad9-3d9f2b627016"
      },
      "source": [
        "model, history = CallsTrain(model, training_loader, testing_loader, Epochs = 50, name = '/content/drive/MyDrive/punctuation data/Turkish/turk_Bert.pt')"
      ],
      "execution_count": 32,
      "outputs": [
        {
          "output_type": "stream",
          "text": [
            "Epoch no: 1/50 Training batch no 2083: : 2084it [07:42,  4.50it/s]\n",
            "Epoch no: 1/50 Validation batch no 1389: : 1390it [01:44, 13.29it/s]\n"
          ],
          "name": "stderr"
        },
        {
          "output_type": "stream",
          "text": [
            "\n",
            "Training loss: 0.3267676489795925, Training Accuracy: 31.338510739063498, Training F1 Score: 0.4325434101931417\n",
            "Validation loss: 0.2274309933507185, Validation Accuracy: 56.19192146282973, Validation F1 Score: 0.6798172867594982\n",
            "Precision: 0.8668966753436648\n",
            "\n",
            "Recall: 0.5619156557401631\n",
            "\n"
          ],
          "name": "stdout"
        },
        {
          "output_type": "stream",
          "text": [
            "Epoch no: 2/50 Training batch no 2083: : 2084it [07:43,  4.50it/s]\n",
            "Epoch no: 2/50 Validation batch no 1389: : 1390it [01:44, 13.26it/s]\n"
          ],
          "name": "stderr"
        },
        {
          "output_type": "stream",
          "text": [
            "\n",
            "Training loss: 0.2260902929271709, Training Accuracy: 40.83140270113563, Training F1 Score: 0.5465679162319531\n",
            "Validation loss: 0.22145264824088529, Validation Accuracy: 62.120171050659465, Validation F1 Score: 0.7304238711239447\n",
            "Precision: 0.890812770846607\n",
            "\n",
            "Recall: 0.6211952019103887\n",
            "\n"
          ],
          "name": "stdout"
        },
        {
          "output_type": "stream",
          "text": [
            "Epoch no: 3/50 Training batch no 2083: : 2084it [07:43,  4.49it/s]\n",
            "Epoch no: 3/50 Validation batch no 1389: : 1390it [01:44, 13.31it/s]\n"
          ],
          "name": "stderr"
        },
        {
          "output_type": "stream",
          "text": [
            "\n",
            "Training loss: 0.221819889315202, Training Accuracy: 46.248091235804544, Training F1 Score: 0.5993477886137499\n",
            "Validation loss: 0.21792747892921777, Validation Accuracy: 61.980595211330936, Validation F1 Score: 0.7310169132730692\n",
            "Precision: 0.8976612665069802\n",
            "\n",
            "Recall: 0.6197997109674904\n",
            "\n"
          ],
          "name": "stdout"
        },
        {
          "output_type": "stream",
          "text": [
            "Epoch no: 4/50 Training batch no 2083: : 2084it [07:43,  4.49it/s]\n",
            "Epoch no: 4/50 Validation batch no 1389: : 1390it [01:44, 13.29it/s]\n"
          ],
          "name": "stderr"
        },
        {
          "output_type": "stream",
          "text": [
            "\n",
            "Training loss: 0.21891478835935785, Training Accuracy: 51.357557769013916, Training F1 Score: 0.6456428970955255\n",
            "Validation loss: 0.21522497101653393, Validation Accuracy: 61.80350251049161, Validation F1 Score: 0.7304588059256734\n",
            "Precision: 0.9019536338677424\n",
            "\n",
            "Recall: 0.6180194993851967\n",
            "\n"
          ],
          "name": "stdout"
        },
        {
          "output_type": "stream",
          "text": [
            "Epoch no: 5/50 Training batch no 2083: : 2084it [07:43,  4.50it/s]\n",
            "Epoch no: 5/50 Validation batch no 1389: : 1390it [01:44, 13.31it/s]\n"
          ],
          "name": "stderr"
        },
        {
          "output_type": "stream",
          "text": [
            "\n",
            "Training loss: 0.216458573537001, Training Accuracy: 55.669927810600605, Training F1 Score: 0.6823065882033237\n",
            "Validation loss: 0.2128701515442176, Validation Accuracy: 61.670366831534764, Validation F1 Score: 0.7297849886643816\n",
            "Precision: 0.9046553736474736\n",
            "\n",
            "Recall: 0.6166935955494242\n",
            "\n"
          ],
          "name": "stdout"
        },
        {
          "output_type": "stream",
          "text": [
            "Epoch no: 6/50 Training batch no 2083: : 2084it [07:43,  4.50it/s]\n",
            "Epoch no: 6/50 Validation batch no 1389: : 1390it [01:44, 13.30it/s]\n"
          ],
          "name": "stderr"
        },
        {
          "output_type": "stream",
          "text": [
            "\n",
            "Training loss: 0.214226413003371, Training Accuracy: 58.69086735994482, Training F1 Score: 0.7068023482075365\n",
            "Validation loss: 0.21070229925697656, Validation Accuracy: 61.71617393585132, Validation F1 Score: 0.7299582391477296\n",
            "Precision: 0.906237775894379\n",
            "\n",
            "Recall: 0.6171846883997121\n",
            "\n"
          ],
          "name": "stdout"
        },
        {
          "output_type": "stream",
          "text": [
            "Epoch no: 7/50 Training batch no 2083: : 2084it [07:42,  4.50it/s]\n",
            "Epoch no: 7/50 Validation batch no 1389: : 1390it [01:44, 13.32it/s]\n"
          ],
          "name": "stderr"
        },
        {
          "output_type": "stream",
          "text": [
            "\n",
            "Training loss: 0.21217554960678728, Training Accuracy: 60.41546392654351, Training F1 Score: 0.7202639184265416\n",
            "Validation loss: 0.2087326875586304, Validation Accuracy: 61.91401566247002, Validation F1 Score: 0.731211740966966\n",
            "Precision: 0.9071788201267972\n",
            "\n",
            "Recall: 0.6191443738003839\n",
            "\n"
          ],
          "name": "stdout"
        },
        {
          "output_type": "stream",
          "text": [
            "Epoch no: 8/50 Training batch no 2083: : 2084it [07:43,  4.50it/s]\n",
            "Epoch no: 8/50 Validation batch no 1389: : 1390it [01:44, 13.31it/s]\n"
          ],
          "name": "stderr"
        },
        {
          "output_type": "stream",
          "text": [
            "\n",
            "Training loss: 0.21027275138389812, Training Accuracy: 61.38117833543265, Training F1 Score: 0.7275439912830238\n",
            "Validation loss: 0.20692714625339714, Validation Accuracy: 62.26112859712231, Validation F1 Score: 0.7333293028029173\n",
            "Precision: 0.9078949969552356\n",
            "\n",
            "Recall: 0.6226227919565739\n",
            "\n"
          ],
          "name": "stdout"
        },
        {
          "output_type": "stream",
          "text": [
            "Epoch no: 9/50 Training batch no 2083: : 2084it [07:43,  4.50it/s]\n",
            "Epoch no: 9/50 Validation batch no 1389: : 1390it [01:44, 13.31it/s]\n"
          ],
          "name": "stderr"
        },
        {
          "output_type": "stream",
          "text": [
            "\n",
            "Training loss: 0.20851295682353158, Training Accuracy: 62.00454916926583, Training F1 Score: 0.7320044443473057\n",
            "Validation loss: 0.20523137469514668, Validation Accuracy: 62.67587492505995, Validation F1 Score: 0.7359961980298335\n",
            "Precision: 0.9085919132957422\n",
            "\n",
            "Recall: 0.626742254978407\n",
            "\n"
          ],
          "name": "stdout"
        },
        {
          "output_type": "stream",
          "text": [
            "Epoch no: 10/50 Training batch no 2083: : 2084it [07:43,  4.50it/s]\n",
            "Epoch no: 10/50 Validation batch no 1389: : 1390it [01:44, 13.31it/s]\n"
          ],
          "name": "stderr"
        },
        {
          "output_type": "stream",
          "text": [
            "\n",
            "Training loss: 0.20686697796158734, Training Accuracy: 62.507489790766954, Training F1 Score: 0.7353871845506122\n",
            "Validation loss: 0.20363817782067567, Validation Accuracy: 63.313263451738614, Validation F1 Score: 0.7402197612079449\n",
            "Precision: 0.9091863329104398\n",
            "\n",
            "Recall: 0.6331665273362524\n",
            "\n"
          ],
          "name": "stdout"
        },
        {
          "output_type": "stream",
          "text": [
            "Epoch no: 11/50 Training batch no 2083: : 2084it [07:43,  4.49it/s]\n",
            "Epoch no: 11/50 Validation batch no 1389: : 1390it [01:44, 13.27it/s]\n"
          ],
          "name": "stderr"
        },
        {
          "output_type": "stream",
          "text": [
            "\n",
            "Training loss: 0.20525576102041465, Training Accuracy: 63.07215284858846, Training F1 Score: 0.7392147186365202\n",
            "Validation loss: 0.2020164898724007, Validation Accuracy: 64.03198534922062, Validation F1 Score: 0.7450088220229063\n",
            "Precision: 0.9099311844133278\n",
            "\n",
            "Recall: 0.6403281418696017\n",
            "\n"
          ],
          "name": "stdout"
        },
        {
          "output_type": "stream",
          "text": [
            "Epoch no: 12/50 Training batch no 2083: : 2084it [07:43,  4.50it/s]\n",
            "Epoch no: 12/50 Validation batch no 1389: : 1390it [01:44, 13.27it/s]\n"
          ],
          "name": "stderr"
        },
        {
          "output_type": "stream",
          "text": [
            "\n",
            "Training loss: 0.20367972564216769, Training Accuracy: 63.73616692658349, Training F1 Score: 0.7436632956719179\n",
            "Validation loss: 0.20036415375179525, Validation Accuracy: 64.9148259517386, Validation F1 Score: 0.7509693236447229\n",
            "Precision: 0.9107964031921559\n",
            "\n",
            "Recall: 0.6491457889725288\n",
            "\n"
          ],
          "name": "stdout"
        },
        {
          "output_type": "stream",
          "text": [
            "Epoch no: 13/50 Training batch no 2083: : 2084it [07:43,  4.49it/s]\n",
            "Epoch no: 13/50 Validation batch no 1389: : 1390it [01:44, 13.29it/s]\n"
          ],
          "name": "stderr"
        },
        {
          "output_type": "stream",
          "text": [
            "\n",
            "Training loss: 0.2020245716976799, Training Accuracy: 64.51395709622922, Training F1 Score: 0.7488219438357024\n",
            "Validation loss: 0.19858026754298655, Validation Accuracy: 66.04286102368106, Validation F1 Score: 0.7586258874305795\n",
            "Precision: 0.9118450356596066\n",
            "\n",
            "Recall: 0.6604531081303983\n",
            "\n"
          ],
          "name": "stdout"
        },
        {
          "output_type": "stream",
          "text": [
            "Epoch no: 14/50 Training batch no 2083: : 2084it [07:43,  4.50it/s]\n",
            "Epoch no: 14/50 Validation batch no 1389: : 1390it [01:44, 13.32it/s]\n"
          ],
          "name": "stderr"
        },
        {
          "output_type": "stream",
          "text": [
            "\n",
            "Training loss: 0.2002882048087248, Training Accuracy: 65.48001514515354, Training F1 Score: 0.7554526450046462\n",
            "Validation loss: 0.19662404624249438, Validation Accuracy: 67.5210768884892, Validation F1 Score: 0.7687294163045236\n",
            "Precision: 0.9132308759982704\n",
            "\n",
            "Recall: 0.6751767559380998\n",
            "\n"
          ],
          "name": "stdout"
        },
        {
          "output_type": "stream",
          "text": [
            "Epoch no: 15/50 Training batch no 2083: : 2084it [07:42,  4.50it/s]\n",
            "Epoch no: 15/50 Validation batch no 1389: : 1390it [01:44, 13.33it/s]\n"
          ],
          "name": "stderr"
        },
        {
          "output_type": "stream",
          "text": [
            "\n",
            "Training loss: 0.1983762098808778, Training Accuracy: 66.766611246901, Training F1 Score: 0.7641548623254952\n",
            "Validation loss: 0.1944350363110467, Validation Accuracy: 69.39366475569545, Validation F1 Score: 0.7817188857358512\n",
            "Precision: 0.9150456040410491\n",
            "\n",
            "Recall: 0.6939172433571257\n",
            "\n"
          ],
          "name": "stdout"
        },
        {
          "output_type": "stream",
          "text": [
            "Epoch no: 16/50 Training batch no 2083: : 2084it [07:43,  4.50it/s]\n",
            "Epoch no: 16/50 Validation batch no 1389: : 1390it [01:44, 13.32it/s]\n"
          ],
          "name": "stderr"
        },
        {
          "output_type": "stream",
          "text": [
            "\n",
            "Training loss: 0.19623276536958917, Training Accuracy: 68.36407662048146, Training F1 Score: 0.7752541236753492\n",
            "Validation loss: 0.19193412633679754, Validation Accuracy: 71.74905388189447, Validation F1 Score: 0.7981588617530863\n",
            "Precision: 0.9174954171720565\n",
            "\n",
            "Recall: 0.7174772822696737\n",
            "\n"
          ],
          "name": "stdout"
        },
        {
          "output_type": "stream",
          "text": [
            "Epoch no: 17/50 Training batch no 2083: : 2084it [07:43,  4.50it/s]\n",
            "Epoch no: 17/50 Validation batch no 1389: : 1390it [01:44, 13.33it/s]\n"
          ],
          "name": "stderr"
        },
        {
          "output_type": "stream",
          "text": [
            "\n",
            "Training loss: 0.1937928922946302, Training Accuracy: 70.4314385021793, Training F1 Score: 0.7895734621657109\n",
            "Validation loss: 0.18911620396718704, Validation Accuracy: 74.69246477817745, Validation F1 Score: 0.8185113831372621\n",
            "Precision: 0.9207951395980655\n",
            "\n",
            "Recall: 0.7468955246821017\n",
            "\n"
          ],
          "name": "stdout"
        },
        {
          "output_type": "stream",
          "text": [
            "Epoch no: 18/50 Training batch no 2083: : 2084it [07:43,  4.50it/s]\n",
            "Epoch no: 18/50 Validation batch no 1389: : 1390it [01:44, 13.33it/s]\n"
          ],
          "name": "stderr"
        },
        {
          "output_type": "stream",
          "text": [
            "\n",
            "Training loss: 0.1910774742115482, Training Accuracy: 73.02729532799503, Training F1 Score: 0.8076836171821067\n",
            "Validation loss: 0.18596884805521519, Validation Accuracy: 78.31003166217026, Validation F1 Score: 0.8434021625915018\n",
            "Precision: 0.9254312746775757\n",
            "\n",
            "Recall: 0.7830960498890355\n",
            "\n"
          ],
          "name": "stdout"
        },
        {
          "output_type": "stream",
          "text": [
            "Epoch no: 19/50 Training batch no 2083: : 2084it [07:43,  4.50it/s]\n",
            "Epoch no: 19/50 Validation batch no 1389: : 1390it [01:44, 13.36it/s]\n"
          ],
          "name": "stderr"
        },
        {
          "output_type": "stream",
          "text": [
            "\n",
            "Training loss: 0.18807685481752637, Training Accuracy: 75.98038940039189, Training F1 Score: 0.8281962195824926\n",
            "Validation loss: 0.1827147310371879, Validation Accuracy: 81.93277409322542, Validation F1 Score: 0.8680213921553132\n",
            "Precision: 0.9310743398959547\n",
            "\n",
            "Recall: 0.8193263311990163\n",
            "\n"
          ],
          "name": "stdout"
        },
        {
          "output_type": "stream",
          "text": [
            "Epoch no: 20/50 Training batch no 2083: : 2084it [07:43,  4.50it/s]\n",
            "Epoch no: 20/50 Validation batch no 1389: : 1390it [01:44, 13.35it/s]\n"
          ],
          "name": "stderr"
        },
        {
          "output_type": "stream",
          "text": [
            "\n",
            "Training loss: 0.18499487116503852, Training Accuracy: 78.98300668785988, Training F1 Score: 0.8489928728368351\n",
            "Validation loss: 0.17964803049032638, Validation Accuracy: 84.80918390287769, Validation F1 Score: 0.8874354149371239\n",
            "Precision: 0.9366272526806134\n",
            "\n",
            "Recall: 0.8480812702435221\n",
            "\n"
          ],
          "name": "stdout"
        },
        {
          "output_type": "stream",
          "text": [
            "Epoch no: 21/50 Training batch no 2083: : 2084it [07:43,  4.50it/s]\n",
            "Epoch no: 21/50 Validation batch no 1389: : 1390it [01:44, 13.33it/s]\n"
          ],
          "name": "stderr"
        },
        {
          "output_type": "stream",
          "text": [
            "\n",
            "Training loss: 0.18209988025379958, Training Accuracy: 81.59710767554384, Training F1 Score: 0.8669249694014081\n",
            "Validation loss: 0.17697208099228015, Validation Accuracy: 86.72413631594725, Validation F1 Score: 0.9005742479888567\n",
            "Precision: 0.9412364524793141\n",
            "\n",
            "Recall: 0.8672329542046545\n",
            "\n"
          ],
          "name": "stdout"
        },
        {
          "output_type": "stream",
          "text": [
            "Epoch no: 22/50 Training batch no 2083: : 2084it [07:43,  4.50it/s]\n",
            "Epoch no: 22/50 Validation batch no 1389: : 1390it [01:44, 13.32it/s]\n"
          ],
          "name": "stderr"
        },
        {
          "output_type": "stream",
          "text": [
            "\n",
            "Training loss: 0.17951218491409424, Training Accuracy: 83.62561480326296, Training F1 Score: 0.8807895837429618\n",
            "Validation loss: 0.17465557568579268, Validation Accuracy: 88.24647313399281, Validation F1 Score: 0.9111000376479764\n",
            "Precision: 0.9453410613645579\n",
            "\n",
            "Recall: 0.8824462890625\n",
            "\n"
          ],
          "name": "stdout"
        },
        {
          "output_type": "stream",
          "text": [
            "Epoch no: 23/50 Training batch no 2083: : 2084it [07:43,  4.50it/s]\n",
            "Epoch no: 23/50 Validation batch no 1389: : 1390it [01:43, 13.39it/s]\n"
          ],
          "name": "stderr"
        },
        {
          "output_type": "stream",
          "text": [
            "\n",
            "Training loss: 0.17733797892899522, Training Accuracy: 85.1961200540827, Training F1 Score: 0.89149950146429\n",
            "Validation loss: 0.172674519992132, Validation Accuracy: 89.15952394334532, Validation F1 Score: 0.9176144093234808\n",
            "Precision: 0.9483307812404673\n",
            "\n",
            "Recall: 0.8915896131987764\n",
            "\n"
          ],
          "name": "stdout"
        },
        {
          "output_type": "stream",
          "text": [
            "Epoch no: 24/50 Training batch no 2083: : 2084it [07:42,  4.51it/s]\n",
            "Epoch no: 24/50 Validation batch no 1389: : 1390it [01:43, 13.46it/s]\n"
          ],
          "name": "stderr"
        },
        {
          "output_type": "stream",
          "text": [
            "\n",
            "Training loss: 0.17535113631935356, Training Accuracy: 86.43956590141154, Training F1 Score: 0.9000405534149044\n",
            "Validation loss: 0.1709024239787095, Validation Accuracy: 90.07400329736213, Validation F1 Score: 0.9241633048163017\n",
            "Precision: 0.9512956191812088\n",
            "\n",
            "Recall: 0.9007430122360844\n",
            "\n"
          ],
          "name": "stdout"
        },
        {
          "output_type": "stream",
          "text": [
            "Epoch no: 25/50 Training batch no 2083: : 2084it [07:41,  4.51it/s]\n",
            "Epoch no: 25/50 Validation batch no 1389: : 1390it [01:43, 13.43it/s]\n"
          ],
          "name": "stderr"
        },
        {
          "output_type": "stream",
          "text": [
            "\n",
            "Training loss: 0.1736875433124416, Training Accuracy: 87.43304486314378, Training F1 Score: 0.9068627411112657\n",
            "Validation loss: 0.16940213016254438, Validation Accuracy: 90.62827862709831, Validation F1 Score: 0.9281199835176845\n",
            "Precision: 0.9533204266346182\n",
            "\n",
            "Recall: 0.9062724928023033\n",
            "\n"
          ],
          "name": "stdout"
        },
        {
          "output_type": "stream",
          "text": [
            "Epoch no: 26/50 Training batch no 2083: : 2084it [07:42,  4.51it/s]\n",
            "Epoch no: 26/50 Validation batch no 1389: : 1390it [01:43, 13.49it/s]\n"
          ],
          "name": "stderr"
        },
        {
          "output_type": "stream",
          "text": [
            "\n",
            "Training loss: 0.1721818340502522, Training Accuracy: 88.21518520323495, Training F1 Score: 0.9122442586190588\n",
            "Validation loss: 0.16806694818057602, Validation Accuracy: 91.25540973471223, Validation F1 Score: 0.9325325274622279\n",
            "Precision: 0.9553702351869968\n",
            "\n",
            "Recall: 0.9125416585442658\n",
            "\n"
          ],
          "name": "stdout"
        },
        {
          "output_type": "stream",
          "text": [
            "Epoch no: 27/50 Training batch no 2083: : 2084it [07:42,  4.51it/s]\n",
            "Epoch no: 27/50 Validation batch no 1389: : 1390it [01:43, 13.41it/s]\n"
          ],
          "name": "stderr"
        },
        {
          "output_type": "stream",
          "text": [
            "\n",
            "Training loss: 0.17082387512110017, Training Accuracy: 88.96201652971048, Training F1 Score: 0.9173286344428986\n",
            "Validation loss: 0.16684841457888377, Validation Accuracy: 91.75465096672662, Validation F1 Score: 0.9360113299466128\n",
            "Precision: 0.95705853984285\n",
            "\n",
            "Recall: 0.9175523988573656\n",
            "\n"
          ],
          "name": "stdout"
        },
        {
          "output_type": "stream",
          "text": [
            "Epoch no: 28/50 Training batch no 2083: : 2084it [07:42,  4.51it/s]\n",
            "Epoch no: 28/50 Validation batch no 1389: : 1390it [01:43, 13.49it/s]\n"
          ],
          "name": "stderr"
        },
        {
          "output_type": "stream",
          "text": [
            "\n",
            "Training loss: 0.1695860834459769, Training Accuracy: 89.56043441098849, Training F1 Score: 0.9213528816255281\n",
            "Validation loss: 0.16575451839527638, Validation Accuracy: 92.1687415692446, Validation F1 Score: 0.9389214999030333\n",
            "Precision: 0.9584821737924831\n",
            "\n",
            "Recall: 0.9216690502789108\n",
            "\n"
          ],
          "name": "stdout"
        },
        {
          "output_type": "stream",
          "text": [
            "Epoch no: 29/50 Training batch no 2083: : 2084it [07:42,  4.51it/s]\n",
            "Epoch no: 29/50 Validation batch no 1389: : 1390it [01:44, 13.32it/s]\n"
          ],
          "name": "stderr"
        },
        {
          "output_type": "stream",
          "text": [
            "\n",
            "Training loss: 0.1684513403220735, Training Accuracy: 90.10199548644434, Training F1 Score: 0.9250885416394965\n",
            "Validation loss: 0.1647634662098164, Validation Accuracy: 92.45379477667866, Validation F1 Score: 0.940853097974092\n",
            "Precision: 0.9595031355350693\n",
            "\n",
            "Recall: 0.9245350081723849\n",
            "\n"
          ],
          "name": "stdout"
        },
        {
          "output_type": "stream",
          "text": [
            "Epoch no: 30/50 Training batch no 2083: : 2084it [07:43,  4.49it/s]\n",
            "Epoch no: 30/50 Validation batch no 1389: : 1390it [01:44, 13.32it/s]\n"
          ],
          "name": "stderr"
        },
        {
          "output_type": "stream",
          "text": [
            "\n",
            "Training loss: 0.16738844641453932, Training Accuracy: 90.58634049604126, Training F1 Score: 0.9283639142384146\n",
            "Validation loss: 0.16378001210500867, Validation Accuracy: 92.8824284322542, Validation F1 Score: 0.9438334115807705\n",
            "Precision: 0.9609258880637928\n",
            "\n",
            "Recall: 0.9288234015115163\n",
            "\n"
          ],
          "name": "stdout"
        },
        {
          "output_type": "stream",
          "text": [
            "Epoch no: 31/50 Training batch no 2083: : 2084it [07:43,  4.50it/s]\n",
            "Epoch no: 31/50 Validation batch no 1389: : 1390it [01:44, 13.30it/s]\n"
          ],
          "name": "stderr"
        },
        {
          "output_type": "stream",
          "text": [
            "\n",
            "Training loss: 0.16641677574267086, Training Accuracy: 91.03011255148353, Training F1 Score: 0.9313465904626556\n",
            "Validation loss: 0.16295607297969378, Validation Accuracy: 93.04193364058754, Validation F1 Score: 0.944867629295407\n",
            "Precision: 0.9615267644813805\n",
            "\n",
            "Recall: 0.9304131271743042\n",
            "\n"
          ],
          "name": "stdout"
        },
        {
          "output_type": "stream",
          "text": [
            "Epoch no: 32/50 Training batch no 2083: : 2084it [07:42,  4.51it/s]\n",
            "Epoch no: 32/50 Validation batch no 1389: : 1390it [01:44, 13.31it/s]\n"
          ],
          "name": "stderr"
        },
        {
          "output_type": "stream",
          "text": [
            "\n",
            "Training loss: 0.16551649012744082, Training Accuracy: 91.4030791396753, Training F1 Score: 0.9338865185082013\n",
            "Validation loss: 0.16211058564966532, Validation Accuracy: 93.30249081984412, Validation F1 Score: 0.9467212610459784\n",
            "Precision: 0.9624610680219754\n",
            "\n",
            "Recall: 0.9330213550413867\n",
            "\n"
          ],
          "name": "stdout"
        },
        {
          "output_type": "stream",
          "text": [
            "Epoch no: 33/50 Training batch no 2083: : 2084it [07:42,  4.50it/s]\n",
            "Epoch no: 33/50 Validation batch no 1389: : 1390it [01:44, 13.30it/s]\n"
          ],
          "name": "stderr"
        },
        {
          "output_type": "stream",
          "text": [
            "\n",
            "Training loss: 0.16462108852509802, Training Accuracy: 91.77075054732485, Training F1 Score: 0.9363661928450306\n",
            "Validation loss: 0.16132630490356212, Validation Accuracy: 93.4978267386091, Validation F1 Score: 0.948104732030368\n",
            "Precision: 0.9632066840705508\n",
            "\n",
            "Recall: 0.9349798689419386\n",
            "\n"
          ],
          "name": "stdout"
        },
        {
          "output_type": "stream",
          "text": [
            "Epoch no: 34/50 Training batch no 2083: : 2084it [07:42,  4.50it/s]\n",
            "Epoch no: 34/50 Validation batch no 1389: : 1390it [01:44, 13.29it/s]\n"
          ],
          "name": "stderr"
        },
        {
          "output_type": "stream",
          "text": [
            "\n",
            "Training loss: 0.16383427741889076, Training Accuracy: 92.09934852097331, Training F1 Score: 0.9385693412974832\n",
            "Validation loss: 0.16058471827841492, Validation Accuracy: 93.6947317146283, Validation F1 Score: 0.9494861415891379\n",
            "Precision: 0.9639660478867479\n",
            "\n",
            "Recall: 0.936950332143714\n",
            "\n"
          ],
          "name": "stdout"
        },
        {
          "output_type": "stream",
          "text": [
            "Epoch no: 35/50 Training batch no 2083: : 2084it [07:43,  4.49it/s]\n",
            "Epoch no: 35/50 Validation batch no 1389: : 1390it [01:43, 13.42it/s]\n"
          ],
          "name": "stderr"
        },
        {
          "output_type": "stream",
          "text": [
            "\n",
            "Training loss: 0.16304113665120157, Training Accuracy: 92.3883732205694, Training F1 Score: 0.9405894528194413\n",
            "Validation loss: 0.15991115467153866, Validation Accuracy: 93.85428376049163, Validation F1 Score: 0.9506021812082502\n",
            "Precision: 0.9646249283522377\n",
            "\n",
            "Recall: 0.9385311544055902\n",
            "\n"
          ],
          "name": "stdout"
        },
        {
          "output_type": "stream",
          "text": [
            "Epoch no: 36/50 Training batch no 2083: : 2084it [07:42,  4.51it/s]\n",
            "Epoch no: 36/50 Validation batch no 1389: : 1390it [01:43, 13.46it/s]\n"
          ],
          "name": "stderr"
        },
        {
          "output_type": "stream",
          "text": [
            "\n",
            "Training loss: 0.16232467281154844, Training Accuracy: 92.66194192858285, Training F1 Score: 0.9424864323752542\n",
            "Validation loss: 0.1593368419104343, Validation Accuracy: 93.9370925134892, Validation F1 Score: 0.9512402783628164\n",
            "Precision: 0.9650455087389114\n",
            "\n",
            "Recall: 0.9393610450905711\n",
            "\n"
          ],
          "name": "stdout"
        },
        {
          "output_type": "stream",
          "text": [
            "Epoch no: 37/50 Training batch no 2083: : 2084it [07:40,  4.52it/s]\n",
            "Epoch no: 37/50 Validation batch no 1389: : 1390it [01:43, 13.48it/s]\n"
          ],
          "name": "stderr"
        },
        {
          "output_type": "stream",
          "text": [
            "\n",
            "Training loss: 0.16162126070163757, Training Accuracy: 92.89565620251518, Training F1 Score: 0.9441580876877474\n",
            "Validation loss: 0.15875022841228856, Validation Accuracy: 94.06079043015586, Validation F1 Score: 0.9521744743738033\n",
            "Precision: 0.9656555404390293\n",
            "\n",
            "Recall: 0.9406318884207053\n",
            "\n"
          ],
          "name": "stdout"
        },
        {
          "output_type": "stream",
          "text": [
            "Epoch no: 38/50 Training batch no 2083: : 2084it [07:40,  4.53it/s]\n",
            "Epoch no: 38/50 Validation batch no 1389: : 1390it [01:43, 13.47it/s]\n"
          ],
          "name": "stderr"
        },
        {
          "output_type": "stream",
          "text": [
            "\n",
            "Training loss: 0.16101587370695858, Training Accuracy: 93.10212138365722, Training F1 Score: 0.9456153664120197\n",
            "Validation loss: 0.15819519201843002, Validation Accuracy: 94.1681420488609, Validation F1 Score: 0.9530425503673544\n",
            "Precision: 0.9662228678285985\n",
            "\n",
            "Recall: 0.941682021128239\n",
            "\n"
          ],
          "name": "stdout"
        },
        {
          "output_type": "stream",
          "text": [
            "Epoch no: 39/50 Training batch no 2083: : 2084it [07:40,  4.52it/s]\n",
            "Epoch no: 39/50 Validation batch no 1389: : 1390it [01:42, 13.50it/s]\n"
          ],
          "name": "stderr"
        },
        {
          "output_type": "stream",
          "text": [
            "\n",
            "Training loss: 0.16041004551921376, Training Accuracy: 93.2830400521833, Training F1 Score: 0.9469292681414597\n",
            "Validation loss: 0.15769365974467436, Validation Accuracy: 94.27111435851319, Validation F1 Score: 0.9538499410984491\n",
            "Precision: 0.9667784402105513\n",
            "\n",
            "Recall: 0.9427122383337332\n",
            "\n"
          ],
          "name": "stdout"
        },
        {
          "output_type": "stream",
          "text": [
            "Epoch no: 40/50 Training batch no 2083: : 2084it [07:39,  4.53it/s]\n",
            "Epoch no: 40/50 Validation batch no 1389: : 1390it [01:43, 13.48it/s]\n"
          ],
          "name": "stderr"
        },
        {
          "output_type": "stream",
          "text": [
            "\n",
            "Training loss: 0.15986230752775857, Training Accuracy: 93.46070195037588, Training F1 Score: 0.9482241014396142\n",
            "Validation loss: 0.1572557429079529, Validation Accuracy: 94.31631257494006, Validation F1 Score: 0.954240639187966\n",
            "Precision: 0.9671282854506522\n",
            "\n",
            "Recall: 0.9431653745801344\n",
            "\n"
          ],
          "name": "stdout"
        },
        {
          "output_type": "stream",
          "text": [
            "Epoch no: 41/50 Training batch no 2083: : 2084it [07:40,  4.53it/s]\n",
            "Epoch no: 41/50 Validation batch no 1389: : 1390it [01:42, 13.51it/s]\n"
          ],
          "name": "stderr"
        },
        {
          "output_type": "stream",
          "text": [
            "\n",
            "Training loss: 0.15931507492448685, Training Accuracy: 93.62083820677383, Training F1 Score: 0.9494045593771581\n",
            "Validation loss: 0.1568060062343268, Validation Accuracy: 94.39656868255396, Validation F1 Score: 0.9548795084260383\n",
            "Precision: 0.9676029766258104\n",
            "\n",
            "Recall: 0.9439636347618762\n",
            "\n"
          ],
          "name": "stdout"
        },
        {
          "output_type": "stream",
          "text": [
            "Epoch no: 42/50 Training batch no 2083: : 2084it [07:40,  4.53it/s]\n",
            "Epoch no: 42/50 Validation batch no 1389: : 1390it [01:43, 13.49it/s]\n"
          ],
          "name": "stderr"
        },
        {
          "output_type": "stream",
          "text": [
            "\n",
            "Training loss: 0.15885765434398302, Training Accuracy: 93.73064681801824, Training F1 Score: 0.9502809024290326\n",
            "Validation loss: 0.15647512882304707, Validation Accuracy: 94.4148353192446, Validation F1 Score: 0.9550379451049973\n",
            "Precision: 0.9678119431523842\n",
            "\n",
            "Recall: 0.9441379539797264\n",
            "\n"
          ],
          "name": "stdout"
        },
        {
          "output_type": "stream",
          "text": [
            "Epoch no: 43/50 Training batch no 2083: : 2084it [07:41,  4.52it/s]\n",
            "Epoch no: 43/50 Validation batch no 1389: : 1390it [01:43, 13.43it/s]\n"
          ],
          "name": "stderr"
        },
        {
          "output_type": "stream",
          "text": [
            "\n",
            "Training loss: 0.15841079970925417, Training Accuracy: 93.83061482825497, Training F1 Score: 0.9510516546113321\n",
            "Validation loss: 0.1560687279744114, Validation Accuracy: 94.49326476318946, Validation F1 Score: 0.9557067803055083\n",
            "Precision: 0.9682657303033397\n",
            "\n",
            "Recall: 0.9449287165607005\n",
            "\n"
          ],
          "name": "stdout"
        },
        {
          "output_type": "stream",
          "text": [
            "Epoch no: 44/50 Training batch no 2083: : 2084it [07:42,  4.51it/s]\n",
            "Epoch no: 44/50 Validation batch no 1389: : 1390it [01:43, 13.40it/s]\n"
          ],
          "name": "stderr"
        },
        {
          "output_type": "stream",
          "text": [
            "\n",
            "Training loss: 0.15802630341670793, Training Accuracy: 93.93113734854846, Training F1 Score: 0.9518699907172578\n",
            "Validation loss: 0.15582300078311412, Validation Accuracy: 94.47776154076739, Validation F1 Score: 0.9555976414086141\n",
            "Precision: 0.9683129264366593\n",
            "\n",
            "Recall: 0.9447806389455374\n",
            "\n"
          ],
          "name": "stdout"
        },
        {
          "output_type": "stream",
          "text": [
            "Epoch no: 45/50 Training batch no 2083: : 2084it [07:42,  4.51it/s]\n",
            "Epoch no: 45/50 Validation batch no 1389: : 1390it [01:43, 13.39it/s]\n"
          ],
          "name": "stderr"
        },
        {
          "output_type": "stream",
          "text": [
            "\n",
            "Training loss: 0.15762642879689723, Training Accuracy: 94.0154697371841, Training F1 Score: 0.9525125275738789\n",
            "Validation loss: 0.15546786044355776, Validation Accuracy: 94.53989152428058, Validation F1 Score: 0.9561015219154165\n",
            "Precision: 0.96870168032254\n",
            "\n",
            "Recall: 0.945402236909189\n",
            "\n"
          ],
          "name": "stdout"
        },
        {
          "output_type": "stream",
          "text": [
            "Epoch no: 46/50 Training batch no 2083: : 2084it [07:41,  4.51it/s]\n",
            "Epoch no: 46/50 Validation batch no 1389: : 1390it [01:43, 13.40it/s]\n"
          ],
          "name": "stderr"
        },
        {
          "output_type": "stream",
          "text": [
            "\n",
            "Training loss: 0.15725465599383137, Training Accuracy: 94.1099863668626, Training F1 Score: 0.9533131249596649\n",
            "Validation loss: 0.1552154250496583, Validation Accuracy: 94.54494997751799, Validation F1 Score: 0.9562055259193589\n",
            "Precision: 0.9688161831644594\n",
            "\n",
            "Recall: 0.9454392563129799\n",
            "\n"
          ],
          "name": "stdout"
        },
        {
          "output_type": "stream",
          "text": [
            "Epoch no: 47/50 Training batch no 2083: : 2084it [07:41,  4.51it/s]\n",
            "Epoch no: 47/50 Validation batch no 1389: : 1390it [01:43, 13.40it/s]\n"
          ],
          "name": "stderr"
        },
        {
          "output_type": "stream",
          "text": [
            "\n",
            "Training loss: 0.15694278088932762, Training Accuracy: 94.171201153131, Training F1 Score: 0.9538015132145841\n",
            "Validation loss: 0.15496773680122636, Validation Accuracy: 94.55754927308153, Validation F1 Score: 0.9563237873672844\n",
            "Precision: 0.9689875481498786\n",
            "\n",
            "Recall: 0.9455728073266555\n",
            "\n"
          ],
          "name": "stdout"
        },
        {
          "output_type": "stream",
          "text": [
            "Epoch no: 48/50 Training batch no 2083: : 2084it [07:42,  4.51it/s]\n",
            "Epoch no: 48/50 Validation batch no 1389: : 1390it [01:43, 13.38it/s]\n"
          ],
          "name": "stderr"
        },
        {
          "output_type": "stream",
          "text": [
            "\n",
            "Training loss: 0.15662163507457888, Training Accuracy: 94.22102114823255, Training F1 Score: 0.9542482052256944\n",
            "Validation loss: 0.15472495139931602, Validation Accuracy: 94.59012477517985, Validation F1 Score: 0.9565958052212108\n",
            "Precision: 0.9692283653102115\n",
            "\n",
            "Recall: 0.9459019988603646\n",
            "\n"
          ],
          "name": "stdout"
        },
        {
          "output_type": "stream",
          "text": [
            "Epoch no: 49/50 Training batch no 2083: : 2084it [07:42,  4.50it/s]\n",
            "Epoch no: 49/50 Validation batch no 1389: : 1390it [01:44, 13.34it/s]\n"
          ],
          "name": "stderr"
        },
        {
          "output_type": "stream",
          "text": [
            "\n",
            "Training loss: 0.15632710033123187, Training Accuracy: 94.27676112394033, Training F1 Score: 0.9547306131983601\n",
            "Validation loss: 0.154458272671528, Validation Accuracy: 94.60967944394486, Validation F1 Score: 0.9568211173072494\n",
            "Precision: 0.969439534522763\n",
            "\n",
            "Recall: 0.9460981079804462\n",
            "\n"
          ],
          "name": "stdout"
        },
        {
          "output_type": "display_data",
          "data": {
            "image/png": "[encoded data removed]",
            "text/plain": [
              "<Figure size 432x288 with 4 Axes>"
            ]
          },
          "metadata": {
            "tags": [],
            "needs_background": "light"
          }
        },
        {
          "output_type": "display_data",
          "data": {
            "image/png": "[encoded data removed]",
            "text/plain": [
              "<Figure size 432x288 with 4 Axes>"
            ]
          },
          "metadata": {
            "tags": [],
            "needs_background": "light"
          }
        },
        {
          "output_type": "display_data",
          "data": {
            "image/png": "[encoded data removed]",
            "text/plain": [
              "<Figure size 432x288 with 4 Axes>"
            ]
          },
          "metadata": {
            "tags": [],
            "needs_background": "light"
          }
        },
        {
          "output_type": "display_data",
          "data": {
            "image/png": "[encoded data removed]",
            "text/plain": [
              "<Figure size 432x288 with 4 Axes>"
            ]
          },
          "metadata": {
            "tags": [],
            "needs_background": "light"
          }
        },
        {
          "output_type": "display_data",
          "data": {
            "image/png": "[encoded data removed]",
            "text/plain": [
              "<Figure size 432x288 with 4 Axes>"
            ]
          },
          "metadata": {
            "tags": [],
            "needs_background": "light"
          }
        },
        {
          "output_type": "display_data",
          "data": {
            "image/png": "[encoded data removed]",
            "text/plain": [
              "<Figure size 432x288 with 4 Axes>"
            ]
          },
          "metadata": {
            "tags": [],
            "needs_background": "light"
          }
        },
        {
          "output_type": "display_data",
          "data": {
            "image/png": "[encoded data removed]",
            "text/plain": [
              "<Figure size 432x288 with 4 Axes>"
            ]
          },
          "metadata": {
            "tags": [],
            "needs_background": "light"
          }
        },
        {
          "output_type": "display_data",
          "data": {
            "image/png": "[encoded data removed]",
            "text/plain": [
              "<Figure size 432x288 with 4 Axes>"
            ]
          },
          "metadata": {
            "tags": [],
            "needs_background": "light"
          }
        },
        {
          "output_type": "display_data",
          "data": {
            "image/png": "[encoded data removed]",
            "text/plain": [
              "<Figure size 432x288 with 4 Axes>"
            ]
          },
          "metadata": {
            "tags": [],
            "needs_background": "light"
          }
        }
      ]
    },
    {
      "cell_type": "code",
      "metadata": {
        "id": "Ml1ZOYZ6N6uK",
        "colab": {
          "base_uri": "https://localhost:8080/",
          "height": 1000
        },
        "outputId": "6864b8ed-fa55-42da-dcc3-4d6e2e93673c"
      },
      "source": [
        "import matplotlib.pyplot as plt\n",
        "\n",
        "plt.figure(figsize=(6, 6))\n",
        "for c in ['train_loss', 'valid_loss']:\n",
        "    plt.plot(\n",
        "        history[c], label=c)\n",
        "plt.legend()\n",
        "plt.xlabel('Epoch')\n",
        "plt.ylabel('BCE loss')\n",
        "plt.title('Training and Validation Losses')\n",
        "\n",
        "plt.figure(figsize=(6, 6))\n",
        "for c in ['train_acc', 'valid_acc']:\n",
        "    plt.plot(\n",
        "        100 * history[c], label=c)\n",
        "plt.legend()\n",
        "plt.xlabel('Epoch')\n",
        "plt.ylabel('Average Accuracy')\n",
        "plt.title('Training and Validation Accuracy')\n",
        "\n",
        "plt.figure(figsize=(6, 6))\n",
        "for c in ['train_f1', 'valid_f1']:\n",
        "    plt.plot(\n",
        "        100 * history[c], label=c)\n",
        "plt.legend()\n",
        "plt.xlabel('Epoch')\n",
        "plt.ylabel('Average F1')\n",
        "plt.title('Training and Validation F1')"
      ],
      "execution_count": 33,
      "outputs": [
        {
          "output_type": "execute_result",
          "data": {
            "text/plain": [
              "Text(0.5, 1.0, 'Training and Validation F1')"
            ]
          },
          "metadata": {
            "tags": []
          },
          "execution_count": 33
        },
        {
          "output_type": "display_data",
          "data": {
            "image/png": "[encoded data removed]",
            "text/plain": [
              "<Figure size 432x432 with 1 Axes>"
            ]
          },
          "metadata": {
            "tags": [],
            "needs_background": "light"
          }
        },
        {
          "output_type": "display_data",
          "data": {
            "image/png": "[encoded data removed]",
            "text/plain": [
              "<Figure size 432x432 with 1 Axes>"
            ]
          },
          "metadata": {
            "tags": [],
            "needs_background": "light"
          }
        },
        {
          "output_type": "display_data",
          "data": {
            "image/png": "[encoded data removed]",
            "text/plain": [
              "<Figure size 432x432 with 1 Axes>"
            ]
          },
          "metadata": {
            "tags": [],
            "needs_background": "light"
          }
        }
      ]
    },
    {
      "cell_type": "code",
      "metadata": {
        "id": "UUk9K_nBZZ99"
      },
      "source": [
        "history.to_csv('./drive/MyDrive/history.csv')"
      ],
      "execution_count": null,
      "outputs": []
    },
    {
      "cell_type": "code",
      "metadata": {
        "id": "Rrm7CduMudPZ"
      },
      "source": [
        "device = torch.device(\"cpu\")\n",
        "model.to(device)\n",
        "test = \"aliyeva zemfira musakızı, yılının. \"\n",
        "processed_test = tokenizer(list(test), truncation=True, is_split_into_words=True)\n",
        "x = torch.tensor(processed_test['input_ids'], dtype=torch.long)\n",
        "y = torch.tensor(processed_test['attention_mask'], dtype=torch.long)\n",
        "x = torch.unsqueeze(x, dim=0)\n",
        "y = torch.unsqueeze(y, dim=0)"
      ],
      "execution_count": null,
      "outputs": []
    },
    {
      "cell_type": "code",
      "metadata": {
        "id": "HB_sWp2_ofvt"
      },
      "source": [
        "# def validation(epoch, data_loader):\n",
        "#     # model2.eval()\n",
        "#     fin_targets=[]\n",
        "#     fin_outputs=[]\n",
        "#     softm = torch.nn.Softmax(dim=1)\n",
        "#     with torch.no_grad():\n",
        "#         for _, data in enumerate(data_loader, 0):\n",
        "#             # start_time = time.time()\n",
        "#             ids = data['ids'].to(device, dtype = torch.long)\n",
        "#             mask = data['mask'].to(device, dtype = torch.long)\n",
        "#             # token_type_ids = data['token_type_ids'].to(device, dtype = torch.long)\n",
        "#             targets = data['targets'].to(device, dtype = torch.long)\n",
        "#             outputs = model(ids, mask)\n",
        "#             fin_targets.extend(targets.cpu().detach().numpy().tolist())\n",
        "#             fin_outputs.extend(torch.argmax(softm(outputs.logits),dim=1).cpu().detach().numpy().tolist())\n",
        "#             # print(\"--- %s seconds ---\" % (time.time() - start_time))\n",
        "#     return outputs, fin_outputs, fin_targets"
      ],
      "execution_count": null,
      "outputs": []
    },
    {
      "cell_type": "code",
      "metadata": {
        "id": "Pri5vmvTzONB"
      },
      "source": [
        "softm = torch.nn.Softmax(dim=1)\n",
        "ids = x.to(device, dtype = torch.long)\n",
        "mask = y.to(device, dtype = torch.long)\n",
        "outputs = model(ids, mask)\n",
        "print(outputs.logits.shape)\n",
        "fin_outputs = (torch.argmax(softm(outputs.logits),dim=2).cpu().detach().numpy())"
      ],
      "execution_count": null,
      "outputs": []
    },
    {
      "cell_type": "code",
      "metadata": {
        "id": "DDsIkdfbvCx1"
      },
      "source": [
        "xx = tokenizer.tokenize(test)"
      ],
      "execution_count": null,
      "outputs": []
    },
    {
      "cell_type": "code",
      "metadata": {
        "id": "BKGxXxwwz92y"
      },
      "source": [
        "fin_outputs.shape"
      ],
      "execution_count": null,
      "outputs": []
    },
    {
      "cell_type": "code",
      "metadata": {
        "id": "ZvDGEwKqz9vR"
      },
      "source": [
        "indexed_tokens = tokenizer.convert_tokens_to_string(xx)\n",
        "indexed_tokens"
      ],
      "execution_count": null,
      "outputs": []
    },
    {
      "cell_type": "code",
      "metadata": {
        "id": "KSiOauQkxbxr"
      },
      "source": [
        ""
      ],
      "execution_count": null,
      "outputs": []
    }
  ]
}