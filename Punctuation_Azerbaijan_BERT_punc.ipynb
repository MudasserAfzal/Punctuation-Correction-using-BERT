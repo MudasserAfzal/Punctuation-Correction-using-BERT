{
  "nbformat": 4,
  "nbformat_minor": 0,
  "metadata": {
    "accelerator": "GPU",
    "colab": {
      "name": "Punctuation Azerbaijan_BERT_punc.ipynb",
      "provenance": [],
      "collapsed_sections": [],
      "toc_visible": true,
      "machine_shape": "hm"
    },
    "kernelspec": {
      "display_name": "Python 3",
      "language": "python",
      "name": "python3"
    },
    "language_info": {
      "codemirror_mode": {
        "name": "ipython",
        "version": 3
      },
      "file_extension": ".py",
      "mimetype": "text/x-python",
      "name": "python",
      "nbconvert_exporter": "python",
      "pygments_lexer": "ipython3",
      "version": "3.7.9"
    }
  },
  "cells": [
    {
      "cell_type": "code",
      "metadata": {
        "colab": {
          "base_uri": "https://localhost:8080/"
        },
        "id": "kFf-ez800ThG",
        "outputId": "27d5c2e3-85ef-4dac-90e7-ca4c2422cf91"
      },
      "source": [
        "from google.colab import drive\n",
        "drive.mount('/content/drive')"
      ],
      "execution_count": 1,
      "outputs": [
        {
          "output_type": "stream",
          "text": [
            "Mounted at /content/drive\n"
          ],
          "name": "stdout"
        }
      ]
    },
    {
      "cell_type": "code",
      "metadata": {
        "colab": {
          "base_uri": "https://localhost:8080/"
        },
        "id": "zVvslsfMIrIh",
        "outputId": "8b292a36-6257-41f5-f323-fd75ad1d155e"
      },
      "source": [
        "!pip install transformers==4.0 contractions torch==1.3.1\n",
        "from transformers import BertTokenizer, BertModel\n",
        "tokenizer = BertTokenizer.from_pretrained('bert-base-multilingual-uncased')\n",
        "from transformers import AutoModelForTokenClassification, TrainingArguments, Trainer\n",
        "from tqdm import tqdm\n",
        "from sklearn.model_selection import train_test_split\n",
        "from torch import nn, cuda\n",
        "import pandas as pd\n",
        "import numpy as np\n",
        "from sklearn import metrics\n",
        "import matplotlib.gridspec as gridspec\n",
        "\n",
        "import seaborn\n",
        "import transformers\n",
        "import torch\n",
        "import nltk\n",
        "import re\n",
        "from sklearn.metrics import f1_score, precision_score, recall_score, accuracy_score\n",
        "import matplotlib.pyplot as plt\n",
        "from nltk.tokenize import word_tokenize\n",
        "from nltk.corpus import stopwords\n",
        "nltk.download(\"stopwords\")\n",
        "from nltk.stem import PorterStemmer\n",
        "from torch.utils.data import Dataset, DataLoader, RandomSampler, SequentialSampler\n",
        "from transformers import BertTokenizer, BertModel, BertConfig\n",
        "from torch import cuda, nn\n",
        "import torch\n",
        "device = 'cuda' if cuda.is_available() else 'cpu'"
      ],
      "execution_count": 1,
      "outputs": [
        {
          "output_type": "stream",
          "text": [
            "Requirement already satisfied: transformers==4.0 in /usr/local/lib/python3.7/dist-packages (4.0.0)\n",
            "Requirement already satisfied: contractions in /usr/local/lib/python3.7/dist-packages (0.0.48)\n",
            "Requirement already satisfied: torch==1.3.1 in /usr/local/lib/python3.7/dist-packages (1.3.1)\n",
            "Requirement already satisfied: packaging in /usr/local/lib/python3.7/dist-packages (from transformers==4.0) (20.9)\n",
            "Requirement already satisfied: filelock in /usr/local/lib/python3.7/dist-packages (from transformers==4.0) (3.0.12)\n",
            "Requirement already satisfied: numpy in /usr/local/lib/python3.7/dist-packages (from transformers==4.0) (1.19.5)\n",
            "Requirement already satisfied: regex!=2019.12.17 in /usr/local/lib/python3.7/dist-packages (from transformers==4.0) (2019.12.20)\n",
            "Requirement already satisfied: sacremoses in /usr/local/lib/python3.7/dist-packages (from transformers==4.0) (0.0.45)\n",
            "Requirement already satisfied: tokenizers==0.9.4 in /usr/local/lib/python3.7/dist-packages (from transformers==4.0) (0.9.4)\n",
            "Requirement already satisfied: requests in /usr/local/lib/python3.7/dist-packages (from transformers==4.0) (2.23.0)\n",
            "Requirement already satisfied: tqdm>=4.27 in /usr/local/lib/python3.7/dist-packages (from transformers==4.0) (4.41.1)\n",
            "Requirement already satisfied: textsearch>=0.0.21 in /usr/local/lib/python3.7/dist-packages (from contractions) (0.0.21)\n",
            "Requirement already satisfied: pyparsing>=2.0.2 in /usr/local/lib/python3.7/dist-packages (from packaging->transformers==4.0) (2.4.7)\n",
            "Requirement already satisfied: joblib in /usr/local/lib/python3.7/dist-packages (from sacremoses->transformers==4.0) (1.0.1)\n",
            "Requirement already satisfied: six in /usr/local/lib/python3.7/dist-packages (from sacremoses->transformers==4.0) (1.15.0)\n",
            "Requirement already satisfied: click in /usr/local/lib/python3.7/dist-packages (from sacremoses->transformers==4.0) (7.1.2)\n",
            "Requirement already satisfied: urllib3!=1.25.0,!=1.25.1,<1.26,>=1.21.1 in /usr/local/lib/python3.7/dist-packages (from requests->transformers==4.0) (1.24.3)\n",
            "Requirement already satisfied: idna<3,>=2.5 in /usr/local/lib/python3.7/dist-packages (from requests->transformers==4.0) (2.10)\n",
            "Requirement already satisfied: chardet<4,>=3.0.2 in /usr/local/lib/python3.7/dist-packages (from requests->transformers==4.0) (3.0.4)\n",
            "Requirement already satisfied: certifi>=2017.4.17 in /usr/local/lib/python3.7/dist-packages (from requests->transformers==4.0) (2020.12.5)\n",
            "Requirement already satisfied: anyascii in /usr/local/lib/python3.7/dist-packages (from textsearch>=0.0.21->contractions) (0.2.0)\n",
            "Requirement already satisfied: pyahocorasick in /usr/local/lib/python3.7/dist-packages (from textsearch>=0.0.21->contractions) (1.4.2)\n",
            "[nltk_data] Downloading package stopwords to /root/nltk_data...\n",
            "[nltk_data]   Package stopwords is already up-to-date!\n"
          ],
          "name": "stdout"
        }
      ]
    },
    {
      "cell_type": "code",
      "metadata": {
        "colab": {
          "base_uri": "https://localhost:8080/",
          "height": 204
        },
        "id": "1StPKg4wQXLK",
        "outputId": "ad677426-d890-4f04-a8fa-e03f6cf5ac58"
      },
      "source": [
        "df = pd.read_csv(\"/content/drive/MyDrive/punctuation data/aze_ds_ds.csv\")\n",
        "df.drop(columns=[\"text\", \"Unnamed: 0\"], axis=1, inplace=True)\n",
        "df.head()"
      ],
      "execution_count": 2,
      "outputs": [
        {
          "output_type": "execute_result",
          "data": {
            "text/html": [
              "<div>\n",
              "<style scoped>\n",
              "    .dataframe tbody tr th:only-of-type {\n",
              "        vertical-align: middle;\n",
              "    }\n",
              "\n",
              "    .dataframe tbody tr th {\n",
              "        vertical-align: top;\n",
              "    }\n",
              "\n",
              "    .dataframe thead th {\n",
              "        text-align: right;\n",
              "    }\n",
              "</style>\n",
              "<table border=\"1\" class=\"dataframe\">\n",
              "  <thead>\n",
              "    <tr style=\"text-align: right;\">\n",
              "      <th></th>\n",
              "      <th>clean_txt</th>\n",
              "    </tr>\n",
              "  </thead>\n",
              "  <tbody>\n",
              "    <tr>\n",
              "      <th>0</th>\n",
              "      <td>fenitləşmə qələvi süxurlar intruziyalarının ek...</td>\n",
              "    </tr>\n",
              "    <tr>\n",
              "      <th>1</th>\n",
              "      <td>qələvi süxur massivlərin yerləşməsini tənzim p...</td>\n",
              "    </tr>\n",
              "    <tr>\n",
              "      <th>2</th>\n",
              "      <td>i̇lkin süxurların qələvi çöl şpatı, egirin yax...</td>\n",
              "    </tr>\n",
              "    <tr>\n",
              "      <th>3</th>\n",
              "      <td>hornblend biotit egirinə keçir. \\n</td>\n",
              "    </tr>\n",
              "    <tr>\n",
              "      <th>4</th>\n",
              "      <td>kaliumlu çöl şpatı bulanlıqlaşır. plagioklaz n...</td>\n",
              "    </tr>\n",
              "  </tbody>\n",
              "</table>\n",
              "</div>"
            ],
            "text/plain": [
              "                                           clean_txt\n",
              "0  fenitləşmə qələvi süxurlar intruziyalarının ek...\n",
              "1  qələvi süxur massivlərin yerləşməsini tənzim p...\n",
              "2  i̇lkin süxurların qələvi çöl şpatı, egirin yax...\n",
              "3                 hornblend biotit egirinə keçir. \\n\n",
              "4  kaliumlu çöl şpatı bulanlıqlaşır. plagioklaz n..."
            ]
          },
          "metadata": {
            "tags": []
          },
          "execution_count": 2
        }
      ]
    },
    {
      "cell_type": "code",
      "metadata": {
        "id": "Yt19PXpa0mVR"
      },
      "source": [
        "def plotCurves(stats, path, f1=False):\n",
        "    fig = plt.figure(constrained_layout=True)\n",
        "    spec2 = gridspec.GridSpec(ncols=2, nrows=2, figure=fig)\n",
        "    ax1 = fig.add_subplot(spec2[0, 0])\n",
        "    ax2 = fig.add_subplot(spec2[0, 1])\n",
        "    ax3 = fig.add_subplot(spec2[1, 0])\n",
        "    for i in ['train_loss', 'valid_loss']: \n",
        "      ax1.plot(stats[i], label=i)\n",
        "    ax1.legend()\n",
        "    ax1.set_xlabel('Epochs')\n",
        "    ax1.set_ylabel('Loss')\n",
        "\n",
        "    for j in ['train_acc', 'valid_acc']: \n",
        "      ax2.plot(100 * stats[j], label=j)\n",
        "    ax2.legend()\n",
        "    ax2.set_xlabel('Epochs')\n",
        "    ax2.set_ylabel('Accuracy')\n",
        "    \n",
        "    if f1:\n",
        "        for c in ['train_f1', 'valid_f1']: \n",
        "          ax3.plot(stats[c], label=c)\n",
        "        ax3.legend()\n",
        "        ax3.set_xlabel('Epochs')\n",
        "        ax3.set_ylabel('F1 Score')\n",
        "    fig.savefig(path+'/Metrics.png')"
      ],
      "execution_count": 3,
      "outputs": []
    },
    {
      "cell_type": "code",
      "metadata": {
        "id": "iZUM49LJThPk"
      },
      "source": [
        "def removeDigits(string):\n",
        "  string = string.lower().replace(\"\\n\", \"\")\n",
        "  return ''.join(i for i in string if not i.isdigit())\n",
        "\n",
        "def getLength(string):\n",
        "  return len(string.split(\" \"))"
      ],
      "execution_count": 4,
      "outputs": []
    },
    {
      "cell_type": "code",
      "metadata": {
        "id": "XBQbcV8KwVq7"
      },
      "source": [
        "# Remove empty string from list\n",
        "def removeEmpty(li):\n",
        "  while(\"\" in li) :\n",
        "      li.remove(\"\")\n",
        "  while(\" \" in li) :\n",
        "      li.remove(\" \")\n",
        "  return li\n",
        "\n",
        "# Remove other punctuations\n",
        "def removePunct(sent):\n",
        "  updt = sent.replace(':','').replace(';','').replace(\"'\",'').replace('\"','').replace('(','').replace(')','').replace('_','').replace('/','').replace('__','')\n",
        "  return updt"
      ],
      "execution_count": 5,
      "outputs": []
    },
    {
      "cell_type": "code",
      "metadata": {
        "id": "wdgdNE6CrH_F"
      },
      "source": [
        "def labels(samples):\n",
        "  li = []\n",
        "  for each in samples:\n",
        "    each = each.strip()\n",
        "    if \",\" in each:\n",
        "      li.append(1)\n",
        "    elif \"?\" in each:\n",
        "      li.append(2)\n",
        "    elif \".\" in each:\n",
        "      li.append(3)\n",
        "    elif \"!\" in each:\n",
        "      li.append(4)  \n",
        "    else: li.append(0)\n",
        "  return li"
      ],
      "execution_count": 6,
      "outputs": []
    },
    {
      "cell_type": "code",
      "metadata": {
        "colab": {
          "base_uri": "https://localhost:8080/",
          "height": 204
        },
        "id": "8AHpKDi9ThK_",
        "outputId": "c5a16c36-70ab-4151-c438-fbe53c3161df"
      },
      "source": [
        "# Remove Digits\n",
        "df[\"clean_txt\"] = df[\"clean_txt\"].apply(lambda x: removeDigits(x))\n",
        "# Remove punctuations\n",
        "df[\"clean_txt\"] = df[\"clean_txt\"].apply(lambda x: removePunct(x))\n",
        "# Splitting into tokens\n",
        "df[\"tokens\"] = df['clean_txt'].apply(lambda x: x.split(\" \"))\n",
        "df.head()"
      ],
      "execution_count": 7,
      "outputs": [
        {
          "output_type": "execute_result",
          "data": {
            "text/html": [
              "<div>\n",
              "<style scoped>\n",
              "    .dataframe tbody tr th:only-of-type {\n",
              "        vertical-align: middle;\n",
              "    }\n",
              "\n",
              "    .dataframe tbody tr th {\n",
              "        vertical-align: top;\n",
              "    }\n",
              "\n",
              "    .dataframe thead th {\n",
              "        text-align: right;\n",
              "    }\n",
              "</style>\n",
              "<table border=\"1\" class=\"dataframe\">\n",
              "  <thead>\n",
              "    <tr style=\"text-align: right;\">\n",
              "      <th></th>\n",
              "      <th>clean_txt</th>\n",
              "      <th>tokens</th>\n",
              "    </tr>\n",
              "  </thead>\n",
              "  <tbody>\n",
              "    <tr>\n",
              "      <th>0</th>\n",
              "      <td>fenitləşmə qələvi süxurlar intruziyalarının ek...</td>\n",
              "      <td>[fenitləşmə, qələvi, süxurlar, intruziyalarını...</td>\n",
              "    </tr>\n",
              "    <tr>\n",
              "      <th>1</th>\n",
              "      <td>qələvi süxur massivlərin yerləşməsini tənzim p...</td>\n",
              "      <td>[qələvi, süxur, massivlərin, yerləşməsini, tən...</td>\n",
              "    </tr>\n",
              "    <tr>\n",
              "      <th>2</th>\n",
              "      <td>i̇lkin süxurların qələvi çöl şpatı, egirin yax...</td>\n",
              "      <td>[i̇lkin, süxurların, qələvi, çöl, şpatı,, egir...</td>\n",
              "    </tr>\n",
              "    <tr>\n",
              "      <th>3</th>\n",
              "      <td>hornblend biotit egirinə keçir.</td>\n",
              "      <td>[hornblend, biotit, egirinə, keçir., ]</td>\n",
              "    </tr>\n",
              "    <tr>\n",
              "      <th>4</th>\n",
              "      <td>kaliumlu çöl şpatı bulanlıqlaşır. plagioklaz n...</td>\n",
              "      <td>[kaliumlu, çöl, şpatı, bulanlıqlaşır., plagiok...</td>\n",
              "    </tr>\n",
              "  </tbody>\n",
              "</table>\n",
              "</div>"
            ],
            "text/plain": [
              "                                           clean_txt                                             tokens\n",
              "0  fenitləşmə qələvi süxurlar intruziyalarının ek...  [fenitləşmə, qələvi, süxurlar, intruziyalarını...\n",
              "1  qələvi süxur massivlərin yerləşməsini tənzim p...  [qələvi, süxur, massivlərin, yerləşməsini, tən...\n",
              "2  i̇lkin süxurların qələvi çöl şpatı, egirin yax...  [i̇lkin, süxurların, qələvi, çöl, şpatı,, egir...\n",
              "3                   hornblend biotit egirinə keçir.              [hornblend, biotit, egirinə, keçir., ]\n",
              "4  kaliumlu çöl şpatı bulanlıqlaşır. plagioklaz n...  [kaliumlu, çöl, şpatı, bulanlıqlaşır., plagiok..."
            ]
          },
          "metadata": {
            "tags": []
          },
          "execution_count": 7
        }
      ]
    },
    {
      "cell_type": "code",
      "metadata": {
        "id": "N0TtfSe_ruwJ"
      },
      "source": [
        "# Remove EMPTY\n",
        "df['new_tokens'] = df['tokens'].apply(lambda x: removeEmpty(x))\n",
        "# Getting length\n",
        "df['length'] = df['tokens'].apply(lambda x: len(x))\n",
        "# Create Labels\n",
        "df['labels'] = df['tokens'].apply(lambda x: labels(x))"
      ],
      "execution_count": 8,
      "outputs": []
    },
    {
      "cell_type": "code",
      "metadata": {
        "colab": {
          "base_uri": "https://localhost:8080/",
          "height": 204
        },
        "id": "eN83FnDAbEmJ",
        "outputId": "707b2376-2902-4968-e936-1d7bc4f7cad3"
      },
      "source": [
        "df.drop(['clean_txt', 'tokens'], axis=1, inplace=True) \n",
        "df.head()"
      ],
      "execution_count": 9,
      "outputs": [
        {
          "output_type": "execute_result",
          "data": {
            "text/html": [
              "<div>\n",
              "<style scoped>\n",
              "    .dataframe tbody tr th:only-of-type {\n",
              "        vertical-align: middle;\n",
              "    }\n",
              "\n",
              "    .dataframe tbody tr th {\n",
              "        vertical-align: top;\n",
              "    }\n",
              "\n",
              "    .dataframe thead th {\n",
              "        text-align: right;\n",
              "    }\n",
              "</style>\n",
              "<table border=\"1\" class=\"dataframe\">\n",
              "  <thead>\n",
              "    <tr style=\"text-align: right;\">\n",
              "      <th></th>\n",
              "      <th>new_tokens</th>\n",
              "      <th>length</th>\n",
              "      <th>labels</th>\n",
              "    </tr>\n",
              "  </thead>\n",
              "  <tbody>\n",
              "    <tr>\n",
              "      <th>0</th>\n",
              "      <td>[fenitləşmə, qələvi, süxurlar, intruziyalarını...</td>\n",
              "      <td>16</td>\n",
              "      <td>[0, 0, 0, 0, 0, 0, 1, 1, 0, 0, 0, 0, 0, 0, 0, 3]</td>\n",
              "    </tr>\n",
              "    <tr>\n",
              "      <th>1</th>\n",
              "      <td>[qələvi, süxur, massivlərin, yerləşməsini, tən...</td>\n",
              "      <td>9</td>\n",
              "      <td>[0, 0, 0, 0, 0, 0, 0, 0, 3]</td>\n",
              "    </tr>\n",
              "    <tr>\n",
              "      <th>2</th>\n",
              "      <td>[i̇lkin, süxurların, qələvi, çöl, şpatı,, egir...</td>\n",
              "      <td>10</td>\n",
              "      <td>[0, 0, 0, 0, 1, 0, 0, 0, 0, 3]</td>\n",
              "    </tr>\n",
              "    <tr>\n",
              "      <th>3</th>\n",
              "      <td>[hornblend, biotit, egirinə, keçir.]</td>\n",
              "      <td>4</td>\n",
              "      <td>[0, 0, 0, 3]</td>\n",
              "    </tr>\n",
              "    <tr>\n",
              "      <th>4</th>\n",
              "      <td>[kaliumlu, çöl, şpatı, bulanlıqlaşır., plagiok...</td>\n",
              "      <td>7</td>\n",
              "      <td>[0, 0, 0, 3, 0, 0, 3]</td>\n",
              "    </tr>\n",
              "  </tbody>\n",
              "</table>\n",
              "</div>"
            ],
            "text/plain": [
              "                                          new_tokens  ...                                            labels\n",
              "0  [fenitləşmə, qələvi, süxurlar, intruziyalarını...  ...  [0, 0, 0, 0, 0, 0, 1, 1, 0, 0, 0, 0, 0, 0, 0, 3]\n",
              "1  [qələvi, süxur, massivlərin, yerləşməsini, tən...  ...                       [0, 0, 0, 0, 0, 0, 0, 0, 3]\n",
              "2  [i̇lkin, süxurların, qələvi, çöl, şpatı,, egir...  ...                    [0, 0, 0, 0, 1, 0, 0, 0, 0, 3]\n",
              "3               [hornblend, biotit, egirinə, keçir.]  ...                                      [0, 0, 0, 3]\n",
              "4  [kaliumlu, çöl, şpatı, bulanlıqlaşır., plagiok...  ...                             [0, 0, 0, 3, 0, 0, 3]\n",
              "\n",
              "[5 rows x 3 columns]"
            ]
          },
          "metadata": {
            "tags": []
          },
          "execution_count": 9
        }
      ]
    },
    {
      "cell_type": "code",
      "metadata": {
        "colab": {
          "base_uri": "https://localhost:8080/"
        },
        "id": "Z19C88fxtEpc",
        "outputId": "38f744d2-0eb1-4cb9-e3d0-141960e27765"
      },
      "source": [
        "# Using data with length more than 50\n",
        "df=df[df['length'] > 50]\n",
        "len(df)"
      ],
      "execution_count": 10,
      "outputs": [
        {
          "output_type": "execute_result",
          "data": {
            "text/plain": [
              "20054"
            ]
          },
          "metadata": {
            "tags": []
          },
          "execution_count": 10
        }
      ]
    },
    {
      "cell_type": "markdown",
      "metadata": {
        "id": "oxMAnMs-asMS"
      },
      "source": [
        "## Model Class"
      ]
    },
    {
      "cell_type": "code",
      "metadata": {
        "id": "EWlNjb2S2FgG"
      },
      "source": [
        "# # Create a yaml file by name of model.yanl and put this in that \n",
        "# debug:\n",
        "#   summary_writer: true\n",
        "#   break_train_loop: false\n",
        "\n",
        "# experiment:\n",
        "#   name: bert-base-multilingual-uncased-unfreezed\n",
        "\n",
        "# data:\n",
        "#   data_path: /userhome/student/bial/neural-punctuator/data/bert-base-multilingual-uncased/\n",
        "#   output_labels: [empty, period, question, comma]\n",
        "\n",
        "# preprocessor:\n",
        "#   preproc_arg: TODO\n",
        "\n",
        "# model:\n",
        "#   name: szeged\n",
        "#   load_model_repo: bert-base-multilingual-uncased\n",
        "#   bert_output_dim: 768\n",
        "#   linear_hidden_dim: 2048\n",
        "#   num_classes: 5\n",
        "#   seq_len: 512\n",
        "#   dropout: 0.2\n",
        "\n",
        "#   save_model_path: /userhome/student/bial/neural-punctuator/models/\n",
        "\n",
        "# trainer:\n",
        "#   use_gpu: cuda:0\n",
        "#   batch_size: 4\n",
        "#   num_epochs: 12\n",
        "#   shuffle: true\n",
        "#   optimizer: adamw\n",
        "#   loss: NLLLoss\n",
        "#   base_learning_rate: 0.00003 #3e-5\n",
        "#   classifier_learning_rate: 0.0001 #1e-4\n",
        "#   metrics: [precision, recall, f-score, auc]\n",
        "#   warmup_steps: 300\n",
        "#   clip_seq: 32\n",
        "#   grad_clip: 1.5\n",
        "#   train_bert: true\n",
        "#   #load_model:\n",
        "#   seq_shift: 32   # Shift each training sample +-seq_shift to get more different samples\n",
        "#   show_confusion_matrix: false"
      ],
      "execution_count": 11,
      "outputs": []
    },
    {
      "cell_type": "code",
      "metadata": {
        "colab": {
          "base_uri": "https://localhost:8080/"
        },
        "id": "oR76NYDa0gZB",
        "outputId": "dff6aad5-6490-409b-ff8e-6ea6e89ff490"
      },
      "source": [
        "!pip install dotmap\n",
        "import logging\n",
        "import sys\n",
        "import numpy as np\n",
        "from abc import abstractmethod\n",
        "import torch\n",
        "import torch.nn as nn\n",
        "\n",
        "\n",
        "handler = logging.StreamHandler(sys.stdout)\n",
        "handler.setFormatter(logging.Formatter('%(asctime)s %(levelname)-9s %(message)s'))\n",
        "\n",
        "log = logging.getLogger(__name__)\n",
        "log.setLevel(logging.INFO)\n",
        "log.addHandler(handler)\n",
        "\n",
        "\n",
        "class BaseModel(nn.Module):\n",
        "    \"\"\"\n",
        "    Base class for all torch models\n",
        "    \"\"\"\n",
        "    def __init__(self, config):\n",
        "        super().__init__()\n",
        "        self._config = config\n",
        "\n",
        "    @abstractmethod\n",
        "    def forward(self, *inputs):\n",
        "        \"\"\"\n",
        "        Forward pass logic\n",
        "        :return: Model output\n",
        "        \"\"\"\n",
        "        raise NotImplementedError\n",
        "\n",
        "    def __str__(self):\n",
        "        \"\"\"\n",
        "        Model prints with number of trainable parameters\n",
        "        \"\"\"\n",
        "        model_parameters = filter(lambda p: p.requires_grad, self.parameters())\n",
        "        params = sum([np.prod(p.size()) for p in model_parameters])\n",
        "        return super().__str__() + '\\nTrainable parameters: {}'.format(params)\n",
        "\n",
        "    def save_model(self, optimizer, epoch):\n",
        "        log.info(\"Saving model...\")\n",
        "        torch.save(self.state_dict(), f'saved/models/{self._config.model.name}_{str(epoch)}.pth')\n",
        "        torch.save(optimizer.state_dict(), f'saved/models/{self._config.model.name}_{str(epoch)}_optimizer_state.pth')\n",
        "\n",
        "    def load_model(self, optimizer, epoch, model_name):\n",
        "        log.info(\"Loading model...\")\n",
        "        self.load_state_dict(torch.load(f'saved/models/{model_name}_{str(epoch)}.pth'))\n",
        "        optimizer.load_state_dict(torch.load(f'saved/models/{model_name}_{str(epoch)}_optimizer_state.pth'))\n",
        "\n",
        "from typing import Any\n",
        "\n",
        "import torch\n",
        "from torch import nn\n",
        "import torch.nn.functional as F\n",
        "\n",
        "\n",
        "from transformers import AutoTokenizer, AutoModel\n",
        "\n",
        "\n",
        "class BertPunctuator(BaseModel):\n",
        "    def __init__(self, config):\n",
        "        super().__init__(config)\n",
        "        # self.base = torch.hub.load(self._config.model.bert_github_repo, 'model', self._config.model.bert_variant_to_load)\n",
        "        self.base = AutoModel.from_pretrained(self._config.model.load_model_repo)\n",
        "\n",
        "        if not self._config.trainer.train_bert:\n",
        "            for param in self.base.parameters():\n",
        "                param.requires_grad = False\n",
        "\n",
        "        self.classifier = Classifier(self._config)\n",
        "\n",
        "    def forward(self, x, y):\n",
        "        if self._config.trainer.train_bert:\n",
        "            embedding, _ = self.base(input_ids=x, attention_mask=y, return_dict=False)\n",
        "        else:\n",
        "            with torch.no_grad():\n",
        "                embedding, _ = self.base(input_ids=x, attention_mask=y, return_dict=False)\n",
        "\n",
        "        output = self.classifier(embedding)\n",
        "        output = F.log_softmax(output, dim=-1)\n",
        "        return output\n",
        "\n",
        "    def train(self, mode=True):\n",
        "        if mode:\n",
        "            if self._config.trainer.train_bert:\n",
        "                self.base.train()\n",
        "            else:\n",
        "                self.base.eval()\n",
        "            self.classifier.train()\n",
        "        else:\n",
        "            self.base.eval()\n",
        "            self.classifier.eval()\n",
        "        return self\n",
        "\n",
        "    def eval(self):\n",
        "        self.train(False)\n",
        "        return self\n",
        "\n",
        "\n",
        "class Classifier(BaseModel):\n",
        "    def __init__(self, config):\n",
        "        super().__init__(None)\n",
        "        self.dropout1 = nn.Dropout(0.1)\n",
        "        self.linear1 = nn.Linear(config.model.bert_output_dim, config.model.linear_hidden_dim)\n",
        "        self.activation = nn.ReLU()\n",
        "        self.dropout2 = nn.Dropout(0.1)\n",
        "        self.linear2 = nn.Linear(config.model.linear_hidden_dim, config.model.num_classes)\n",
        "\n",
        "    def forward(self, x):\n",
        "        x = self.dropout1(x)\n",
        "        x = self.activation(self.linear1(x))\n",
        "        x = self.dropout2(x)\n",
        "        x = self.linear2(x)\n",
        "        return x\n",
        "\n",
        "\n",
        "import yaml\n",
        "from dotmap import DotMap\n",
        "def get_config_from_yaml(yaml_file):\n",
        "    with open(yaml_file, 'r') as config_file:\n",
        "        config_yaml = yaml.load(config_file)\n",
        "    # Using DotMap we will be able to reference nested parameters via attribute such as x.y instead of x['y']\n",
        "    config = DotMap(config_yaml)\n",
        "    return config\n",
        "\n",
        "  "
      ],
      "execution_count": 12,
      "outputs": [
        {
          "output_type": "stream",
          "text": [
            "Requirement already satisfied: dotmap in /usr/local/lib/python3.7/dist-packages (1.3.23)\n"
          ],
          "name": "stdout"
        }
      ]
    },
    {
      "cell_type": "code",
      "metadata": {
        "colab": {
          "base_uri": "https://localhost:8080/"
        },
        "id": "n0DhWY200tt3",
        "outputId": "3fac0beb-d0d4-47b6-c98e-4de0b4e0e91e"
      },
      "source": [
        "config = get_config_from_yaml('/content/drive/MyDrive/punctuation data/model.yaml')\n",
        "model = BertPunctuator(config)\n",
        "model.to(device)"
      ],
      "execution_count": 13,
      "outputs": [
        {
          "output_type": "execute_result",
          "data": {
            "text/plain": [
              "BertPunctuator(\n",
              "  (base): BertModel(\n",
              "    (embeddings): BertEmbeddings(\n",
              "      (word_embeddings): Embedding(105879, 768, padding_idx=0)\n",
              "      (position_embeddings): Embedding(512, 768)\n",
              "      (token_type_embeddings): Embedding(2, 768)\n",
              "      (LayerNorm): LayerNorm((768,), eps=1e-12, elementwise_affine=True)\n",
              "      (dropout): Dropout(p=0.1, inplace=False)\n",
              "    )\n",
              "    (encoder): BertEncoder(\n",
              "      (layer): ModuleList(\n",
              "        (0): BertLayer(\n",
              "          (attention): BertAttention(\n",
              "            (self): BertSelfAttention(\n",
              "              (query): Linear(in_features=768, out_features=768, bias=True)\n",
              "              (key): Linear(in_features=768, out_features=768, bias=True)\n",
              "              (value): Linear(in_features=768, out_features=768, bias=True)\n",
              "              (dropout): Dropout(p=0.1, inplace=False)\n",
              "            )\n",
              "            (output): BertSelfOutput(\n",
              "              (dense): Linear(in_features=768, out_features=768, bias=True)\n",
              "              (LayerNorm): LayerNorm((768,), eps=1e-12, elementwise_affine=True)\n",
              "              (dropout): Dropout(p=0.1, inplace=False)\n",
              "            )\n",
              "          )\n",
              "          (intermediate): BertIntermediate(\n",
              "            (dense): Linear(in_features=768, out_features=3072, bias=True)\n",
              "          )\n",
              "          (output): BertOutput(\n",
              "            (dense): Linear(in_features=3072, out_features=768, bias=True)\n",
              "            (LayerNorm): LayerNorm((768,), eps=1e-12, elementwise_affine=True)\n",
              "            (dropout): Dropout(p=0.1, inplace=False)\n",
              "          )\n",
              "        )\n",
              "        (1): BertLayer(\n",
              "          (attention): BertAttention(\n",
              "            (self): BertSelfAttention(\n",
              "              (query): Linear(in_features=768, out_features=768, bias=True)\n",
              "              (key): Linear(in_features=768, out_features=768, bias=True)\n",
              "              (value): Linear(in_features=768, out_features=768, bias=True)\n",
              "              (dropout): Dropout(p=0.1, inplace=False)\n",
              "            )\n",
              "            (output): BertSelfOutput(\n",
              "              (dense): Linear(in_features=768, out_features=768, bias=True)\n",
              "              (LayerNorm): LayerNorm((768,), eps=1e-12, elementwise_affine=True)\n",
              "              (dropout): Dropout(p=0.1, inplace=False)\n",
              "            )\n",
              "          )\n",
              "          (intermediate): BertIntermediate(\n",
              "            (dense): Linear(in_features=768, out_features=3072, bias=True)\n",
              "          )\n",
              "          (output): BertOutput(\n",
              "            (dense): Linear(in_features=3072, out_features=768, bias=True)\n",
              "            (LayerNorm): LayerNorm((768,), eps=1e-12, elementwise_affine=True)\n",
              "            (dropout): Dropout(p=0.1, inplace=False)\n",
              "          )\n",
              "        )\n",
              "        (2): BertLayer(\n",
              "          (attention): BertAttention(\n",
              "            (self): BertSelfAttention(\n",
              "              (query): Linear(in_features=768, out_features=768, bias=True)\n",
              "              (key): Linear(in_features=768, out_features=768, bias=True)\n",
              "              (value): Linear(in_features=768, out_features=768, bias=True)\n",
              "              (dropout): Dropout(p=0.1, inplace=False)\n",
              "            )\n",
              "            (output): BertSelfOutput(\n",
              "              (dense): Linear(in_features=768, out_features=768, bias=True)\n",
              "              (LayerNorm): LayerNorm((768,), eps=1e-12, elementwise_affine=True)\n",
              "              (dropout): Dropout(p=0.1, inplace=False)\n",
              "            )\n",
              "          )\n",
              "          (intermediate): BertIntermediate(\n",
              "            (dense): Linear(in_features=768, out_features=3072, bias=True)\n",
              "          )\n",
              "          (output): BertOutput(\n",
              "            (dense): Linear(in_features=3072, out_features=768, bias=True)\n",
              "            (LayerNorm): LayerNorm((768,), eps=1e-12, elementwise_affine=True)\n",
              "            (dropout): Dropout(p=0.1, inplace=False)\n",
              "          )\n",
              "        )\n",
              "        (3): BertLayer(\n",
              "          (attention): BertAttention(\n",
              "            (self): BertSelfAttention(\n",
              "              (query): Linear(in_features=768, out_features=768, bias=True)\n",
              "              (key): Linear(in_features=768, out_features=768, bias=True)\n",
              "              (value): Linear(in_features=768, out_features=768, bias=True)\n",
              "              (dropout): Dropout(p=0.1, inplace=False)\n",
              "            )\n",
              "            (output): BertSelfOutput(\n",
              "              (dense): Linear(in_features=768, out_features=768, bias=True)\n",
              "              (LayerNorm): LayerNorm((768,), eps=1e-12, elementwise_affine=True)\n",
              "              (dropout): Dropout(p=0.1, inplace=False)\n",
              "            )\n",
              "          )\n",
              "          (intermediate): BertIntermediate(\n",
              "            (dense): Linear(in_features=768, out_features=3072, bias=True)\n",
              "          )\n",
              "          (output): BertOutput(\n",
              "            (dense): Linear(in_features=3072, out_features=768, bias=True)\n",
              "            (LayerNorm): LayerNorm((768,), eps=1e-12, elementwise_affine=True)\n",
              "            (dropout): Dropout(p=0.1, inplace=False)\n",
              "          )\n",
              "        )\n",
              "        (4): BertLayer(\n",
              "          (attention): BertAttention(\n",
              "            (self): BertSelfAttention(\n",
              "              (query): Linear(in_features=768, out_features=768, bias=True)\n",
              "              (key): Linear(in_features=768, out_features=768, bias=True)\n",
              "              (value): Linear(in_features=768, out_features=768, bias=True)\n",
              "              (dropout): Dropout(p=0.1, inplace=False)\n",
              "            )\n",
              "            (output): BertSelfOutput(\n",
              "              (dense): Linear(in_features=768, out_features=768, bias=True)\n",
              "              (LayerNorm): LayerNorm((768,), eps=1e-12, elementwise_affine=True)\n",
              "              (dropout): Dropout(p=0.1, inplace=False)\n",
              "            )\n",
              "          )\n",
              "          (intermediate): BertIntermediate(\n",
              "            (dense): Linear(in_features=768, out_features=3072, bias=True)\n",
              "          )\n",
              "          (output): BertOutput(\n",
              "            (dense): Linear(in_features=3072, out_features=768, bias=True)\n",
              "            (LayerNorm): LayerNorm((768,), eps=1e-12, elementwise_affine=True)\n",
              "            (dropout): Dropout(p=0.1, inplace=False)\n",
              "          )\n",
              "        )\n",
              "        (5): BertLayer(\n",
              "          (attention): BertAttention(\n",
              "            (self): BertSelfAttention(\n",
              "              (query): Linear(in_features=768, out_features=768, bias=True)\n",
              "              (key): Linear(in_features=768, out_features=768, bias=True)\n",
              "              (value): Linear(in_features=768, out_features=768, bias=True)\n",
              "              (dropout): Dropout(p=0.1, inplace=False)\n",
              "            )\n",
              "            (output): BertSelfOutput(\n",
              "              (dense): Linear(in_features=768, out_features=768, bias=True)\n",
              "              (LayerNorm): LayerNorm((768,), eps=1e-12, elementwise_affine=True)\n",
              "              (dropout): Dropout(p=0.1, inplace=False)\n",
              "            )\n",
              "          )\n",
              "          (intermediate): BertIntermediate(\n",
              "            (dense): Linear(in_features=768, out_features=3072, bias=True)\n",
              "          )\n",
              "          (output): BertOutput(\n",
              "            (dense): Linear(in_features=3072, out_features=768, bias=True)\n",
              "            (LayerNorm): LayerNorm((768,), eps=1e-12, elementwise_affine=True)\n",
              "            (dropout): Dropout(p=0.1, inplace=False)\n",
              "          )\n",
              "        )\n",
              "        (6): BertLayer(\n",
              "          (attention): BertAttention(\n",
              "            (self): BertSelfAttention(\n",
              "              (query): Linear(in_features=768, out_features=768, bias=True)\n",
              "              (key): Linear(in_features=768, out_features=768, bias=True)\n",
              "              (value): Linear(in_features=768, out_features=768, bias=True)\n",
              "              (dropout): Dropout(p=0.1, inplace=False)\n",
              "            )\n",
              "            (output): BertSelfOutput(\n",
              "              (dense): Linear(in_features=768, out_features=768, bias=True)\n",
              "              (LayerNorm): LayerNorm((768,), eps=1e-12, elementwise_affine=True)\n",
              "              (dropout): Dropout(p=0.1, inplace=False)\n",
              "            )\n",
              "          )\n",
              "          (intermediate): BertIntermediate(\n",
              "            (dense): Linear(in_features=768, out_features=3072, bias=True)\n",
              "          )\n",
              "          (output): BertOutput(\n",
              "            (dense): Linear(in_features=3072, out_features=768, bias=True)\n",
              "            (LayerNorm): LayerNorm((768,), eps=1e-12, elementwise_affine=True)\n",
              "            (dropout): Dropout(p=0.1, inplace=False)\n",
              "          )\n",
              "        )\n",
              "        (7): BertLayer(\n",
              "          (attention): BertAttention(\n",
              "            (self): BertSelfAttention(\n",
              "              (query): Linear(in_features=768, out_features=768, bias=True)\n",
              "              (key): Linear(in_features=768, out_features=768, bias=True)\n",
              "              (value): Linear(in_features=768, out_features=768, bias=True)\n",
              "              (dropout): Dropout(p=0.1, inplace=False)\n",
              "            )\n",
              "            (output): BertSelfOutput(\n",
              "              (dense): Linear(in_features=768, out_features=768, bias=True)\n",
              "              (LayerNorm): LayerNorm((768,), eps=1e-12, elementwise_affine=True)\n",
              "              (dropout): Dropout(p=0.1, inplace=False)\n",
              "            )\n",
              "          )\n",
              "          (intermediate): BertIntermediate(\n",
              "            (dense): Linear(in_features=768, out_features=3072, bias=True)\n",
              "          )\n",
              "          (output): BertOutput(\n",
              "            (dense): Linear(in_features=3072, out_features=768, bias=True)\n",
              "            (LayerNorm): LayerNorm((768,), eps=1e-12, elementwise_affine=True)\n",
              "            (dropout): Dropout(p=0.1, inplace=False)\n",
              "          )\n",
              "        )\n",
              "        (8): BertLayer(\n",
              "          (attention): BertAttention(\n",
              "            (self): BertSelfAttention(\n",
              "              (query): Linear(in_features=768, out_features=768, bias=True)\n",
              "              (key): Linear(in_features=768, out_features=768, bias=True)\n",
              "              (value): Linear(in_features=768, out_features=768, bias=True)\n",
              "              (dropout): Dropout(p=0.1, inplace=False)\n",
              "            )\n",
              "            (output): BertSelfOutput(\n",
              "              (dense): Linear(in_features=768, out_features=768, bias=True)\n",
              "              (LayerNorm): LayerNorm((768,), eps=1e-12, elementwise_affine=True)\n",
              "              (dropout): Dropout(p=0.1, inplace=False)\n",
              "            )\n",
              "          )\n",
              "          (intermediate): BertIntermediate(\n",
              "            (dense): Linear(in_features=768, out_features=3072, bias=True)\n",
              "          )\n",
              "          (output): BertOutput(\n",
              "            (dense): Linear(in_features=3072, out_features=768, bias=True)\n",
              "            (LayerNorm): LayerNorm((768,), eps=1e-12, elementwise_affine=True)\n",
              "            (dropout): Dropout(p=0.1, inplace=False)\n",
              "          )\n",
              "        )\n",
              "        (9): BertLayer(\n",
              "          (attention): BertAttention(\n",
              "            (self): BertSelfAttention(\n",
              "              (query): Linear(in_features=768, out_features=768, bias=True)\n",
              "              (key): Linear(in_features=768, out_features=768, bias=True)\n",
              "              (value): Linear(in_features=768, out_features=768, bias=True)\n",
              "              (dropout): Dropout(p=0.1, inplace=False)\n",
              "            )\n",
              "            (output): BertSelfOutput(\n",
              "              (dense): Linear(in_features=768, out_features=768, bias=True)\n",
              "              (LayerNorm): LayerNorm((768,), eps=1e-12, elementwise_affine=True)\n",
              "              (dropout): Dropout(p=0.1, inplace=False)\n",
              "            )\n",
              "          )\n",
              "          (intermediate): BertIntermediate(\n",
              "            (dense): Linear(in_features=768, out_features=3072, bias=True)\n",
              "          )\n",
              "          (output): BertOutput(\n",
              "            (dense): Linear(in_features=3072, out_features=768, bias=True)\n",
              "            (LayerNorm): LayerNorm((768,), eps=1e-12, elementwise_affine=True)\n",
              "            (dropout): Dropout(p=0.1, inplace=False)\n",
              "          )\n",
              "        )\n",
              "        (10): BertLayer(\n",
              "          (attention): BertAttention(\n",
              "            (self): BertSelfAttention(\n",
              "              (query): Linear(in_features=768, out_features=768, bias=True)\n",
              "              (key): Linear(in_features=768, out_features=768, bias=True)\n",
              "              (value): Linear(in_features=768, out_features=768, bias=True)\n",
              "              (dropout): Dropout(p=0.1, inplace=False)\n",
              "            )\n",
              "            (output): BertSelfOutput(\n",
              "              (dense): Linear(in_features=768, out_features=768, bias=True)\n",
              "              (LayerNorm): LayerNorm((768,), eps=1e-12, elementwise_affine=True)\n",
              "              (dropout): Dropout(p=0.1, inplace=False)\n",
              "            )\n",
              "          )\n",
              "          (intermediate): BertIntermediate(\n",
              "            (dense): Linear(in_features=768, out_features=3072, bias=True)\n",
              "          )\n",
              "          (output): BertOutput(\n",
              "            (dense): Linear(in_features=3072, out_features=768, bias=True)\n",
              "            (LayerNorm): LayerNorm((768,), eps=1e-12, elementwise_affine=True)\n",
              "            (dropout): Dropout(p=0.1, inplace=False)\n",
              "          )\n",
              "        )\n",
              "        (11): BertLayer(\n",
              "          (attention): BertAttention(\n",
              "            (self): BertSelfAttention(\n",
              "              (query): Linear(in_features=768, out_features=768, bias=True)\n",
              "              (key): Linear(in_features=768, out_features=768, bias=True)\n",
              "              (value): Linear(in_features=768, out_features=768, bias=True)\n",
              "              (dropout): Dropout(p=0.1, inplace=False)\n",
              "            )\n",
              "            (output): BertSelfOutput(\n",
              "              (dense): Linear(in_features=768, out_features=768, bias=True)\n",
              "              (LayerNorm): LayerNorm((768,), eps=1e-12, elementwise_affine=True)\n",
              "              (dropout): Dropout(p=0.1, inplace=False)\n",
              "            )\n",
              "          )\n",
              "          (intermediate): BertIntermediate(\n",
              "            (dense): Linear(in_features=768, out_features=3072, bias=True)\n",
              "          )\n",
              "          (output): BertOutput(\n",
              "            (dense): Linear(in_features=3072, out_features=768, bias=True)\n",
              "            (LayerNorm): LayerNorm((768,), eps=1e-12, elementwise_affine=True)\n",
              "            (dropout): Dropout(p=0.1, inplace=False)\n",
              "          )\n",
              "        )\n",
              "      )\n",
              "    )\n",
              "    (pooler): BertPooler(\n",
              "      (dense): Linear(in_features=768, out_features=768, bias=True)\n",
              "      (activation): Tanh()\n",
              "    )\n",
              "  )\n",
              "  (classifier): Classifier(\n",
              "    (dropout1): Dropout(p=0.1, inplace=False)\n",
              "    (linear1): Linear(in_features=768, out_features=2048, bias=True)\n",
              "    (activation): ReLU()\n",
              "    (dropout2): Dropout(p=0.1, inplace=False)\n",
              "    (linear2): Linear(in_features=2048, out_features=5, bias=True)\n",
              "  )\n",
              ")"
            ]
          },
          "metadata": {
            "tags": []
          },
          "execution_count": 13
        }
      ]
    },
    {
      "cell_type": "markdown",
      "metadata": {
        "id": "3NICx3EDPw-z"
      },
      "source": [
        "## Our Dataset"
      ]
    },
    {
      "cell_type": "code",
      "metadata": {
        "id": "mTe-ANPqz1RO"
      },
      "source": [
        "class CustomDataset(Dataset):\n",
        "    def __init__(self, dataframe, label, device):\n",
        "        # super(CustomDataset, self).__init__(dataframe, label)\n",
        "        self.dataframe = dataframe\n",
        "        self.ids = self.dataframe['input_ids'].values.tolist()\n",
        "        self.mask = self.dataframe['attention_mask'].values.tolist()\n",
        "        self.targets = label.values.tolist()\n",
        "       \n",
        "    def __len__(self):\n",
        "        return len(self.dataframe)\n",
        "\n",
        "    def __getitem__(self, index):\n",
        "\n",
        "        ids = self.ids[index]\n",
        "        mask = self.mask[index]\n",
        "        t_value = self.targets[index]       #index by iteration\n",
        "        return {\n",
        "            'ids': torch.tensor(ids, dtype=torch.long).to(device, dtype = torch.long),\n",
        "            'mask': torch.tensor(mask, dtype=torch.long).to(device, dtype = torch.long),\n",
        "            'targets': torch.tensor(t_value, dtype=torch.long).to(device)\n",
        "        }\n",
        "        "
      ],
      "execution_count": 14,
      "outputs": []
    },
    {
      "cell_type": "markdown",
      "metadata": {
        "id": "_FEBAnN9hzdl"
      },
      "source": [
        "## initializing tokenizers"
      ]
    },
    {
      "cell_type": "code",
      "metadata": {
        "id": "eXNLu_-nIrJI"
      },
      "source": [
        "from transformers import AutoTokenizer\n",
        "model_checkpoint = \"distilbert-base-uncased\"\n",
        "tokenizer = AutoTokenizer.from_pretrained(model_checkpoint)\n",
        "import transformers\n",
        "assert isinstance(tokenizer, transformers.PreTrainedTokenizerFast)"
      ],
      "execution_count": 15,
      "outputs": []
    },
    {
      "cell_type": "code",
      "metadata": {
        "id": "M-LDZuCNphJL"
      },
      "source": [
        "label_all_tokens = True\n",
        "def tokenize_and_align_labels(examples):\n",
        "    tokenized_inputs = tokenizer(list(examples['new_tokens']), truncation=True, is_split_into_words=True, max_length=512, pad_to_max_length=True)\n",
        "    labels = []\n",
        "    for i, label in enumerate(examples[\"labels\"]):\n",
        "        word_ids = tokenized_inputs.word_ids(batch_index=i)\n",
        "        previous_word_idx = None\n",
        "        label_ids = []\n",
        "        for word_idx in word_ids:\n",
        "            # Special tokens have a word id that is None. We set the label to -100 so they are automatically\n",
        "            # ignored in the loss function.\n",
        "            if word_idx is None:\n",
        "                label_ids.append(0)\n",
        "            # We set the label for the first token of each word.\n",
        "            elif word_idx != previous_word_idx:\n",
        "                label_ids.append(label[word_idx])\n",
        "            # For the other tokens in a word, we set the label to either the current label or -100, depending on\n",
        "            # the label_all_tokens flag.\n",
        "            else:\n",
        "                label_ids.append(label[word_idx] if label_all_tokens else 0)\n",
        "            previous_word_idx = word_idx\n",
        "\n",
        "        labels.append(label_ids)\n",
        "\n",
        "    tokenized_inputs[\"labels\"] = labels\n",
        "    return tokenized_inputs"
      ],
      "execution_count": 16,
      "outputs": []
    },
    {
      "cell_type": "code",
      "metadata": {
        "colab": {
          "base_uri": "https://localhost:8080/",
          "height": 204
        },
        "id": "38C8N-8C4NVz",
        "outputId": "57450a55-16c6-40ed-9b82-4e590eb5a102"
      },
      "source": [
        "df.head()"
      ],
      "execution_count": 17,
      "outputs": [
        {
          "output_type": "execute_result",
          "data": {
            "text/html": [
              "<div>\n",
              "<style scoped>\n",
              "    .dataframe tbody tr th:only-of-type {\n",
              "        vertical-align: middle;\n",
              "    }\n",
              "\n",
              "    .dataframe tbody tr th {\n",
              "        vertical-align: top;\n",
              "    }\n",
              "\n",
              "    .dataframe thead th {\n",
              "        text-align: right;\n",
              "    }\n",
              "</style>\n",
              "<table border=\"1\" class=\"dataframe\">\n",
              "  <thead>\n",
              "    <tr style=\"text-align: right;\">\n",
              "      <th></th>\n",
              "      <th>new_tokens</th>\n",
              "      <th>length</th>\n",
              "      <th>labels</th>\n",
              "    </tr>\n",
              "  </thead>\n",
              "  <tbody>\n",
              "    <tr>\n",
              "      <th>171</th>\n",
              "      <td>[birləşmiş, nüvə, araşdırma, i̇nstitutu, qısac...</td>\n",
              "      <td>55</td>\n",
              "      <td>[0, 0, 0, 0, 0, 0, 0, 0, 0, 1, 0, 0, 0, 0, 0, ...</td>\n",
              "    </tr>\n",
              "    <tr>\n",
              "      <th>177</th>\n",
              "      <td>[bnai̇nun, yaradılması, ərəfəsində, yüklənmiş,...</td>\n",
              "      <td>123</td>\n",
              "      <td>[0, 0, 0, 0, 0, 0, 1, 0, 0, 0, 0, 0, 0, 0, 0, ...</td>\n",
              "    </tr>\n",
              "    <tr>\n",
              "      <th>181</th>\n",
              "      <td>[nailiyyətlər., ci, ildə,, bnai̇nun, mükafatla...</td>\n",
              "      <td>115</td>\n",
              "      <td>[3, 0, 1, 0, 0, 0, 0, 1, 1, 0, 0, 0, 0, 0, 0, ...</td>\n",
              "    </tr>\n",
              "    <tr>\n",
              "      <th>323</th>\n",
              "      <td>[müharibə, dünyanın, böyük, uzunmüddətli, kred...</td>\n",
              "      <td>58</td>\n",
              "      <td>[0, 0, 0, 0, 0, 0, 0, 0, 0, 0, 0, 0, 0, 0, 1, ...</td>\n",
              "    </tr>\n",
              "    <tr>\n",
              "      <th>331</th>\n",
              "      <td>[soyuq, müharibə, sona, ci, sovet, i̇ttifaqı, ...</td>\n",
              "      <td>73</td>\n",
              "      <td>[0, 0, 0, 0, 0, 0, 0, 0, 0, 0, 0, 0, 0, 0, 0, ...</td>\n",
              "    </tr>\n",
              "  </tbody>\n",
              "</table>\n",
              "</div>"
            ],
            "text/plain": [
              "                                            new_tokens  ...                                             labels\n",
              "171  [birləşmiş, nüvə, araşdırma, i̇nstitutu, qısac...  ...  [0, 0, 0, 0, 0, 0, 0, 0, 0, 1, 0, 0, 0, 0, 0, ...\n",
              "177  [bnai̇nun, yaradılması, ərəfəsində, yüklənmiş,...  ...  [0, 0, 0, 0, 0, 0, 1, 0, 0, 0, 0, 0, 0, 0, 0, ...\n",
              "181  [nailiyyətlər., ci, ildə,, bnai̇nun, mükafatla...  ...  [3, 0, 1, 0, 0, 0, 0, 1, 1, 0, 0, 0, 0, 0, 0, ...\n",
              "323  [müharibə, dünyanın, böyük, uzunmüddətli, kred...  ...  [0, 0, 0, 0, 0, 0, 0, 0, 0, 0, 0, 0, 0, 0, 1, ...\n",
              "331  [soyuq, müharibə, sona, ci, sovet, i̇ttifaqı, ...  ...  [0, 0, 0, 0, 0, 0, 0, 0, 0, 0, 0, 0, 0, 0, 0, ...\n",
              "\n",
              "[5 rows x 3 columns]"
            ]
          },
          "metadata": {
            "tags": []
          },
          "execution_count": 17
        }
      ]
    },
    {
      "cell_type": "code",
      "metadata": {
        "colab": {
          "base_uri": "https://localhost:8080/"
        },
        "id": "TgHGRUPV1xr6",
        "outputId": "6404159f-0ad6-4e47-d4d6-06c0ddb25dbe"
      },
      "source": [
        "inputs = tokenize_and_align_labels(df)"
      ],
      "execution_count": 18,
      "outputs": [
        {
          "output_type": "stream",
          "text": [
            "/usr/local/lib/python3.7/dist-packages/transformers/tokenization_utils_base.py:2142: FutureWarning: The `pad_to_max_length` argument is deprecated and will be removed in a future version, use `padding=True` or `padding='longest'` to pad to the longest sequence in the batch, or use `padding='max_length'` to pad to a max length. In this case, you can give a specific length with `max_length` (e.g. `max_length=45`) or leave max_length to None to pad to the maximal input size of the model (e.g. 512 for Bert).\n",
            "  FutureWarning,\n"
          ],
          "name": "stderr"
        }
      ]
    },
    {
      "cell_type": "code",
      "metadata": {
        "colab": {
          "base_uri": "https://localhost:8080/"
        },
        "id": "94Ge0F9djT_D",
        "outputId": "db437110-0100-4d6c-9a79-122b672392da"
      },
      "source": [
        "inputs.keys()"
      ],
      "execution_count": 19,
      "outputs": [
        {
          "output_type": "execute_result",
          "data": {
            "text/plain": [
              "dict_keys(['input_ids', 'attention_mask', 'labels'])"
            ]
          },
          "metadata": {
            "tags": []
          },
          "execution_count": 19
        }
      ]
    },
    {
      "cell_type": "code",
      "metadata": {
        "colab": {
          "base_uri": "https://localhost:8080/",
          "height": 204
        },
        "id": "C0vtaKcg813m",
        "outputId": "8226e327-e1b8-4537-a8a3-78f59b499d54"
      },
      "source": [
        "df_train = pd.DataFrame.from_dict(inputs, orient='index')\n",
        "df_train = df_train.T\n",
        "df_train.head()"
      ],
      "execution_count": 20,
      "outputs": [
        {
          "output_type": "execute_result",
          "data": {
            "text/html": [
              "<div>\n",
              "<style scoped>\n",
              "    .dataframe tbody tr th:only-of-type {\n",
              "        vertical-align: middle;\n",
              "    }\n",
              "\n",
              "    .dataframe tbody tr th {\n",
              "        vertical-align: top;\n",
              "    }\n",
              "\n",
              "    .dataframe thead th {\n",
              "        text-align: right;\n",
              "    }\n",
              "</style>\n",
              "<table border=\"1\" class=\"dataframe\">\n",
              "  <thead>\n",
              "    <tr style=\"text-align: right;\">\n",
              "      <th></th>\n",
              "      <th>input_ids</th>\n",
              "      <th>attention_mask</th>\n",
              "      <th>labels</th>\n",
              "    </tr>\n",
              "  </thead>\n",
              "  <tbody>\n",
              "    <tr>\n",
              "      <th>0</th>\n",
              "      <td>[101, 12170, 12190, 29681, 6491, 2483, 16371, ...</td>\n",
              "      <td>[1, 1, 1, 1, 1, 1, 1, 1, 1, 1, 1, 1, 1, 1, 1, ...</td>\n",
              "      <td>[0, 0, 0, 0, 0, 0, 0, 0, 0, 0, 0, 0, 0, 0, 0, ...</td>\n",
              "    </tr>\n",
              "    <tr>\n",
              "      <th>1</th>\n",
              "      <td>[101, 24869, 8113, 4609, 8038, 12173, 11722, 1...</td>\n",
              "      <td>[1, 1, 1, 1, 1, 1, 1, 1, 1, 1, 1, 1, 1, 1, 1, ...</td>\n",
              "      <td>[0, 0, 0, 0, 0, 0, 0, 0, 0, 0, 0, 0, 0, 0, 0, ...</td>\n",
              "    </tr>\n",
              "    <tr>\n",
              "      <th>2</th>\n",
              "      <td>[101, 13774, 28008, 2100, 29681, 19646, 29681,...</td>\n",
              "      <td>[1, 1, 1, 1, 1, 1, 1, 1, 1, 1, 1, 1, 1, 1, 1, ...</td>\n",
              "      <td>[0, 3, 3, 3, 3, 3, 3, 3, 3, 0, 1, 1, 1, 1, 0, ...</td>\n",
              "    </tr>\n",
              "    <tr>\n",
              "      <th>3</th>\n",
              "      <td>[101, 14163, 18428, 2497, 29681, 24654, 7054, ...</td>\n",
              "      <td>[1, 1, 1, 1, 1, 1, 1, 1, 1, 1, 1, 1, 1, 1, 1, ...</td>\n",
              "      <td>[0, 0, 0, 0, 0, 0, 0, 0, 0, 0, 0, 0, 0, 0, 0, ...</td>\n",
              "    </tr>\n",
              "    <tr>\n",
              "      <th>4</th>\n",
              "      <td>[101, 25176, 2226, 4160, 14163, 18428, 2497, 2...</td>\n",
              "      <td>[1, 1, 1, 1, 1, 1, 1, 1, 1, 1, 1, 1, 1, 1, 1, ...</td>\n",
              "      <td>[0, 0, 0, 0, 0, 0, 0, 0, 0, 0, 0, 0, 0, 0, 0, ...</td>\n",
              "    </tr>\n",
              "  </tbody>\n",
              "</table>\n",
              "</div>"
            ],
            "text/plain": [
              "                                           input_ids  ...                                             labels\n",
              "0  [101, 12170, 12190, 29681, 6491, 2483, 16371, ...  ...  [0, 0, 0, 0, 0, 0, 0, 0, 0, 0, 0, 0, 0, 0, 0, ...\n",
              "1  [101, 24869, 8113, 4609, 8038, 12173, 11722, 1...  ...  [0, 0, 0, 0, 0, 0, 0, 0, 0, 0, 0, 0, 0, 0, 0, ...\n",
              "2  [101, 13774, 28008, 2100, 29681, 19646, 29681,...  ...  [0, 3, 3, 3, 3, 3, 3, 3, 3, 0, 1, 1, 1, 1, 0, ...\n",
              "3  [101, 14163, 18428, 2497, 29681, 24654, 7054, ...  ...  [0, 0, 0, 0, 0, 0, 0, 0, 0, 0, 0, 0, 0, 0, 0, ...\n",
              "4  [101, 25176, 2226, 4160, 14163, 18428, 2497, 2...  ...  [0, 0, 0, 0, 0, 0, 0, 0, 0, 0, 0, 0, 0, 0, 0, ...\n",
              "\n",
              "[5 rows x 3 columns]"
            ]
          },
          "metadata": {
            "tags": []
          },
          "execution_count": 20
        }
      ]
    },
    {
      "cell_type": "code",
      "metadata": {
        "id": "f-wSDMCSr1nM"
      },
      "source": [
        "L = ['input_ids','attention_mask','labels']\n",
        "for z in L:\n",
        "  for i in df_train[z]:\n",
        "    if len(i) != 512:\n",
        "      print('error')"
      ],
      "execution_count": 21,
      "outputs": []
    },
    {
      "cell_type": "markdown",
      "metadata": {
        "id": "lguRH01R3Exi"
      },
      "source": [
        "## Data splitting"
      ]
    },
    {
      "cell_type": "code",
      "metadata": {
        "id": "6DtZOOgi3Dt2"
      },
      "source": [
        "X_train, X_test, y_train, y_test = train_test_split(df_train.drop(columns = 'labels', axis=1), df_train['labels'], test_size=0.40, random_state=42)"
      ],
      "execution_count": 23,
      "outputs": []
    },
    {
      "cell_type": "markdown",
      "metadata": {
        "id": "oOyUASs5hyme"
      },
      "source": [
        "## now creating custom classes."
      ]
    },
    {
      "cell_type": "code",
      "metadata": {
        "id": "Eo4huDc-uErg"
      },
      "source": [
        "TRAIN_BATCH_SIZE = 6\n",
        "VALID_BATCH_SIZE = 6\n",
        "training_set = CustomDataset(X_train, y_train, device)\n",
        "testing_set = CustomDataset(X_test, y_test, device)\n",
        "training_loader = DataLoader(training_set, batch_size = TRAIN_BATCH_SIZE, num_workers=0, shuffle = True)\n",
        "testing_loader = DataLoader(testing_set, batch_size = VALID_BATCH_SIZE, num_workers=0, shuffle = True)"
      ],
      "execution_count": 24,
      "outputs": []
    },
    {
      "cell_type": "code",
      "metadata": {
        "id": "8SZpIkrtJUVk"
      },
      "source": [
        "# model = AutoModelForTokenClassification.from_pretrained(model_checkpoint, num_labels=2)\n",
        "# model.to(device)"
      ],
      "execution_count": 25,
      "outputs": []
    },
    {
      "cell_type": "code",
      "metadata": {
        "id": "jRE-P3xcpJJi"
      },
      "source": [
        "LEARNING_RATE = 0.00003\n",
        "criterion = nn.BCEWithLogitsLoss()     # we can use it for cross entropy loss. in case of focal loss we don't need this\n",
        "optimizer = torch.optim.SGD(params =  model.parameters(), lr=LEARNING_RATE, momentum=0.8)"
      ],
      "execution_count": 26,
      "outputs": []
    },
    {
      "cell_type": "code",
      "metadata": {
        "id": "MaxSLjk3jlMl"
      },
      "source": [
        "# inp = next(iter(training_loader))\n",
        "# ids = inp[\"ids\"].to(device, dtype = torch.long)\n",
        "# mask = inp[\"mask\"].to(device, dtype = torch.long)\n",
        "# lbl = inp[\"targets\"].to(device, dtype = torch.long)\n",
        "# outputs = model(ids, mask)\n",
        "# softm = torch.nn.Softmax(dim=1)\n",
        "# pred = torch.argmax(softm(outputs.logits), dim=2).detach().cpu().numpy()\n",
        "# label = lbl.detach().cpu().numpy()"
      ],
      "execution_count": 27,
      "outputs": []
    },
    {
      "cell_type": "code",
      "metadata": {
        "id": "ThhcqojlORhU"
      },
      "source": [
        "# f1_score(label.flatten(), pred.flatten(), average='weighted')"
      ],
      "execution_count": null,
      "outputs": []
    },
    {
      "cell_type": "code",
      "metadata": {
        "id": "-eO_-PaONVQ0"
      },
      "source": [
        "# f1=[]\n",
        "# for i, _ in enumerate(range(label.shape[0])):\n",
        "#   f1.append(f1_score(label[i], pred[i], average='weighted'))\n",
        "# np.mean(f1)"
      ],
      "execution_count": null,
      "outputs": []
    },
    {
      "cell_type": "code",
      "metadata": {
        "id": "RG2nKj5Zjplp"
      },
      "source": [
        "# print(lbl.shape)\n",
        "# print(outputs.logits.shape)\n",
        "# targets = torch.nn.functional.one_hot(lbl, 5)\n",
        "# print(targets.shape)\n",
        "# # loss = criterion(outputs, targets)"
      ],
      "execution_count": null,
      "outputs": []
    },
    {
      "cell_type": "markdown",
      "metadata": {
        "id": "FuhKTizkjA8Z"
      },
      "source": [
        ""
      ]
    },
    {
      "cell_type": "code",
      "metadata": {
        "id": "BmGUnZHnpN9u"
      },
      "source": [
        "def CallsTrain(Model, trainloader, testloader, Epochs, name):  \n",
        "    stats = []\n",
        "    for epoch in range(1, Epochs):  # loop over the dataset multiple times\n",
        "        train_loss, running_loss = 0.0, 0.0\n",
        "        valid_loss, val_loss = 0.0, 0.0\n",
        "        t_accuracy, v_accuracy = [], []\n",
        "        t_f1, v_f1 = [], []\n",
        "        Model.train()\n",
        "        cls_preds, cls_tars = [], [] \n",
        "        tr_pbar = tqdm(enumerate(trainloader, 0)) \n",
        "        for tr_batch, data in tr_pbar:    # Getting the batches every iteration\n",
        "            tr_pbar.set_description(f'Epoch no: {epoch}/{Epochs} Training batch no {tr_batch}')\n",
        "            ids = data['ids']\n",
        "            masks = data['mask']\n",
        "            target = torch.nn.functional.one_hot(data['targets'], 5)\n",
        "            one_hot = target.to(device, dtype = torch.float)\n",
        "            optimizer.zero_grad()\n",
        "            outputs = Model(ids, masks)\n",
        "            # loss = criterion(outputs.logits, one_hot)   #----> compute loss\n",
        "            loss = criterion(outputs, one_hot)   #----> compute loss\n",
        "\n",
        "            loss.backward()                     #----> backward pass\n",
        "            optimizer.step()                   #----> weights update\n",
        "\n",
        "            softm = torch.nn.Softmax(dim=1)\n",
        "            # preds = torch.argmax(softm(outputs.logits),dim=2).cpu().detach().numpy()\n",
        "            preds = torch.argmax(softm(outputs),dim=2).cpu().detach().numpy()\n",
        "\n",
        "            acc = accuracy_score(data['targets'].flatten().cpu().numpy(), preds.flatten())\n",
        "            t_accuracy.append(acc)\n",
        "            f1 = f1_score(data['targets'].flatten().cpu().numpy(), preds.flatten(), average='weighted')\n",
        "            t_f1.append(f1)\n",
        "            running_loss += loss.item()        # Adding loss for every batch size\n",
        "        epoch_acc = np.mean(t_accuracy)\n",
        "        epoch_f1 = np.mean(t_f1)\n",
        "        train_loss = running_loss / len(trainloader)\n",
        "\n",
        "        # with torch.no_grad():\n",
        "        Model.eval()\n",
        "        val_pbar = tqdm(enumerate(testloader, 0)) \n",
        "        for val_batch, v_data in val_pbar:\n",
        "            val_pbar.set_description(f'Epoch no: {epoch}/{Epochs} Validation batch no {val_batch}')\n",
        "            id = v_data['ids']\n",
        "            mask = v_data['mask']\n",
        "            targets = torch.nn.functional.one_hot(v_data['targets'], 5)\n",
        "            one_hot = targets.to(device, dtype = torch.float)\n",
        "            optimizer.zero_grad()\n",
        "            out = Model(id, mask)\n",
        "            # loss = criterion(out.logits, one_hot)   #----> compute loss\n",
        "            loss = criterion(out, one_hot)\n",
        "            \n",
        "            # v_preds = torch.argmax(softm(out.logits),dim=2).cpu().detach().numpy()\n",
        "            v_preds = torch.argmax(softm(out),dim=2).cpu().detach().numpy()\n",
        "            acc = accuracy_score(v_data['targets'].flatten().cpu().numpy(), v_preds.flatten())\n",
        "            v_accuracy.append(acc)\n",
        "            vf1 = f1_score(v_data['targets'].flatten().cpu().numpy(), v_preds.flatten(), average='weighted')\n",
        "            v_f1.append(vf1)\n",
        "            val_loss += loss.item()\n",
        "            cls_tars.extend(v_data['targets'].cpu().numpy())\n",
        "            cls_preds.extend(v_preds)\n",
        "\n",
        "        epoch_vacc = np.mean(v_accuracy)\n",
        "        epoch_vf1 = np.mean(v_f1)        \n",
        "        valid_loss = val_loss / len(testloader)\n",
        "\n",
        "        print(f'\\nTraining loss: {train_loss}, Training Accuracy: {100*epoch_acc}, Training F1 Score: {epoch_f1}')\n",
        "        print(f'Validation loss: {valid_loss}, Validation Accuracy: {100*epoch_vacc}, Validation F1 Score: {epoch_vf1}')\n",
        "        print(f'Precision: {precision_score(np.array(cls_tars).flatten(), np.array(cls_preds).flatten(), zero_division=1, average=\"weighted\")}')\n",
        "        print(f'\\nRecall: {recall_score(np.array(cls_tars).flatten(), np.array(cls_preds).flatten(), zero_division=1, average=\"weighted\")}\\n')\n",
        "\n",
        "        stats.append([train_loss, valid_loss, epoch_acc, epoch_vacc, epoch_f1, epoch_vf1])\n",
        "        history = pd.DataFrame(stats, columns=['train_loss', 'valid_loss', 'train_acc', 'valid_acc', 'train_f1', 'valid_f1'])\n",
        "        torch.save(model.state_dict(), name)\n",
        "        history.to_csv(\"/content/drive/MyDrive/punctuation data/history.csv\")\n",
        "        if epoch % 5 == 0: plotCurves(history, '/content/drive/MyDrive/punctuation data/', True)\n",
        "    return model, history"
      ],
      "execution_count": 28,
      "outputs": []
    },
    {
      "cell_type": "code",
      "metadata": {
        "colab": {
          "base_uri": "https://localhost:8080/",
          "height": 1000
        },
        "id": "v8dr2JNnpsUv",
        "outputId": "a922f7ea-054f-42d5-ea36-3fabb9aadd76"
      },
      "source": [
        "model, history = CallsTrain(model, training_loader, testing_loader, Epochs = 50, name = '/content/drive/MyDrive/punctuation data/Aze2_Bert.pt')"
      ],
      "execution_count": 29,
      "outputs": [
        {
          "output_type": "stream",
          "text": [
            "Epoch no: 1/50 Training batch no 2005: : 2006it [12:41,  2.63it/s]\n",
            "Epoch no: 1/50 Validation batch no 1336: : 1337it [02:53,  7.72it/s]\n"
          ],
          "name": "stderr"
        },
        {
          "output_type": "stream",
          "text": [
            "\n",
            "Training loss: 0.30687193670574714, Training Accuracy: 36.62383617377036, Training F1 Score: 0.49243761068549086\n",
            "Validation loss: 0.23006778097277536, Validation Accuracy: 58.3206728371977, Validation F1 Score: 0.695799909446828\n",
            "Precision: 0.8723254624526777\n",
            "\n",
            "Recall: 0.5832067283719771\n",
            "\n"
          ],
          "name": "stdout"
        },
        {
          "output_type": "stream",
          "text": [
            "Epoch no: 2/50 Training batch no 2005: : 2006it [12:41,  2.63it/s]\n",
            "Epoch no: 2/50 Validation batch no 1336: : 1337it [02:52,  7.74it/s]\n"
          ],
          "name": "stderr"
        },
        {
          "output_type": "stream",
          "text": [
            "\n",
            "Training loss: 0.22862150129357933, Training Accuracy: 44.711162735751074, Training F1 Score: 0.581548985925866\n",
            "Validation loss: 0.22453499875723112, Validation Accuracy: 59.76245987596609, Validation F1 Score: 0.70753480483657\n",
            "Precision: 0.878347790835063\n",
            "\n",
            "Recall: 0.5976245987596609\n",
            "\n"
          ],
          "name": "stdout"
        },
        {
          "output_type": "stream",
          "text": [
            "Epoch no: 3/50 Training batch no 2005: : 2006it [12:41,  2.64it/s]\n",
            "Epoch no: 3/50 Validation batch no 1336: : 1337it [02:52,  7.76it/s]\n"
          ],
          "name": "stderr"
        },
        {
          "output_type": "stream",
          "text": [
            "\n",
            "Training loss: 0.22459479188128698, Training Accuracy: 49.85463531281156, Training F1 Score: 0.6283344002301731\n",
            "Validation loss: 0.22108247870594686, Validation Accuracy: 60.01946794751931, Validation F1 Score: 0.7103357462872899\n",
            "Precision: 0.8831375599525076\n",
            "\n",
            "Recall: 0.6001946794751932\n",
            "\n"
          ],
          "name": "stdout"
        },
        {
          "output_type": "stream",
          "text": [
            "Epoch no: 4/50 Training batch no 2005: : 2006it [12:40,  2.64it/s]\n",
            "Epoch no: 4/50 Validation batch no 1336: : 1337it [02:52,  7.76it/s]\n"
          ],
          "name": "stderr"
        },
        {
          "output_type": "stream",
          "text": [
            "\n",
            "Training loss: 0.2217766200438335, Training Accuracy: 53.46139316425723, Training F1 Score: 0.6595230660817206\n",
            "Validation loss: 0.2185597278640265, Validation Accuracy: 59.89812196148093, Validation F1 Score: 0.7099388903517097\n",
            "Precision: 0.8863229652842685\n",
            "\n",
            "Recall: 0.5989812196148093\n",
            "\n"
          ],
          "name": "stdout"
        },
        {
          "output_type": "stream",
          "text": [
            "Epoch no: 5/50 Training batch no 2005: : 2006it [12:41,  2.63it/s]\n",
            "Epoch no: 5/50 Validation batch no 1336: : 1337it [02:53,  7.70it/s]\n"
          ],
          "name": "stderr"
        },
        {
          "output_type": "stream",
          "text": [
            "\n",
            "Training loss: 0.21949604559218064, Training Accuracy: 55.77143893839316, Training F1 Score: 0.6787309311325778\n",
            "Validation loss: 0.21639539419534765, Validation Accuracy: 59.755496603091494, Validation F1 Score: 0.7093396138028142\n",
            "Precision: 0.888688065267403\n",
            "\n",
            "Recall: 0.597554966030915\n",
            "\n"
          ],
          "name": "stdout"
        },
        {
          "output_type": "stream",
          "text": [
            "Epoch no: 6/50 Training batch no 2005: : 2006it [12:41,  2.63it/s]\n",
            "Epoch no: 6/50 Validation batch no 1336: : 1337it [02:53,  7.70it/s]\n"
          ],
          "name": "stderr"
        },
        {
          "output_type": "stream",
          "text": [
            "\n",
            "Training loss: 0.21745997673255257, Training Accuracy: 57.188850116317724, Training F1 Score: 0.6901730165589822\n",
            "Validation loss: 0.21447068087271817, Validation Accuracy: 59.9111233171279, Validation F1 Score: 0.7105871210309533\n",
            "Precision: 0.8905111597962512\n",
            "\n",
            "Recall: 0.599111233171279\n",
            "\n"
          ],
          "name": "stdout"
        },
        {
          "output_type": "stream",
          "text": [
            "Epoch no: 7/50 Training batch no 2005: : 2006it [12:41,  2.63it/s]\n",
            "Epoch no: 7/50 Validation batch no 1336: : 1337it [02:53,  7.70it/s]\n"
          ],
          "name": "stderr"
        },
        {
          "output_type": "stream",
          "text": [
            "\n",
            "Training loss: 0.21558128997074405, Training Accuracy: 58.15423196556164, Training F1 Score: 0.6978981560026936\n",
            "Validation loss: 0.21264358710779035, Validation Accuracy: 60.36044919440289, Validation F1 Score: 0.7141605823697347\n",
            "Precision: 0.8921049632762277\n",
            "\n",
            "Recall: 0.6036044919440289\n",
            "\n"
          ],
          "name": "stdout"
        },
        {
          "output_type": "stream",
          "text": [
            "Epoch no: 8/50 Training batch no 2005: : 2006it [12:41,  2.63it/s]\n",
            "Epoch no: 8/50 Validation batch no 1336: : 1337it [02:52,  7.76it/s]\n"
          ],
          "name": "stderr"
        },
        {
          "output_type": "stream",
          "text": [
            "\n",
            "Training loss: 0.21373052490227007, Training Accuracy: 58.90948573550182, Training F1 Score: 0.7038148160081278\n",
            "Validation loss: 0.21079052203434478, Validation Accuracy: 61.20044876589379, Validation F1 Score: 0.7205508487665717\n",
            "Precision: 0.893667408522774\n",
            "\n",
            "Recall: 0.6120044876589379\n",
            "\n"
          ],
          "name": "stdout"
        },
        {
          "output_type": "stream",
          "text": [
            "Epoch no: 9/50 Training batch no 2005: : 2006it [12:40,  2.64it/s]\n",
            "Epoch no: 9/50 Validation batch no 1336: : 1337it [02:52,  7.76it/s]\n"
          ],
          "name": "stderr"
        },
        {
          "output_type": "stream",
          "text": [
            "\n",
            "Training loss: 0.2118612910627368, Training Accuracy: 59.7472394015869, Training F1 Score: 0.7103310861803908\n",
            "Validation loss: 0.20874526973036392, Validation Accuracy: 62.365701352530536, Validation F1 Score: 0.7293614093756626\n",
            "Precision: 0.895420358717266\n",
            "\n",
            "Recall: 0.6236570135253054\n",
            "\n"
          ],
          "name": "stdout"
        },
        {
          "output_type": "stream",
          "text": [
            "Epoch no: 10/50 Training batch no 2005: : 2006it [12:40,  2.64it/s]\n",
            "Epoch no: 10/50 Validation batch no 1336: : 1337it [02:52,  7.76it/s]\n"
          ],
          "name": "stderr"
        },
        {
          "output_type": "stream",
          "text": [
            "\n",
            "Training loss: 0.20983434157262176, Training Accuracy: 60.854578192505805, Training F1 Score: 0.7188574468195175\n",
            "Validation loss: 0.20651619883063307, Validation Accuracy: 64.21795628428072, Validation F1 Score: 0.7430605697824311\n",
            "Precision: 0.8972856155782797\n",
            "\n",
            "Recall: 0.6421795628428073\n",
            "\n"
          ],
          "name": "stdout"
        },
        {
          "output_type": "stream",
          "text": [
            "Epoch no: 11/50 Training batch no 2005: : 2006it [12:40,  2.64it/s]\n",
            "Epoch no: 11/50 Validation batch no 1336: : 1337it [02:52,  7.73it/s]\n"
          ],
          "name": "stderr"
        },
        {
          "output_type": "stream",
          "text": [
            "\n",
            "Training loss: 0.20763474731062606, Training Accuracy: 62.42176789942672, Training F1 Score: 0.7305906282753097\n",
            "Validation loss: 0.204058373841494, Validation Accuracy: 66.64219782317377, Validation F1 Score: 0.7607119344855301\n",
            "Precision: 0.899624336041781\n",
            "\n",
            "Recall: 0.6664219782317378\n",
            "\n"
          ],
          "name": "stdout"
        },
        {
          "output_type": "stream",
          "text": [
            "Epoch no: 12/50 Training batch no 2005: : 2006it [12:41,  2.63it/s]\n",
            "Epoch no: 12/50 Validation batch no 1336: : 1337it [02:52,  7.73it/s]\n"
          ],
          "name": "stderr"
        },
        {
          "output_type": "stream",
          "text": [
            "\n",
            "Training loss: 0.2052238826841443, Training Accuracy: 64.61343508536889, Training F1 Score: 0.7466659623556525\n",
            "Validation loss: 0.20139026647418315, Validation Accuracy: 69.91556909904013, Validation F1 Score: 0.7837682382836066\n",
            "Precision: 0.9024687404983011\n",
            "\n",
            "Recall: 0.6991556909904014\n",
            "\n"
          ],
          "name": "stdout"
        },
        {
          "output_type": "stream",
          "text": [
            "Epoch no: 13/50 Training batch no 2005: : 2006it [12:40,  2.64it/s]\n",
            "Epoch no: 13/50 Validation batch no 1336: : 1337it [02:52,  7.77it/s]\n"
          ],
          "name": "stderr"
        },
        {
          "output_type": "stream",
          "text": [
            "\n",
            "Training loss: 0.20249945937042102, Training Accuracy: 67.45919468158026, Training F1 Score: 0.7670985410850729\n",
            "Validation loss: 0.19841358454573396, Validation Accuracy: 73.79676592495636, Validation F1 Score: 0.8104741388193728\n",
            "Precision: 0.9060872231364603\n",
            "\n",
            "Recall: 0.7379676592495636\n",
            "\n"
          ],
          "name": "stdout"
        },
        {
          "output_type": "stream",
          "text": [
            "Epoch no: 14/50 Training batch no 2005: : 2006it [12:40,  2.64it/s]\n",
            "Epoch no: 14/50 Validation batch no 1336: : 1337it [02:52,  7.77it/s]\n"
          ],
          "name": "stderr"
        },
        {
          "output_type": "stream",
          "text": [
            "\n",
            "Training loss: 0.19947900409891028, Training Accuracy: 70.9373507082918, Training F1 Score: 0.7913959375230389\n",
            "Validation loss: 0.1951227645733148, Validation Accuracy: 77.76059683526552, Validation F1 Score: 0.8371509883270186\n",
            "Precision: 0.9106995308688277\n",
            "\n",
            "Recall: 0.7776059683526552\n",
            "\n"
          ],
          "name": "stdout"
        },
        {
          "output_type": "stream",
          "text": [
            "Epoch no: 15/50 Training batch no 2005: : 2006it [12:40,  2.64it/s]\n",
            "Epoch no: 15/50 Validation batch no 1336: : 1337it [02:52,  7.77it/s]\n"
          ],
          "name": "stderr"
        },
        {
          "output_type": "stream",
          "text": [
            "\n",
            "Training loss: 0.1963102975609533, Training Accuracy: 74.58097712072116, Training F1 Score: 0.8162600616497984\n",
            "Validation loss: 0.19174680854949652, Validation Accuracy: 81.0934967900773, Validation F1 Score: 0.859445984507334\n",
            "Precision: 0.915950472535207\n",
            "\n",
            "Recall: 0.8109349679007729\n",
            "\n"
          ],
          "name": "stdout"
        },
        {
          "output_type": "stream",
          "text": [
            "Epoch no: 16/50 Training batch no 2005: : 2006it [12:40,  2.64it/s]\n",
            "Epoch no: 16/50 Validation batch no 1336: : 1337it [02:52,  7.77it/s]\n"
          ],
          "name": "stderr"
        },
        {
          "output_type": "stream",
          "text": [
            "\n",
            "Training loss: 0.1931110129191179, Training Accuracy: 77.92022694936026, Training F1 Score: 0.8386010898420141\n",
            "Validation loss: 0.1884168041514744, Validation Accuracy: 83.45704098884319, Validation F1 Score: 0.8754869106257573\n",
            "Precision: 0.9214109773911976\n",
            "\n",
            "Recall: 0.8345704098884318\n",
            "\n"
          ],
          "name": "stdout"
        },
        {
          "output_type": "stream",
          "text": [
            "Epoch no: 17/50 Training batch no 2005: : 2006it [12:40,  2.64it/s]\n",
            "Epoch no: 17/50 Validation batch no 1336: : 1337it [02:52,  7.77it/s]\n"
          ],
          "name": "stderr"
        },
        {
          "output_type": "stream",
          "text": [
            "\n",
            "Training loss: 0.18997168555068353, Training Accuracy: 80.72759261278664, Training F1 Score: 0.8573368625353155\n",
            "Validation loss: 0.18512754680598595, Validation Accuracy: 85.19596013307155, Validation F1 Score: 0.8877139761446337\n",
            "Precision: 0.9270882001348626\n",
            "\n",
            "Recall: 0.8519596013307156\n",
            "\n"
          ],
          "name": "stdout"
        },
        {
          "output_type": "stream",
          "text": [
            "Epoch no: 18/50 Training batch no 2005: : 2006it [12:40,  2.64it/s]\n",
            "Epoch no: 18/50 Validation batch no 1336: : 1337it [02:52,  7.77it/s]\n"
          ],
          "name": "stderr"
        },
        {
          "output_type": "stream",
          "text": [
            "\n",
            "Training loss: 0.1868699258146947, Training Accuracy: 83.04933831318544, Training F1 Score: 0.8730293433990822\n",
            "Validation loss: 0.18200170162371404, Validation Accuracy: 86.85278082928197, Validation F1 Score: 0.8996029779036873\n",
            "Precision: 0.933335875430052\n",
            "\n",
            "Recall: 0.8685278082928197\n",
            "\n"
          ],
          "name": "stdout"
        },
        {
          "output_type": "stream",
          "text": [
            "Epoch no: 19/50 Training batch no 2005: : 2006it [12:40,  2.64it/s]\n",
            "Epoch no: 19/50 Validation batch no 1336: : 1337it [02:52,  7.75it/s]\n"
          ],
          "name": "stderr"
        },
        {
          "output_type": "stream",
          "text": [
            "\n",
            "Training loss: 0.18401464984073476, Training Accuracy: 84.96225191612662, Training F1 Score: 0.8862230304517762\n",
            "Validation loss: 0.1791802388389519, Validation Accuracy: 88.09058779761905, Validation F1 Score: 0.9086937893669327\n",
            "Precision: 0.9387522504569976\n",
            "\n",
            "Recall: 0.8809058779761905\n",
            "\n"
          ],
          "name": "stdout"
        },
        {
          "output_type": "stream",
          "text": [
            "Epoch no: 20/50 Training batch no 2005: : 2006it [12:41,  2.64it/s]\n",
            "Epoch no: 20/50 Validation batch no 1336: : 1337it [02:52,  7.75it/s]\n"
          ],
          "name": "stderr"
        },
        {
          "output_type": "stream",
          "text": [
            "\n",
            "Training loss: 0.18137257828461684, Training Accuracy: 86.45968020417914, Training F1 Score: 0.8967600437522791\n",
            "Validation loss: 0.17674794268189034, Validation Accuracy: 89.17035768823234, Validation F1 Score: 0.9165892936602238\n",
            "Precision: 0.9434645258086546\n",
            "\n",
            "Recall: 0.8917035768823236\n",
            "\n"
          ],
          "name": "stdout"
        },
        {
          "output_type": "stream",
          "text": [
            "Epoch no: 21/50 Training batch no 2005: : 2006it [12:40,  2.64it/s]\n",
            "Epoch no: 21/50 Validation batch no 1336: : 1337it [02:52,  7.75it/s]\n"
          ],
          "name": "stderr"
        },
        {
          "output_type": "stream",
          "text": [
            "\n",
            "Training loss: 0.17909368536883552, Training Accuracy: 87.62845577849782, Training F1 Score: 0.9051413609961075\n",
            "Validation loss: 0.17461109108994413, Validation Accuracy: 90.03709038425579, Validation F1 Score: 0.9228822005122321\n",
            "Precision: 0.9472953231920123\n",
            "\n",
            "Recall: 0.9003709038425579\n",
            "\n"
          ],
          "name": "stdout"
        },
        {
          "output_type": "stream",
          "text": [
            "Epoch no: 22/50 Training batch no 2005: : 2006it [12:40,  2.64it/s]\n",
            "Epoch no: 22/50 Validation batch no 1336: : 1337it [02:52,  7.76it/s]\n"
          ],
          "name": "stderr"
        },
        {
          "output_type": "stream",
          "text": [
            "\n",
            "Training loss: 0.17709307238117886, Training Accuracy: 88.5770260832087, Training F1 Score: 0.9120118743499691\n",
            "Validation loss: 0.1727456576514797, Validation Accuracy: 90.72798826664173, Validation F1 Score: 0.9278619824336874\n",
            "Precision: 0.9503228585587035\n",
            "\n",
            "Recall: 0.9072798826664173\n",
            "\n"
          ],
          "name": "stdout"
        },
        {
          "output_type": "stream",
          "text": [
            "Epoch no: 23/50 Training batch no 2005: : 2006it [12:40,  2.64it/s]\n",
            "Epoch no: 23/50 Validation batch no 1336: : 1337it [02:52,  7.75it/s]\n"
          ],
          "name": "stderr"
        },
        {
          "output_type": "stream",
          "text": [
            "\n",
            "Training loss: 0.17528408334208867, Training Accuracy: 89.30912341101694, Training F1 Score: 0.9172266968296919\n",
            "Validation loss: 0.1710395902930219, Validation Accuracy: 91.26087341841188, Validation F1 Score: 0.9316689840996846\n",
            "Precision: 0.9526544833891238\n",
            "\n",
            "Recall: 0.9126087341841187\n",
            "\n"
          ],
          "name": "stdout"
        },
        {
          "output_type": "stream",
          "text": [
            "Epoch no: 24/50 Training batch no 2005: : 2006it [12:40,  2.64it/s]\n",
            "Epoch no: 24/50 Validation batch no 1336: : 1337it [02:52,  7.75it/s]\n"
          ],
          "name": "stderr"
        },
        {
          "output_type": "stream",
          "text": [
            "\n",
            "Training loss: 0.17365223783646838, Training Accuracy: 89.91401446701562, Training F1 Score: 0.9215917739140138\n",
            "Validation loss: 0.16941553793385034, Validation Accuracy: 91.75743268511593, Validation F1 Score: 0.93515224663852\n",
            "Precision: 0.9547444022413625\n",
            "\n",
            "Recall: 0.9175743268511594\n",
            "\n"
          ],
          "name": "stdout"
        },
        {
          "output_type": "stream",
          "text": [
            "Epoch no: 25/50 Training batch no 2005: : 2006it [12:40,  2.64it/s]\n",
            "Epoch no: 25/50 Validation batch no 1336: : 1337it [02:52,  7.76it/s]\n"
          ],
          "name": "stderr"
        },
        {
          "output_type": "stream",
          "text": [
            "\n",
            "Training loss: 0.17207405394535596, Training Accuracy: 90.45613809612829, Training F1 Score: 0.9254704063446456\n",
            "Validation loss: 0.16794149398179578, Validation Accuracy: 92.06673834455249, Validation F1 Score: 0.9373409963309719\n",
            "Precision: 0.956145382703845\n",
            "\n",
            "Recall: 0.9206673834455248\n",
            "\n"
          ],
          "name": "stdout"
        },
        {
          "output_type": "stream",
          "text": [
            "Epoch no: 26/50 Training batch no 2005: : 2006it [12:40,  2.64it/s]\n",
            "Epoch no: 26/50 Validation batch no 1336: : 1337it [02:52,  7.76it/s]\n"
          ],
          "name": "stderr"
        },
        {
          "output_type": "stream",
          "text": [
            "\n",
            "Training loss: 0.17063517277226492, Training Accuracy: 90.90626882373712, Training F1 Score: 0.928678473349112\n",
            "Validation loss: 0.16647299419790396, Validation Accuracy: 92.41219945929942, Validation F1 Score: 0.939782627060011\n",
            "Precision: 0.9576002678420474\n",
            "\n",
            "Recall: 0.9241219945929943\n",
            "\n"
          ],
          "name": "stdout"
        },
        {
          "output_type": "stream",
          "text": [
            "Epoch no: 27/50 Training batch no 2005: : 2006it [12:40,  2.64it/s]\n",
            "Epoch no: 27/50 Validation batch no 1336: : 1337it [02:52,  7.76it/s]\n"
          ],
          "name": "stderr"
        },
        {
          "output_type": "stream",
          "text": [
            "\n",
            "Training loss: 0.16922236513996408, Training Accuracy: 91.32181904806413, Training F1 Score: 0.931617685124001\n",
            "Validation loss: 0.16521565748758965, Validation Accuracy: 92.56626795842682, Validation F1 Score: 0.9407696680479587\n",
            "Precision: 0.9583149555710853\n",
            "\n",
            "Recall: 0.9256626795842683\n",
            "\n"
          ],
          "name": "stdout"
        },
        {
          "output_type": "stream",
          "text": [
            "Epoch no: 28/50 Training batch no 2005: : 2006it [12:40,  2.64it/s]\n",
            "Epoch no: 28/50 Validation batch no 1336: : 1337it [02:52,  7.76it/s]\n"
          ],
          "name": "stderr"
        },
        {
          "output_type": "stream",
          "text": [
            "\n",
            "Training loss: 0.16791445612610278, Training Accuracy: 91.66387556081754, Training F1 Score: 0.9340345783210814\n",
            "Validation loss: 0.1640730610224589, Validation Accuracy: 92.75525021035901, Validation F1 Score: 0.9420576186566747\n",
            "Precision: 0.9590776516036602\n",
            "\n",
            "Recall: 0.9275525021035901\n",
            "\n"
          ],
          "name": "stdout"
        },
        {
          "output_type": "stream",
          "text": [
            "Epoch no: 29/50 Training batch no 2005: : 2006it [12:40,  2.64it/s]\n",
            "Epoch no: 29/50 Validation batch no 1336: : 1337it [02:52,  7.76it/s]\n"
          ],
          "name": "stderr"
        },
        {
          "output_type": "stream",
          "text": [
            "\n",
            "Training loss: 0.16668910104577112, Training Accuracy: 91.9771609650216, Training F1 Score: 0.9362498970621478\n",
            "Validation loss: 0.16302472788759728, Validation Accuracy: 92.93103632978061, Validation F1 Score: 0.943209651212526\n",
            "Precision: 0.9597339384720528\n",
            "\n",
            "Recall: 0.929310363297806\n",
            "\n"
          ],
          "name": "stdout"
        },
        {
          "output_type": "stream",
          "text": [
            "Epoch no: 30/50 Training batch no 2005: : 2006it [12:40,  2.64it/s]\n",
            "Epoch no: 30/50 Validation batch no 1336: : 1337it [02:52,  7.76it/s]\n"
          ],
          "name": "stderr"
        },
        {
          "output_type": "stream",
          "text": [
            "\n",
            "Training loss: 0.16556423817829025, Training Accuracy: 92.26297344944334, Training F1 Score: 0.9382977480792589\n",
            "Validation loss: 0.16211296820827803, Validation Accuracy: 93.074708613812, Validation F1 Score: 0.94417078062527\n",
            "Precision: 0.9602870516085732\n",
            "\n",
            "Recall: 0.9307470861381202\n",
            "\n"
          ],
          "name": "stdout"
        },
        {
          "output_type": "stream",
          "text": [
            "Epoch no: 31/50 Training batch no 2005: : 2006it [12:40,  2.64it/s]\n",
            "Epoch no: 31/50 Validation batch no 1336: : 1337it [02:52,  7.76it/s]\n"
          ],
          "name": "stderr"
        },
        {
          "output_type": "stream",
          "text": [
            "\n",
            "Training loss: 0.16460262001273876, Training Accuracy: 92.5074223942755, Training F1 Score: 0.9400266546479781\n",
            "Validation loss: 0.16135005581575093, Validation Accuracy: 93.14684909467715, Validation F1 Score: 0.9445917217166445\n",
            "Precision: 0.9605740247395044\n",
            "\n",
            "Recall: 0.9314684909467714\n",
            "\n"
          ],
          "name": "stdout"
        },
        {
          "output_type": "stream",
          "text": [
            "Epoch no: 32/50 Training batch no 2005: : 2006it [12:40,  2.64it/s]\n",
            "Epoch no: 32/50 Validation batch no 1336: : 1337it [02:52,  7.76it/s]\n"
          ],
          "name": "stderr"
        },
        {
          "output_type": "stream",
          "text": [
            "\n",
            "Training loss: 0.16374241911313114, Training Accuracy: 92.7126660383433, Training F1 Score: 0.9414975526868384\n",
            "Validation loss: 0.16067664465667064, Validation Accuracy: 93.23111443530291, Validation F1 Score: 0.9451342409571195\n",
            "Precision: 0.9609212435914432\n",
            "\n",
            "Recall: 0.9323111443530292\n",
            "\n"
          ],
          "name": "stdout"
        },
        {
          "output_type": "stream",
          "text": [
            "Epoch no: 33/50 Training batch no 2005: : 2006it [12:40,  2.64it/s]\n",
            "Epoch no: 33/50 Validation batch no 1336: : 1337it [02:52,  7.75it/s]\n"
          ],
          "name": "stderr"
        },
        {
          "output_type": "stream",
          "text": [
            "\n",
            "Training loss: 0.16292695047432262, Training Accuracy: 92.88553610003322, Training F1 Score: 0.9427832703974013\n",
            "Validation loss: 0.1599973922869833, Validation Accuracy: 93.34152856987035, Validation F1 Score: 0.945905569483321\n",
            "Precision: 0.9613793981055462\n",
            "\n",
            "Recall: 0.9334152856987036\n",
            "\n"
          ],
          "name": "stdout"
        },
        {
          "output_type": "stream",
          "text": [
            "Epoch no: 34/50 Training batch no 2005: : 2006it [12:40,  2.64it/s]\n",
            "Epoch no: 34/50 Validation batch no 1336: : 1337it [02:52,  7.76it/s]\n"
          ],
          "name": "stderr"
        },
        {
          "output_type": "stream",
          "text": [
            "\n",
            "Training loss: 0.16224328042978303, Training Accuracy: 93.04149725303257, Training F1 Score: 0.943948377927574\n",
            "Validation loss: 0.1594567763533446, Validation Accuracy: 93.42705996010969, Validation F1 Score: 0.9465152874925434\n",
            "Precision: 0.9618057563977171\n",
            "\n",
            "Recall: 0.9342705996010969\n",
            "\n"
          ],
          "name": "stdout"
        },
        {
          "output_type": "stream",
          "text": [
            "Epoch no: 35/50 Training batch no 2005: : 2006it [12:40,  2.64it/s]\n",
            "Epoch no: 35/50 Validation batch no 1336: : 1337it [02:52,  7.76it/s]\n"
          ],
          "name": "stderr"
        },
        {
          "output_type": "stream",
          "text": [
            "\n",
            "Training loss: 0.16160054183226163, Training Accuracy: 93.18382742397806, Training F1 Score: 0.9449852483400607\n",
            "Validation loss: 0.15893480837033058, Validation Accuracy: 93.49610835826478, Validation F1 Score: 0.9470689267568532\n",
            "Precision: 0.9621814167688217\n",
            "\n",
            "Recall: 0.9349610835826477\n",
            "\n"
          ],
          "name": "stdout"
        },
        {
          "output_type": "stream",
          "text": [
            "Epoch no: 36/50 Training batch no 2005: : 2006it [12:40,  2.64it/s]\n",
            "Epoch no: 36/50 Validation batch no 1336: : 1337it [02:52,  7.76it/s]\n"
          ],
          "name": "stderr"
        },
        {
          "output_type": "stream",
          "text": [
            "\n",
            "Training loss: 0.16104606501126695, Training Accuracy: 93.301686736665, Training F1 Score: 0.9459323753441083\n",
            "Validation loss: 0.15855480706014113, Validation Accuracy: 93.49542663924207, Validation F1 Score: 0.9470688879878266\n",
            "Precision: 0.9623389904180714\n",
            "\n",
            "Recall: 0.9349542663924209\n",
            "\n"
          ],
          "name": "stdout"
        },
        {
          "output_type": "stream",
          "text": [
            "Epoch no: 37/50 Training batch no 2005: : 2006it [12:40,  2.64it/s]\n",
            "Epoch no: 37/50 Validation batch no 1336: : 1337it [02:52,  7.76it/s]\n"
          ],
          "name": "stderr"
        },
        {
          "output_type": "stream",
          "text": [
            "\n",
            "Training loss: 0.16048522805377233, Training Accuracy: 93.39007716434031, Training F1 Score: 0.946634507134351\n",
            "Validation loss: 0.15812332648435634, Validation Accuracy: 93.55816913643729, Validation F1 Score: 0.9475919064265471\n",
            "Precision: 0.9627515225063437\n",
            "\n",
            "Recall: 0.935581691364373\n",
            "\n"
          ],
          "name": "stdout"
        },
        {
          "output_type": "stream",
          "text": [
            "Epoch no: 38/50 Training batch no 2005: : 2006it [12:40,  2.64it/s]\n",
            "Epoch no: 38/50 Validation batch no 1336: : 1337it [02:52,  7.76it/s]\n"
          ],
          "name": "stderr"
        },
        {
          "output_type": "stream",
          "text": [
            "\n",
            "Training loss: 0.1600120258949333, Training Accuracy: 93.46822812811565, Training F1 Score: 0.9472790524526338\n",
            "Validation loss: 0.15768047607738578, Validation Accuracy: 93.62665755110946, Validation F1 Score: 0.9481857998684918\n",
            "Precision: 0.9631966212325012\n",
            "\n",
            "Recall: 0.9362665755110945\n",
            "\n"
          ],
          "name": "stdout"
        },
        {
          "output_type": "stream",
          "text": [
            "Epoch no: 39/50 Training batch no 2005: : 2006it [12:40,  2.64it/s]\n",
            "Epoch no: 39/50 Validation batch no 1336: : 1337it [02:52,  7.76it/s]\n"
          ],
          "name": "stderr"
        },
        {
          "output_type": "stream",
          "text": [
            "\n",
            "Training loss: 0.15957941595513228, Training Accuracy: 93.5459571805417, Training F1 Score: 0.9479333791350891\n",
            "Validation loss: 0.15734881034473386, Validation Accuracy: 93.64287272500623, Validation F1 Score: 0.9483930699581022\n",
            "Precision: 0.9634741727813438\n",
            "\n",
            "Recall: 0.9364287272500623\n",
            "\n"
          ],
          "name": "stdout"
        },
        {
          "output_type": "stream",
          "text": [
            "Epoch no: 40/50 Training batch no 2005: : 2006it [12:40,  2.64it/s]\n",
            "Epoch no: 40/50 Validation batch no 1336: : 1337it [02:52,  7.76it/s]\n"
          ],
          "name": "stderr"
        },
        {
          "output_type": "stream",
          "text": [
            "\n",
            "Training loss: 0.159182603455196, Training Accuracy: 93.60872460742772, Training F1 Score: 0.9484482995688442\n",
            "Validation loss: 0.1570711276628406, Validation Accuracy: 93.64391965064821, Validation F1 Score: 0.9485117074019044\n",
            "Precision: 0.9637323942445084\n",
            "\n",
            "Recall: 0.9364391965064822\n",
            "\n"
          ],
          "name": "stdout"
        },
        {
          "output_type": "stream",
          "text": [
            "Epoch no: 41/50 Training batch no 2005: : 2006it [12:40,  2.64it/s]\n",
            "Epoch no: 41/50 Validation batch no 1336: : 1337it [02:52,  7.75it/s]\n"
          ],
          "name": "stderr"
        },
        {
          "output_type": "stream",
          "text": [
            "\n",
            "Training loss: 0.1588652020214443, Training Accuracy: 93.64736195060651, Training F1 Score: 0.948807869188682\n",
            "Validation loss: 0.15677869043514278, Validation Accuracy: 93.63997541915981, Validation F1 Score: 0.9486008912212954\n",
            "Precision: 0.9639737663097369\n",
            "\n",
            "Recall: 0.9363997541915982\n",
            "\n"
          ],
          "name": "stdout"
        },
        {
          "output_type": "stream",
          "text": [
            "Epoch no: 42/50 Training batch no 2005: : 2006it [12:41,  2.64it/s]\n",
            "Epoch no: 42/50 Validation batch no 1336: : 1337it [02:52,  7.75it/s]\n"
          ],
          "name": "stderr"
        },
        {
          "output_type": "stream",
          "text": [
            "\n",
            "Training loss: 0.1584528546004091, Training Accuracy: 93.69787772100365, Training F1 Score: 0.9492989331405927\n",
            "Validation loss: 0.15642533439616257, Validation Accuracy: 93.69064175081029, Validation F1 Score: 0.9491388007638707\n",
            "Precision: 0.9644446331378749\n",
            "\n",
            "Recall: 0.9369064175081027\n",
            "\n"
          ],
          "name": "stdout"
        },
        {
          "output_type": "stream",
          "text": [
            "Epoch no: 43/50 Training batch no 2005: : 2006it [12:40,  2.64it/s]\n",
            "Epoch no: 43/50 Validation batch no 1336: : 1337it [02:52,  7.75it/s]\n"
          ],
          "name": "stderr"
        },
        {
          "output_type": "stream",
          "text": [
            "\n",
            "Training loss: 0.15818701111753347, Training Accuracy: 93.74324941841144, Training F1 Score: 0.9497282161874578\n",
            "Validation loss: 0.1562260322010865, Validation Accuracy: 93.64854560115931, Validation F1 Score: 0.948964312517514\n",
            "Precision: 0.9645775573551431\n",
            "\n",
            "Recall: 0.9364854560115932\n",
            "\n"
          ],
          "name": "stdout"
        },
        {
          "output_type": "stream",
          "text": [
            "Epoch no: 44/50 Training batch no 2005: : 2006it [12:41,  2.64it/s]\n",
            "Epoch no: 44/50 Validation batch no 1336: : 1337it [02:52,  7.74it/s]\n"
          ],
          "name": "stderr"
        },
        {
          "output_type": "stream",
          "text": [
            "\n",
            "Training loss: 0.15786789434916476, Training Accuracy: 93.76673040773512, Training F1 Score: 0.9499953053930246\n",
            "Validation loss: 0.15582572071964204, Validation Accuracy: 93.74513057840939, Validation F1 Score: 0.9498844752414485\n",
            "Precision: 0.9652461437305984\n",
            "\n",
            "Recall: 0.9374513057840937\n",
            "\n"
          ],
          "name": "stdout"
        },
        {
          "output_type": "stream",
          "text": [
            "Epoch no: 45/50 Training batch no 2005: : 2006it [12:41,  2.63it/s]\n",
            "Epoch no: 45/50 Validation batch no 1336: : 1337it [02:53,  7.69it/s]\n"
          ],
          "name": "stderr"
        },
        {
          "output_type": "stream",
          "text": [
            "\n",
            "Training loss: 0.15757977190693973, Training Accuracy: 93.80918118041708, Training F1 Score: 0.9504253249195618\n",
            "Validation loss: 0.1556751748565069, Validation Accuracy: 93.69487814759411, Validation F1 Score: 0.9496322610388663\n",
            "Precision: 0.9653718508393139\n",
            "\n",
            "Recall: 0.9369487814759412\n",
            "\n"
          ],
          "name": "stdout"
        },
        {
          "output_type": "stream",
          "text": [
            "Epoch no: 46/50 Training batch no 2005: : 2006it [12:42,  2.63it/s]\n",
            "Epoch no: 46/50 Validation batch no 1336: : 1337it [02:52,  7.75it/s]\n"
          ],
          "name": "stderr"
        },
        {
          "output_type": "stream",
          "text": [
            "\n",
            "Training loss: 0.15733135339329513, Training Accuracy: 93.8267229561316, Training F1 Score: 0.9506653088540025\n",
            "Validation loss: 0.15550638685140844, Validation Accuracy: 93.66578335359013, Validation F1 Score: 0.9495681890879497\n",
            "Precision: 0.9655597997421125\n",
            "\n",
            "Recall: 0.9366578335359013\n",
            "\n"
          ],
          "name": "stdout"
        },
        {
          "output_type": "stream",
          "text": [
            "Epoch no: 47/50 Training batch no 2005: : 2006it [12:41,  2.64it/s]\n",
            "Epoch no: 47/50 Validation batch no 1336: : 1337it [02:52,  7.75it/s]\n"
          ],
          "name": "stderr"
        },
        {
          "output_type": "stream",
          "text": [
            "\n",
            "Training loss: 0.15709248946558085, Training Accuracy: 93.85393623816051, Training F1 Score: 0.9510065332116729\n",
            "Validation loss: 0.15528829501650632, Validation Accuracy: 93.65341502274993, Validation F1 Score: 0.9496494328965385\n",
            "Precision: 0.9658124032172284\n",
            "\n",
            "Recall: 0.9365341502274994\n",
            "\n"
          ],
          "name": "stdout"
        },
        {
          "output_type": "stream",
          "text": [
            "Epoch no: 48/50 Training batch no 2005: : 2006it [12:41,  2.64it/s]\n",
            "Epoch no: 48/50 Validation batch no 1336: : 1337it [02:52,  7.75it/s]\n"
          ],
          "name": "stderr"
        },
        {
          "output_type": "stream",
          "text": [
            "\n",
            "Training loss: 0.15685958000028122, Training Accuracy: 93.86787554004653, Training F1 Score: 0.9511480795171148\n",
            "Validation loss: 0.155029170499333, Validation Accuracy: 93.6617417336699, Validation F1 Score: 0.949890802700096\n",
            "Precision: 0.9661707408399526\n",
            "\n",
            "Recall: 0.9366174173366991\n",
            "\n"
          ],
          "name": "stdout"
        },
        {
          "output_type": "stream",
          "text": [
            "Epoch no: 49/50 Training batch no 2005: : 2006it [12:41,  2.64it/s]\n",
            "Epoch no: 49/50 Validation batch no 1336: : 1337it [02:52,  7.74it/s]\n"
          ],
          "name": "stderr"
        },
        {
          "output_type": "stream",
          "text": [
            "\n",
            "Training loss: 0.15661435441326643, Training Accuracy: 93.89533223246926, Training F1 Score: 0.9514727930491466\n",
            "Validation loss: 0.15481438677794201, Validation Accuracy: 93.66069480802793, Validation F1 Score: 0.9500926279478245\n",
            "Precision: 0.9664617537206477\n",
            "\n",
            "Recall: 0.9366069480802792\n",
            "\n"
          ],
          "name": "stdout"
        },
        {
          "output_type": "display_data",
          "data": {
            "image/png": "[encoded data removed]",
            "text/plain": [
              "<Figure size 432x288 with 4 Axes>"
            ]
          },
          "metadata": {
            "tags": [],
            "needs_background": "light"
          }
        },
        {
          "output_type": "display_data",
          "data": {
            "image/png": "[encoded data removed]",
            "text/plain": [
              "<Figure size 432x288 with 4 Axes>"
            ]
          },
          "metadata": {
            "tags": [],
            "needs_background": "light"
          }
        },
        {
          "output_type": "display_data",
          "data": {
            "image/png": "[encoded data removed]",
            "text/plain": [
              "<Figure size 432x288 with 4 Axes>"
            ]
          },
          "metadata": {
            "tags": [],
            "needs_background": "light"
          }
        },
        {
          "output_type": "display_data",
          "data": {
            "image/png": "[encoded data removed]",
            "text/plain": [
              "<Figure size 432x288 with 4 Axes>"
            ]
          },
          "metadata": {
            "tags": [],
            "needs_background": "light"
          }
        },
        {
          "output_type": "display_data",
          "data": {
            "image/png": "[encoded data removed]",
            "text/plain": [
              "<Figure size 432x288 with 4 Axes>"
            ]
          },
          "metadata": {
            "tags": [],
            "needs_background": "light"
          }
        },
        {
          "output_type": "display_data",
          "data": {
            "image/png": "[encoded data removed]",
            "text/plain": [
              "<Figure size 432x288 with 4 Axes>"
            ]
          },
          "metadata": {
            "tags": [],
            "needs_background": "light"
          }
        },
        {
          "output_type": "display_data",
          "data": {
            "image/png": "[encoded data removed]",
            "text/plain": [
              "<Figure size 432x288 with 4 Axes>"
            ]
          },
          "metadata": {
            "tags": [],
            "needs_background": "light"
          }
        },
        {
          "output_type": "display_data",
          "data": {
            "image/png": "[encoded data removed]",
            "text/plain": [
              "<Figure size 432x288 with 4 Axes>"
            ]
          },
          "metadata": {
            "tags": [],
            "needs_background": "light"
          }
        },
        {
          "output_type": "display_data",
          "data": {
            "image/png": "[encoded data removed]",
            "text/plain": [
              "<Figure size 432x288 with 4 Axes>"
            ]
          },
          "metadata": {
            "tags": [],
            "needs_background": "light"
          }
        }
      ]
    },
    {
      "cell_type": "code",
      "metadata": {
        "id": "Ml1ZOYZ6N6uK",
        "colab": {
          "base_uri": "https://localhost:8080/",
          "height": 1000
        },
        "outputId": "e810800a-ecaa-4186-ae3b-fb248aa8b185"
      },
      "source": [
        "import matplotlib.pyplot as plt\n",
        "\n",
        "plt.figure(figsize=(6, 6))\n",
        "for c in ['train_loss', 'valid_loss']:\n",
        "    plt.plot(\n",
        "        history[c], label=c)\n",
        "plt.legend()\n",
        "plt.xlabel('Epoch')\n",
        "plt.ylabel('BCE loss')\n",
        "plt.title('Training and Validation Losses')\n",
        "\n",
        "plt.figure(figsize=(6, 6))\n",
        "for c in ['train_acc', 'valid_acc']:\n",
        "    plt.plot(\n",
        "        100 * history[c], label=c)\n",
        "plt.legend()\n",
        "plt.xlabel('Epoch')\n",
        "plt.ylabel('Average Accuracy')\n",
        "plt.title('Training and Validation Accuracy')\n",
        "\n",
        "plt.figure(figsize=(6, 6))\n",
        "for c in ['train_f1', 'valid_f1']:\n",
        "    plt.plot(\n",
        "        100 * history[c], label=c)\n",
        "plt.legend()\n",
        "plt.xlabel('Epoch')\n",
        "plt.ylabel('Average F1')\n",
        "plt.title('Training and Validation F1')"
      ],
      "execution_count": 30,
      "outputs": [
        {
          "output_type": "execute_result",
          "data": {
            "text/plain": [
              "Text(0.5, 1.0, 'Training and Validation F1')"
            ]
          },
          "metadata": {
            "tags": []
          },
          "execution_count": 30
        },
        {
          "output_type": "display_data",
          "data": {
            "image/png": "[encoded data removed]",
            "text/plain": [
              "<Figure size 432x432 with 1 Axes>"
            ]
          },
          "metadata": {
            "tags": [],
            "needs_background": "light"
          }
        },
        {
          "output_type": "display_data",
          "data": {
            "image/png": "[encoded data removed]",
            "text/plain": [
              "<Figure size 432x432 with 1 Axes>"
            ]
          },
          "metadata": {
            "tags": [],
            "needs_background": "light"
          }
        },
        {
          "output_type": "display_data",
          "data": {
            "image/png": "[encoded data removed]",
            "text/plain": [
              "<Figure size 432x432 with 1 Axes>"
            ]
          },
          "metadata": {
            "tags": [],
            "needs_background": "light"
          }
        }
      ]
    },
    {
      "cell_type": "code",
      "metadata": {
        "id": "UUk9K_nBZZ99"
      },
      "source": [
        "history.to_csv('./drive/MyDrive/history.csv')"
      ],
      "execution_count": null,
      "outputs": []
    },
    {
      "cell_type": "code",
      "metadata": {
        "id": "Rrm7CduMudPZ"
      },
      "source": [
        "device = torch.device(\"cpu\")\n",
        "model.to(device)\n",
        "test = \"aliyeva zemfira musakızı, yılının. \"\n",
        "processed_test = tokenizer(list(test), truncation=True, is_split_into_words=True)\n",
        "x = torch.tensor(processed_test['input_ids'], dtype=torch.long)\n",
        "y = torch.tensor(processed_test['attention_mask'], dtype=torch.long)\n",
        "x = torch.unsqueeze(x, dim=0)\n",
        "y = torch.unsqueeze(y, dim=0)"
      ],
      "execution_count": null,
      "outputs": []
    },
    {
      "cell_type": "code",
      "metadata": {
        "id": "HB_sWp2_ofvt"
      },
      "source": [
        "# def validation(epoch, data_loader):\n",
        "#     # model2.eval()\n",
        "#     fin_targets=[]\n",
        "#     fin_outputs=[]\n",
        "#     softm = torch.nn.Softmax(dim=1)\n",
        "#     with torch.no_grad():\n",
        "#         for _, data in enumerate(data_loader, 0):\n",
        "#             # start_time = time.time()\n",
        "#             ids = data['ids'].to(device, dtype = torch.long)\n",
        "#             mask = data['mask'].to(device, dtype = torch.long)\n",
        "#             # token_type_ids = data['token_type_ids'].to(device, dtype = torch.long)\n",
        "#             targets = data['targets'].to(device, dtype = torch.long)\n",
        "#             outputs = model(ids, mask)\n",
        "#             fin_targets.extend(targets.cpu().detach().numpy().tolist())\n",
        "#             fin_outputs.extend(torch.argmax(softm(outputs.logits),dim=1).cpu().detach().numpy().tolist())\n",
        "#             # print(\"--- %s seconds ---\" % (time.time() - start_time))\n",
        "#     return outputs, fin_outputs, fin_targets"
      ],
      "execution_count": null,
      "outputs": []
    },
    {
      "cell_type": "code",
      "metadata": {
        "id": "Pri5vmvTzONB"
      },
      "source": [
        "softm = torch.nn.Softmax(dim=1)\n",
        "ids = x.to(device, dtype = torch.long)\n",
        "mask = y.to(device, dtype = torch.long)\n",
        "outputs = model(ids, mask)\n",
        "print(outputs.logits.shape)\n",
        "fin_outputs = (torch.argmax(softm(outputs.logits),dim=2).cpu().detach().numpy())"
      ],
      "execution_count": null,
      "outputs": []
    },
    {
      "cell_type": "code",
      "metadata": {
        "id": "DDsIkdfbvCx1"
      },
      "source": [
        "xx = tokenizer.tokenize(test)"
      ],
      "execution_count": null,
      "outputs": []
    },
    {
      "cell_type": "code",
      "metadata": {
        "id": "BKGxXxwwz92y"
      },
      "source": [
        "fin_outputs.shape"
      ],
      "execution_count": null,
      "outputs": []
    },
    {
      "cell_type": "code",
      "metadata": {
        "id": "ZvDGEwKqz9vR"
      },
      "source": [
        "indexed_tokens = tokenizer.convert_tokens_to_string(xx)\n",
        "indexed_tokens"
      ],
      "execution_count": null,
      "outputs": []
    },
    {
      "cell_type": "code",
      "metadata": {
        "id": "KSiOauQkxbxr"
      },
      "source": [
        ""
      ],
      "execution_count": null,
      "outputs": []
    }
  ]
}